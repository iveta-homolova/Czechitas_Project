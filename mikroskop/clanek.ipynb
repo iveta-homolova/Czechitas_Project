{
 "cells": [
  {
   "cell_type": "code",
   "execution_count": null,
   "metadata": {},
   "outputs": [],
   "source": [
    "data1['DateTime'] = data1['Date'].astype(str) + \" \" + data1['Time'].astype(str)  # převod datového typu a sloučení sloupců\n",
    "\n",
    "data1['DateTime'] =  pn.to_datetime(data1[\"DateTime\"], format=\"%m/%d/%Y %H:%M:%S.%f\") # převod na datetime formát\n",
    "\n",
    "first_column = data1.pop('DateTime')     # přesun sloupce na první místo\n",
    "data1.insert(0, 'DateTime', first_column)   \n",
    "\n",
    "data1  = data1.drop(['Date', 'Time'], axis = 'columns')  # smazání původních sloupců datum + čas\n",
    "\n"
   ]
  },
  {
   "cell_type": "code",
   "execution_count": null,
   "metadata": {},
   "outputs": [],
   "source": [
    "data1 = data1.ffill(axis = 'index')       #doplnění chybějícich hodnot\n",
    "count1 = data1.isna().any(axis=1).sum()    #počet řádků s buňkami které nebyly doplněny\n",
    "missingData1 = data1.head(count1)   #dataset ke smazání (prvních x řádků)\n",
    "length_m1 = missingData1['DateTime'].iloc[-1] - missingData1['DateTime'].iloc[0]   #délka smazaných dat\n",
    "length1 = data1['DateTime'].iloc[-1] - data1['DateTime'].iloc[0]  #délka celkových dat\n",
    "data1_dropped = data1.dropna()   #dataset k dalšímu zpracování bez smazaných řádků\n",
    "lengthd_1 = data1_dropped['DateTime'].iloc[-1] - data1_dropped['DateTime'].iloc[0]   #délka dále zpracováváných dat\n"
   ]
  },
  {
   "cell_type": "code",
   "execution_count": null,
   "metadata": {},
   "outputs": [],
   "source": [
    "data1_dropped = data1_dropped.replace(\n",
    "    [\"On (1)\", \"Off (0)\", \"Disabled (1)\", \"Idle (2)\", \"Acquiring (3)\", \"Maintain (4)\", \"Heatingonrequest (5)\",\"Shuttingdown (6)\"], \n",
    "    [\"1\",\"0\",\"1\",\"2\",\"3\",\"4\",\"5\",\"6\"])\n",
    "\n",
    "# náhrada číslenými hodnotami\n",
    "\n",
    "data1_dropped['ServerWatchdog'] = data1_dropped['ServerWatchdog'].astype(int)\n",
    "data1_dropped['BeamIsOn'] = data1_dropped['BeamIsOn'].astype(int)\n",
    "data1_dropped['ExternalState'] = data1_dropped['ExternalState'].astype(int)\n",
    "data1_dropped['IsBlanked'] = data1_dropped['IsBlanked'].astype(int)\n",
    "data1_dropped['ServiceModeIsOn'] = data1_dropped['ServiceModeIsOn'].astype(int)\n",
    "\n",
    "# převod na integer"
   ]
  },
  {
   "cell_type": "code",
   "execution_count": null,
   "metadata": {},
   "outputs": [],
   "source": [
    "df_ServiceMode1 = data1_dropped[['DateTime', 'ServiceModeIsOn']]  #výběr relevantních sloupečků\n",
    "df_ServiceMode1 = df_ServiceMode1.loc[df_ServiceMode1['ServiceModeIsOn'].diff() != 0]  #výběr řádků kde se měnil stav\n",
    "Intervals1 = df_ServiceMode1.diff() # rozdíl mezi řádky\n",
    "InServiceMode1 = Intervals1.loc[Intervals1['ServiceModeIsOn'] == -1].sum() #výpočet doby kdy byl mikroskop v servisním módu/nefunkční\n",
    "NotInServiceMode1 = Intervals1.loc[Intervals1['ServiceModeIsOn'] == 1].sum() #výpočet doby kdy byl mikroskop v provozu\n",
    "InSM1 = (InServiceMode1[0].total_seconds()/3600)/lengthd_1.days #přepočet na průměr za den\n",
    "NotInSM1 = (NotInServiceMode1[0].total_seconds()/3600)/lengthd_1.days\n",
    "\n"
   ]
  },
  {
   "cell_type": "code",
   "execution_count": null,
   "metadata": {},
   "outputs": [],
   "source": [
    "data1_dropped['Extraction'] = np.where((data1_dropped['BeamIsOn'] == 1) &  #podmínka a sloupec Extraction s jejím (ne)splněním\n",
    "                     (data1_dropped['ExternalState'] == 4) &\n",
    "                     (data1_dropped['IsBlanked'] == 0) &\n",
    "                     (data1_dropped['ServerWatchdog'] == 1) &\n",
    "                     (data1_dropped['ServiceModeIsOn'] == 0), '1', '0')\n",
    "\n",
    "data1_dropped['Extraction'] = data1_dropped[('Extraction')].astype(int)  #převod z bool na int\n",
    "extraction1 = data1_dropped[['DateTime', 'Extraction']] #výběr relevantních sloupečků\n",
    "extraction1 = extraction1.loc[extraction1['Extraction'].diff() != 0] #výběr řádků kde se měnil stav\n",
    "df1_extraction = extraction1.diff() #rozdíl mezi řádky\n",
    "Extraction_time1 = df1_extraction.loc[df1_extraction['Extraction'] == -1].sum()  #výpočet doby kdy byl mikroskop aktivně využíván\n",
    "ET1 = (Extraction_time1[0].total_seconds()/3600) #přepočet na hodiny\n",
    "ET1_avg = ET1/lengthd_1.days #přepočet na průměr za den\n"
   ]
  },
  {
   "cell_type": "code",
   "execution_count": null,
   "metadata": {},
   "outputs": [],
   "source": [
    "df1_externalState = data1_dropped.drop([\"ServerWatchdog\", \"BeamIsOn\", \"IsBlanked\", \"ServiceModeIsOn\"], axis= 'columns') #dataset bez přebytečných sloupců\n",
    "df1_externalState = df1_externalState.loc[df1_externalState['ExternalState'].diff() != 0] #výběr řádků se změnou\n",
    "df1_externalState['Difference'] = df1_externalState['DateTime'].diff() #výpočet časových intervalů a jejich uložení do nového sloupce\n",
    "df1_externalState['Difference'] = df1_externalState['Difference'].shift(-1)  #sloupec bylo nutné posunout\n",
    "df1_groupped = df1_externalState.groupby(['ExternalState']).sum()  #seskupení řádků podle jednotlivých kategorií\n",
    "\n",
    "\n"
   ]
  },
  {
   "cell_type": "code",
   "execution_count": null,
   "metadata": {},
   "outputs": [],
   "source": [
    "def minutes(x):\n",
    "   return x.total_seconds()/3600\n",
    "\n",
    "df1_groupped['Difference'] = df1_groupped['Difference'].apply(minutes) #funkce k přepočtu na hodiny a příklad jejího použití\n",
    "\n",
    "df1_groupped['Difference'] = (df1_groupped['Difference']/df1_groupped['Difference'].sum())*100  #přepočet na procenta"
   ]
  }
 ],
 "metadata": {
  "language_info": {
   "name": "python"
  },
  "orig_nbformat": 4
 },
 "nbformat": 4,
 "nbformat_minor": 2
}
