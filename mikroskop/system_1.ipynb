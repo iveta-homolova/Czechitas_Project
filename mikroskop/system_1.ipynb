{
 "cells": [
  {
   "cell_type": "code",
   "execution_count": 138,
   "metadata": {},
   "outputs": [],
   "source": [
    "import pandas as pn\n",
    "from datetime import datetime, timedelta as td\n",
    "\n",
    "import plotly.graph_objects as go\n",
    "import plotly.express as px\n",
    "\n",
    "import numpy as np\n",
    "import matplotlib.pyplot as plt\n",
    "\n",
    "from functools import reduce"
   ]
  },
  {
   "cell_type": "code",
   "execution_count": 139,
   "metadata": {},
   "outputs": [],
   "source": [
    "column_names = [\"Date\", \"Time\", \"ServerWatchdog\", \"BeamIsOn\", \"ExternalState\", \"IsBlanked\", \"ServiceModeIsOn\"]\n",
    "\n",
    "\n"
   ]
  },
  {
   "cell_type": "code",
   "execution_count": 140,
   "metadata": {},
   "outputs": [],
   "source": [
    "data1 = pn.read_csv(\"System 1.csv\", header = 10, names = column_names, low_memory=False)\n",
    "data2 = pn.read_csv(\"System 2.csv\", header = 10, names = column_names, low_memory=False)\n",
    "data3 = pn.read_csv(\"System 3.csv\", header = 10, names = column_names, low_memory=False)\n",
    "data4 = pn.read_csv(\"System 4.csv\", header = 10, names = column_names, low_memory=False)\n",
    "data5 = pn.read_csv(\"System 5.csv\", header = 10, names = column_names, low_memory=False)\n",
    "data6 = pn.read_csv(\"System 6.csv\", header = 10, names = column_names, low_memory=False)\n",
    "data7 = pn.read_csv(\"System 7.csv\", header = 10, names = column_names, low_memory=False)\n",
    "data8 = pn.read_csv(\"System 8.csv\", header = 10, names = column_names, low_memory=False)\n",
    "data9 = pn.read_csv(\"System 9.csv\", header = 10, names = column_names, low_memory=False)\n",
    "\n"
   ]
  },
  {
   "cell_type": "code",
   "execution_count": 141,
   "metadata": {},
   "outputs": [],
   "source": [
    "\n",
    "data1['DateTime'] = data1['Date'].astype(str) + \" \" + data1['Time'].astype(str)\n",
    "data2['DateTime'] = data2['Date'].astype(str) + \" \" + data2['Time'].astype(str)\n",
    "data3['DateTime'] = data3['Date'].astype(str) + \" \" + data3['Time'].astype(str)\n",
    "data4['DateTime'] = data4['Date'].astype(str) + \" \" + data4['Time'].astype(str)\n",
    "data5['DateTime'] = data5['Date'].astype(str) + \" \" + data5['Time'].astype(str)\n",
    "data6['DateTime'] = data6['Date'].astype(str) + \" \" + data6['Time'].astype(str)\n",
    "data7['DateTime'] = data7['Date'].astype(str) + \" \" + data7['Time'].astype(str)\n",
    "data8['DateTime'] = data8['Date'].astype(str) + \" \" + data8['Time'].astype(str)\n",
    "data9['DateTime'] = data9['Date'].astype(str) + \" \" + data9['Time'].astype(str)\n",
    "\n",
    "#  spojení sloupců\n"
   ]
  },
  {
   "cell_type": "code",
   "execution_count": 142,
   "metadata": {},
   "outputs": [],
   "source": [
    "data1['DateTime'] =  pn.to_datetime(data1[\"DateTime\"], format=\"%m/%d/%Y %H:%M:%S.%f\")\n",
    "data2['DateTime'] =  pn.to_datetime(data2[\"DateTime\"], format=\"%m/%d/%Y %H:%M:%S.%f\")\n",
    "data3['DateTime'] =  pn.to_datetime(data3[\"DateTime\"], format=\"%m/%d/%Y %H:%M:%S.%f\")\n",
    "data4['DateTime'] =  pn.to_datetime(data4[\"DateTime\"], format=\"%m/%d/%Y %H:%M:%S.%f\")\n",
    "data5['DateTime'] =  pn.to_datetime(data5[\"DateTime\"], format=\"%m/%d/%Y %H:%M:%S.%f\")\n",
    "data6['DateTime'] =  pn.to_datetime(data6[\"DateTime\"], format=\"%m/%d/%Y %H:%M:%S.%f\")\n",
    "data7['DateTime'] =  pn.to_datetime(data7[\"DateTime\"], format=\"%m/%d/%Y %H:%M:%S.%f\")\n",
    "data8['DateTime'] =  pn.to_datetime(data8[\"DateTime\"], format=\"%m/%d/%Y %H:%M:%S.%f\")\n",
    "data9['DateTime'] =  pn.to_datetime(data9[\"DateTime\"], format=\"%m/%d/%Y %H:%M:%S.%f\")\n",
    "\n",
    "# převod na datetime\n",
    "\n"
   ]
  },
  {
   "cell_type": "code",
   "execution_count": 143,
   "metadata": {},
   "outputs": [],
   "source": [
    "first_column = data1.pop('DateTime')\n",
    "data1.insert(0, 'DateTime', first_column)\n",
    "\n",
    "first_column = data2.pop('DateTime')\n",
    "data2.insert(0, 'DateTime', first_column)\n",
    "\n",
    "first_column = data3.pop('DateTime')\n",
    "data3.insert(0, 'DateTime', first_column)\n",
    "\n",
    "first_column = data4.pop('DateTime')\n",
    "data4.insert(0, 'DateTime', first_column)\n",
    "\n",
    "first_column = data5.pop('DateTime')\n",
    "data5.insert(0, 'DateTime', first_column)\n",
    "\n",
    "first_column = data6.pop('DateTime')\n",
    "data6.insert(0, 'DateTime', first_column)\n",
    "\n",
    "first_column = data7.pop('DateTime')\n",
    "data7.insert(0, 'DateTime', first_column)\n",
    "\n",
    "first_column = data8.pop('DateTime')\n",
    "data8.insert(0, 'DateTime', first_column)\n",
    "\n",
    "first_column = data9.pop('DateTime')\n",
    "data9.insert(0, 'DateTime', first_column)\n",
    "\n",
    "# přesun na první místo"
   ]
  },
  {
   "cell_type": "code",
   "execution_count": 144,
   "metadata": {},
   "outputs": [],
   "source": [
    "data1  = data1.drop(['Date', 'Time'], axis = 'columns')\n",
    "data2  = data2.drop(['Date', 'Time'], axis = 'columns')\n",
    "data3  = data3.drop(['Date', 'Time'], axis = 'columns')\n",
    "data4  = data4.drop(['Date', 'Time'], axis = 'columns')\n",
    "data5  = data5.drop(['Date', 'Time'], axis = 'columns')\n",
    "data6  = data6.drop(['Date', 'Time'], axis = 'columns')\n",
    "data7  = data7.drop(['Date', 'Time'], axis = 'columns')\n",
    "data8  = data8.drop(['Date', 'Time'], axis = 'columns')\n",
    "data9  = data9.drop(['Date', 'Time'], axis = 'columns')\n",
    "\n",
    "# smazání řádků\n"
   ]
  },
  {
   "cell_type": "code",
   "execution_count": 145,
   "metadata": {},
   "outputs": [],
   "source": [
    "data1 = data1.ffill(axis = 'index')\n",
    "data2 = data2.ffill(axis = 'index')\n",
    "data3 = data3.ffill(axis = 'index')\n",
    "data4 = data4.ffill(axis = 'index')\n",
    "data5 = data5.ffill(axis = 'index')\n",
    "data6 = data6.ffill(axis = 'index')\n",
    "data7 = data7.ffill(axis = 'index')\n",
    "data8 = data8.ffill(axis = 'index')\n",
    "data9 = data9.ffill(axis = 'index')\n",
    "\n",
    "\n",
    "# forward fill - doplnění chybějících hodnot"
   ]
  },
  {
   "cell_type": "code",
   "execution_count": 146,
   "metadata": {},
   "outputs": [],
   "source": [
    "count1 = data1.isna().any(axis=1).sum()\n",
    "count2 = data2.isna().any(axis=1).sum()\n",
    "count3 = data3.isna().any(axis=1).sum()\n",
    "count4 = data4.isna().any(axis=1).sum()\n",
    "count5 = data5.isna().any(axis=1).sum()\n",
    "count6 = data6.isna().any(axis=1).sum()\n",
    "count7 = data7.isna().any(axis=1).sum()\n",
    "count8 = data8.isna().any(axis=1).sum()\n",
    "count9 = data9.isna().any(axis=1).sum()\n",
    "\n",
    "# počet nevyplněných řádků\n"
   ]
  },
  {
   "cell_type": "code",
   "execution_count": 147,
   "metadata": {},
   "outputs": [],
   "source": [
    "missingData1 = data1.head(count1)\n",
    "missingData2 = data2.head(count2)\n",
    "missingData3 = data3.head(count3)\n",
    "missingData4 = data4.head(count4)\n",
    "missingData5 = data5.head(count5)\n",
    "missingData6 = data6.head(count6)\n",
    "missingData7 = data7.head(count7)\n",
    "missingData8 = data8.head(count8)\n",
    "missingData9 = data9.head(count9)\n",
    "\n",
    "# dataframe řádků s chyb. hodn."
   ]
  },
  {
   "cell_type": "code",
   "execution_count": 148,
   "metadata": {},
   "outputs": [],
   "source": [
    "length_m1 = missingData1['DateTime'].iloc[-1] - missingData1['DateTime'].iloc[0]\n",
    "length_m2 = missingData2['DateTime'].iloc[-1] - missingData2['DateTime'].iloc[0]\n",
    "length_m3 = missingData3['DateTime'].iloc[-1] - missingData3['DateTime'].iloc[0]\n",
    "length_m4 = missingData4['DateTime'].iloc[-1] - missingData4['DateTime'].iloc[0]\n",
    "length_m5 = missingData5['DateTime'].iloc[-1] - missingData5['DateTime'].iloc[0]\n",
    "length_m6 = missingData6['DateTime'].iloc[-1] - missingData6['DateTime'].iloc[0]\n",
    "length_m7 = missingData7['DateTime'].iloc[-1] - missingData7['DateTime'].iloc[0]\n",
    "length_m8 = missingData8['DateTime'].iloc[-1] - missingData8['DateTime'].iloc[0]\n",
    "length_m9 = missingData9['DateTime'].iloc[-1] - missingData9['DateTime'].iloc[0]\n",
    "\n",
    "\n",
    "# časový interval dat ke smazání\n",
    "\n"
   ]
  },
  {
   "cell_type": "code",
   "execution_count": 149,
   "metadata": {},
   "outputs": [],
   "source": [
    "# print(length_m1)\n",
    "# print(length_m2)\n",
    "# print(length_m3)\n",
    "# print(length_m4)\n",
    "# print(length_m5)\n",
    "# print(length_m6)\n",
    "# print(length_m7)\n",
    "# print(length_m8)\n",
    "# print(length_m9)\n",
    "\n"
   ]
  },
  {
   "cell_type": "code",
   "execution_count": 150,
   "metadata": {},
   "outputs": [],
   "source": [
    "length1 = data1['DateTime'].iloc[-1] - data1['DateTime'].iloc[0]\n",
    "length2 = data2['DateTime'].iloc[-1] - data2['DateTime'].iloc[0]\n",
    "length3 = data3['DateTime'].iloc[-1] - data3['DateTime'].iloc[0]\n",
    "length4 = data4['DateTime'].iloc[-1] - data4['DateTime'].iloc[0]\n",
    "length5 = data5['DateTime'].iloc[-1] - data5['DateTime'].iloc[0]\n",
    "length6 = data6['DateTime'].iloc[-1] - data6['DateTime'].iloc[0]\n",
    "length7 = data7['DateTime'].iloc[-1] - data7['DateTime'].iloc[0]\n",
    "length8 = data8['DateTime'].iloc[-1] - data8['DateTime'].iloc[0]\n",
    "length9 = data9['DateTime'].iloc[-1] - data9['DateTime'].iloc[0]\n",
    "\n",
    "\n",
    "# časový interval celkových dat\n",
    "\n"
   ]
  },
  {
   "cell_type": "code",
   "execution_count": 151,
   "metadata": {},
   "outputs": [],
   "source": [
    "data1_dropped = data1.dropna()\n",
    "data2_dropped = data2.dropna()\n",
    "data3_dropped = data3.dropna()\n",
    "data4_dropped = data4.dropna()\n",
    "data5_dropped = data5.dropna()\n",
    "data6_dropped = data6.dropna()\n",
    "data7_dropped = data7.dropna()\n",
    "data8_dropped = data8.dropna()\n",
    "data9_dropped = data9.dropna()\n",
    "\n",
    "\n",
    "# data k dalšímu zpracování bez chybějících hodnot"
   ]
  },
  {
   "cell_type": "code",
   "execution_count": 152,
   "metadata": {},
   "outputs": [],
   "source": [
    "data1_dropped = data1_dropped.replace([\"On (1)\", \"Off (0)\", \"Disabled (1)\", \"Idle (2)\", \"Acquiring (3)\", \"Maintain (4)\", \"Heatingonrequest (5)\",\"Shuttingdown (6)\"], [\"1\",\"0\",\"1\",\"2\",\"3\",\"4\",\"5\",\"6\"])\n",
    "data2_dropped = data2_dropped.replace([\"On (1)\", \"Off (0)\", \"Disabled (1)\", \"Idle (2)\", \"Acquiring (3)\", \"Maintain (4)\", \"Heatingonrequest (5)\",\"Shuttingdown (6)\"], [\"1\",\"0\",\"1\",\"2\",\"3\",\"4\",\"5\",\"6\"])\n",
    "data3_dropped = data3_dropped.replace([\"On (1)\", \"Off (0)\", \"Disabled (1)\", \"Idle (2)\", \"Acquiring (3)\", \"Maintain (4)\", \"Heatingonrequest (5)\",\"Shuttingdown (6)\"], [\"1\",\"0\",\"1\",\"2\",\"3\",\"4\",\"5\",\"6\"])\n",
    "data4_dropped = data4_dropped.replace([\"On (1)\", \"Off (0)\", \"Disabled (1)\", \"Idle (2)\", \"Acquiring (3)\", \"Maintain (4)\", \"Heatingonrequest (5)\",\"Shuttingdown (6)\"], [\"1\",\"0\",\"1\",\"2\",\"3\",\"4\",\"5\",\"6\"])\n",
    "data5_dropped = data5_dropped.replace([\"On (1)\", \"Off (0)\", \"Disabled (1)\", \"Idle (2)\", \"Acquiring (3)\", \"Maintain (4)\", \"Heatingonrequest (5)\",\"Shuttingdown (6)\"], [\"1\",\"0\",\"1\",\"2\",\"3\",\"4\",\"5\",\"6\"])\n",
    "data6_dropped = data6_dropped.replace([\"On (1)\", \"Off (0)\", \"Disabled (1)\", \"Idle (2)\", \"Acquiring (3)\", \"Maintain (4)\", \"Heatingonrequest (5)\",\"Shuttingdown (6)\"], [\"1\",\"0\",\"1\",\"2\",\"3\",\"4\",\"5\",\"6\"])\n",
    "data7_dropped = data7_dropped.replace([\"On (1)\", \"Off (0)\", \"Disabled (1)\", \"Idle (2)\", \"Acquiring (3)\", \"Maintain (4)\", \"Heatingonrequest (5)\",\"Shuttingdown (6)\"], [\"1\",\"0\",\"1\",\"2\",\"3\",\"4\",\"5\",\"6\"])\n",
    "data8_dropped = data8_dropped.replace([\"On (1)\", \"Off (0)\", \"Disabled (1)\", \"Idle (2)\", \"Acquiring (3)\", \"Maintain (4)\", \"Heatingonrequest (5)\",\"Shuttingdown (6)\"], [\"1\",\"0\",\"1\",\"2\",\"3\",\"4\",\"5\",\"6\"])\n",
    "data9_dropped = data9_dropped.replace([\"On (1)\", \"Off (0)\", \"Disabled (1)\", \"Idle (2)\", \"Acquiring (3)\", \"Maintain (4)\", \"Heatingonrequest (5)\",\"Shuttingdown (6)\"], [\"1\",\"0\",\"1\",\"2\",\"3\",\"4\",\"5\",\"6\"])\n",
    "\n",
    "# náhrada hodnot čísly"
   ]
  },
  {
   "cell_type": "code",
   "execution_count": 153,
   "metadata": {},
   "outputs": [],
   "source": [
    "data1_dropped['ServerWatchdog'] = data1_dropped['ServerWatchdog'].astype(int)\n",
    "data1_dropped['BeamIsOn'] = data1_dropped['BeamIsOn'].astype(int)\n",
    "data1_dropped['ExternalState'] = data1_dropped['ExternalState'].astype(int)\n",
    "data1_dropped['IsBlanked'] = data1_dropped['IsBlanked'].astype(int)\n",
    "data1_dropped['ServiceModeIsOn'] = data1_dropped['ServiceModeIsOn'].astype(int)\n",
    "\n",
    "data2_dropped['ServerWatchdog'] = data2_dropped['ServerWatchdog'].astype(int)\n",
    "data2_dropped['BeamIsOn'] = data2_dropped['BeamIsOn'].astype(int)\n",
    "data2_dropped['ExternalState'] = data2_dropped['ExternalState'].astype(int)\n",
    "data2_dropped['IsBlanked'] = data2_dropped['IsBlanked'].astype(int)\n",
    "data2_dropped['ServiceModeIsOn'] = data2_dropped['ServiceModeIsOn'].astype(int)\n",
    "\n",
    "data3_dropped['ServerWatchdog'] = data3_dropped['ServerWatchdog'].astype(int)\n",
    "data3_dropped['BeamIsOn'] = data3_dropped['BeamIsOn'].astype(int)\n",
    "data3_dropped['ExternalState'] = data3_dropped['ExternalState'].astype(int)\n",
    "data3_dropped['IsBlanked'] = data3_dropped['IsBlanked'].astype(int)\n",
    "data3_dropped['ServiceModeIsOn'] = data3_dropped['ServiceModeIsOn'].astype(int)\n",
    "\n",
    "data4_dropped['ServerWatchdog'] = data4_dropped['ServerWatchdog'].astype(int)\n",
    "data4_dropped['BeamIsOn'] = data4_dropped['BeamIsOn'].astype(int)\n",
    "data4_dropped['ExternalState'] = data4_dropped['ExternalState'].astype(int)\n",
    "data4_dropped['IsBlanked'] = data4_dropped['IsBlanked'].astype(int)\n",
    "data4_dropped['ServiceModeIsOn'] = data4_dropped['ServiceModeIsOn'].astype(int)\n",
    "\n",
    "data5_dropped['ServerWatchdog'] = data5_dropped['ServerWatchdog'].astype(int)\n",
    "data5_dropped['BeamIsOn'] = data5_dropped['BeamIsOn'].astype(int)\n",
    "data5_dropped['ExternalState'] = data5_dropped['ExternalState'].astype(int)\n",
    "data5_dropped['IsBlanked'] = data5_dropped['IsBlanked'].astype(int)\n",
    "data5_dropped['ServiceModeIsOn'] = data5_dropped['ServiceModeIsOn'].astype(int)\n",
    "\n",
    "data6_dropped['ServerWatchdog'] = data6_dropped['ServerWatchdog'].astype(int)\n",
    "data6_dropped['BeamIsOn'] = data6_dropped['BeamIsOn'].astype(int)\n",
    "data6_dropped['ExternalState'] = data6_dropped['ExternalState'].astype(int)\n",
    "data6_dropped['IsBlanked'] = data6_dropped['IsBlanked'].astype(int)\n",
    "data6_dropped['ServiceModeIsOn'] = data6_dropped['ServiceModeIsOn'].astype(int)\n",
    "\n",
    "data7_dropped['ServerWatchdog'] = data7_dropped['ServerWatchdog'].astype(int)\n",
    "data7_dropped['BeamIsOn'] = data7_dropped['BeamIsOn'].astype(int)\n",
    "data7_dropped['ExternalState'] = data7_dropped['ExternalState'].astype(int)\n",
    "data7_dropped['IsBlanked'] = data7_dropped['IsBlanked'].astype(int)\n",
    "data7_dropped['ServiceModeIsOn'] = data7_dropped['ServiceModeIsOn'].astype(int)\n",
    "\n",
    "data8_dropped['ServerWatchdog'] = data8_dropped['ServerWatchdog'].astype(int)\n",
    "data8_dropped['BeamIsOn'] = data8_dropped['BeamIsOn'].astype(int)\n",
    "data8_dropped['ExternalState'] = data8_dropped['ExternalState'].astype(int)\n",
    "data8_dropped['IsBlanked'] = data8_dropped['IsBlanked'].astype(int)\n",
    "data8_dropped['ServiceModeIsOn'] = data8_dropped['ServiceModeIsOn'].astype(int)\n",
    "\n",
    "data9_dropped['ServerWatchdog'] = data9_dropped['ServerWatchdog'].astype(int)\n",
    "data9_dropped['BeamIsOn'] = data9_dropped['BeamIsOn'].astype(int)\n",
    "data9_dropped['ExternalState'] = data9_dropped['ExternalState'].astype(int)\n",
    "data9_dropped['IsBlanked'] = data9_dropped['IsBlanked'].astype(int)\n",
    "data9_dropped['ServiceModeIsOn'] = data9_dropped['ServiceModeIsOn'].astype(int)\n",
    "\n",
    "# převod na integer"
   ]
  },
  {
   "cell_type": "code",
   "execution_count": 154,
   "metadata": {},
   "outputs": [],
   "source": [
    "lengthd_1 = data1_dropped['DateTime'].iloc[-1] - data1_dropped['DateTime'].iloc[0]\n",
    "lengthd_2 = data2_dropped['DateTime'].iloc[-1] - data2_dropped['DateTime'].iloc[0]\n",
    "lengthd_3 = data3_dropped['DateTime'].iloc[-1] - data3_dropped['DateTime'].iloc[0]\n",
    "lengthd_4 = data4_dropped['DateTime'].iloc[-1] - data4_dropped['DateTime'].iloc[0]\n",
    "lengthd_5 = data5_dropped['DateTime'].iloc[-1] - data5_dropped['DateTime'].iloc[0]\n",
    "lengthd_6 = data6_dropped['DateTime'].iloc[-1] - data6_dropped['DateTime'].iloc[0]\n",
    "lengthd_7 = data7_dropped['DateTime'].iloc[-1] - data7_dropped['DateTime'].iloc[0]\n",
    "lengthd_8 = data8_dropped['DateTime'].iloc[-1] - data8_dropped['DateTime'].iloc[0]\n",
    "lengthd_9 = data9_dropped['DateTime'].iloc[-1] - data9_dropped['DateTime'].iloc[0]\n",
    "\n",
    "\n",
    "# délka dále používaných dat "
   ]
  },
  {
   "cell_type": "code",
   "execution_count": 155,
   "metadata": {},
   "outputs": [],
   "source": [
    "# data1_dropped.to_csv(\"Aquilos.csv\")\n",
    "# data2_dropped.to_csv(\"Arctis.csv\")\n",
    "# data3_dropped.to_csv(\"CryoFIB.csv\")\n",
    "# data4_dropped.to_csv(\"Centrios.csv\")\n",
    "# data5_dropped.to_csv(\"Quanta 3D FEG.csv\")\n",
    "# data6_dropped.to_csv(\"Aquilos G2+.csv\")\n",
    "# data7_dropped.to_csv(\"Helios 6.csv\")\n",
    "# data8_dropped.to_csv(\"Helios PFIB Hydra.csv\")\n",
    "# data9_dropped.to_csv(\"Scios.csv\")\n",
    "\n",
    "# výstup dat ke zpracování\n",
    "\n",
    "# Aquilos, Arctis, CryoFIB, Centrios, Quanta 3D FEG, Aquilos G2+, Helios 6, Helios PFIB Hydra, Scios"
   ]
  },
  {
   "cell_type": "code",
   "execution_count": 156,
   "metadata": {},
   "outputs": [],
   "source": [
    "# fig = go.Figure(data=[\n",
    "#     go.Bar(name='Celková doba', x = ['data1', 'data2', 'data3', 'data4', 'data5', 'data6', 'data7', 'data8', 'data9'] , y=[days1, days2, days3, days4, days5, days6, days7, days8, days9])\n",
    "# ,   go.Bar(name='Vymazaná doba', x= ['missingData1','missingData2','missingData3','missingData4','missingData5','missingData6','missingData7','missingDat8','missingData9'], y=[lengthm1.days, lengthm2.days, lengthm3.days, lengthm4.days, lengthm5.days, lengthm6.days, lengthm7.days, lengthm8.days, lengthm9.days])\n",
    "# ])\n",
    "# # Change the bar mode\n",
    "# fig.update_layout(barmode='stack')\n",
    "# fig.show()"
   ]
  },
  {
   "attachments": {},
   "cell_type": "markdown",
   "metadata": {},
   "source": [
    "Aquilos, Arctis, CryoFIB, Centrios, Quanta 3D FEG, Aquilos G2+, Helios 6, Helios PFIB Hydra, Scios"
   ]
  },
  {
   "cell_type": "code",
   "execution_count": 157,
   "metadata": {},
   "outputs": [
    {
     "data": {
      "application/vnd.plotly.v1+json": {
       "config": {
        "plotlyServerURL": "https://plot.ly"
       },
       "data": [
        {
         "name": "Full Data",
         "type": "bar",
         "x": [
          "Aquilos",
          "Arctis",
          "CryoFIB",
          "Centrios",
          "Quanta 3D FEG",
          "Aquilos G2+",
          "Helios 6",
          "Helios PFIB Hydra",
          "Scios"
         ],
         "y": [
          89,
          366,
          122,
          122,
          122,
          122,
          104,
          223,
          122
         ]
        }
       ],
       "layout": {
        "template": {
         "data": {
          "bar": [
           {
            "error_x": {
             "color": "#2a3f5f"
            },
            "error_y": {
             "color": "#2a3f5f"
            },
            "marker": {
             "line": {
              "color": "#E5ECF6",
              "width": 0.5
             },
             "pattern": {
              "fillmode": "overlay",
              "size": 10,
              "solidity": 0.2
             }
            },
            "type": "bar"
           }
          ],
          "barpolar": [
           {
            "marker": {
             "line": {
              "color": "#E5ECF6",
              "width": 0.5
             },
             "pattern": {
              "fillmode": "overlay",
              "size": 10,
              "solidity": 0.2
             }
            },
            "type": "barpolar"
           }
          ],
          "carpet": [
           {
            "aaxis": {
             "endlinecolor": "#2a3f5f",
             "gridcolor": "white",
             "linecolor": "white",
             "minorgridcolor": "white",
             "startlinecolor": "#2a3f5f"
            },
            "baxis": {
             "endlinecolor": "#2a3f5f",
             "gridcolor": "white",
             "linecolor": "white",
             "minorgridcolor": "white",
             "startlinecolor": "#2a3f5f"
            },
            "type": "carpet"
           }
          ],
          "choropleth": [
           {
            "colorbar": {
             "outlinewidth": 0,
             "ticks": ""
            },
            "type": "choropleth"
           }
          ],
          "contour": [
           {
            "colorbar": {
             "outlinewidth": 0,
             "ticks": ""
            },
            "colorscale": [
             [
              0,
              "#0d0887"
             ],
             [
              0.1111111111111111,
              "#46039f"
             ],
             [
              0.2222222222222222,
              "#7201a8"
             ],
             [
              0.3333333333333333,
              "#9c179e"
             ],
             [
              0.4444444444444444,
              "#bd3786"
             ],
             [
              0.5555555555555556,
              "#d8576b"
             ],
             [
              0.6666666666666666,
              "#ed7953"
             ],
             [
              0.7777777777777778,
              "#fb9f3a"
             ],
             [
              0.8888888888888888,
              "#fdca26"
             ],
             [
              1,
              "#f0f921"
             ]
            ],
            "type": "contour"
           }
          ],
          "contourcarpet": [
           {
            "colorbar": {
             "outlinewidth": 0,
             "ticks": ""
            },
            "type": "contourcarpet"
           }
          ],
          "heatmap": [
           {
            "colorbar": {
             "outlinewidth": 0,
             "ticks": ""
            },
            "colorscale": [
             [
              0,
              "#0d0887"
             ],
             [
              0.1111111111111111,
              "#46039f"
             ],
             [
              0.2222222222222222,
              "#7201a8"
             ],
             [
              0.3333333333333333,
              "#9c179e"
             ],
             [
              0.4444444444444444,
              "#bd3786"
             ],
             [
              0.5555555555555556,
              "#d8576b"
             ],
             [
              0.6666666666666666,
              "#ed7953"
             ],
             [
              0.7777777777777778,
              "#fb9f3a"
             ],
             [
              0.8888888888888888,
              "#fdca26"
             ],
             [
              1,
              "#f0f921"
             ]
            ],
            "type": "heatmap"
           }
          ],
          "heatmapgl": [
           {
            "colorbar": {
             "outlinewidth": 0,
             "ticks": ""
            },
            "colorscale": [
             [
              0,
              "#0d0887"
             ],
             [
              0.1111111111111111,
              "#46039f"
             ],
             [
              0.2222222222222222,
              "#7201a8"
             ],
             [
              0.3333333333333333,
              "#9c179e"
             ],
             [
              0.4444444444444444,
              "#bd3786"
             ],
             [
              0.5555555555555556,
              "#d8576b"
             ],
             [
              0.6666666666666666,
              "#ed7953"
             ],
             [
              0.7777777777777778,
              "#fb9f3a"
             ],
             [
              0.8888888888888888,
              "#fdca26"
             ],
             [
              1,
              "#f0f921"
             ]
            ],
            "type": "heatmapgl"
           }
          ],
          "histogram": [
           {
            "marker": {
             "pattern": {
              "fillmode": "overlay",
              "size": 10,
              "solidity": 0.2
             }
            },
            "type": "histogram"
           }
          ],
          "histogram2d": [
           {
            "colorbar": {
             "outlinewidth": 0,
             "ticks": ""
            },
            "colorscale": [
             [
              0,
              "#0d0887"
             ],
             [
              0.1111111111111111,
              "#46039f"
             ],
             [
              0.2222222222222222,
              "#7201a8"
             ],
             [
              0.3333333333333333,
              "#9c179e"
             ],
             [
              0.4444444444444444,
              "#bd3786"
             ],
             [
              0.5555555555555556,
              "#d8576b"
             ],
             [
              0.6666666666666666,
              "#ed7953"
             ],
             [
              0.7777777777777778,
              "#fb9f3a"
             ],
             [
              0.8888888888888888,
              "#fdca26"
             ],
             [
              1,
              "#f0f921"
             ]
            ],
            "type": "histogram2d"
           }
          ],
          "histogram2dcontour": [
           {
            "colorbar": {
             "outlinewidth": 0,
             "ticks": ""
            },
            "colorscale": [
             [
              0,
              "#0d0887"
             ],
             [
              0.1111111111111111,
              "#46039f"
             ],
             [
              0.2222222222222222,
              "#7201a8"
             ],
             [
              0.3333333333333333,
              "#9c179e"
             ],
             [
              0.4444444444444444,
              "#bd3786"
             ],
             [
              0.5555555555555556,
              "#d8576b"
             ],
             [
              0.6666666666666666,
              "#ed7953"
             ],
             [
              0.7777777777777778,
              "#fb9f3a"
             ],
             [
              0.8888888888888888,
              "#fdca26"
             ],
             [
              1,
              "#f0f921"
             ]
            ],
            "type": "histogram2dcontour"
           }
          ],
          "mesh3d": [
           {
            "colorbar": {
             "outlinewidth": 0,
             "ticks": ""
            },
            "type": "mesh3d"
           }
          ],
          "parcoords": [
           {
            "line": {
             "colorbar": {
              "outlinewidth": 0,
              "ticks": ""
             }
            },
            "type": "parcoords"
           }
          ],
          "pie": [
           {
            "automargin": true,
            "type": "pie"
           }
          ],
          "scatter": [
           {
            "fillpattern": {
             "fillmode": "overlay",
             "size": 10,
             "solidity": 0.2
            },
            "type": "scatter"
           }
          ],
          "scatter3d": [
           {
            "line": {
             "colorbar": {
              "outlinewidth": 0,
              "ticks": ""
             }
            },
            "marker": {
             "colorbar": {
              "outlinewidth": 0,
              "ticks": ""
             }
            },
            "type": "scatter3d"
           }
          ],
          "scattercarpet": [
           {
            "marker": {
             "colorbar": {
              "outlinewidth": 0,
              "ticks": ""
             }
            },
            "type": "scattercarpet"
           }
          ],
          "scattergeo": [
           {
            "marker": {
             "colorbar": {
              "outlinewidth": 0,
              "ticks": ""
             }
            },
            "type": "scattergeo"
           }
          ],
          "scattergl": [
           {
            "marker": {
             "colorbar": {
              "outlinewidth": 0,
              "ticks": ""
             }
            },
            "type": "scattergl"
           }
          ],
          "scattermapbox": [
           {
            "marker": {
             "colorbar": {
              "outlinewidth": 0,
              "ticks": ""
             }
            },
            "type": "scattermapbox"
           }
          ],
          "scatterpolar": [
           {
            "marker": {
             "colorbar": {
              "outlinewidth": 0,
              "ticks": ""
             }
            },
            "type": "scatterpolar"
           }
          ],
          "scatterpolargl": [
           {
            "marker": {
             "colorbar": {
              "outlinewidth": 0,
              "ticks": ""
             }
            },
            "type": "scatterpolargl"
           }
          ],
          "scatterternary": [
           {
            "marker": {
             "colorbar": {
              "outlinewidth": 0,
              "ticks": ""
             }
            },
            "type": "scatterternary"
           }
          ],
          "surface": [
           {
            "colorbar": {
             "outlinewidth": 0,
             "ticks": ""
            },
            "colorscale": [
             [
              0,
              "#0d0887"
             ],
             [
              0.1111111111111111,
              "#46039f"
             ],
             [
              0.2222222222222222,
              "#7201a8"
             ],
             [
              0.3333333333333333,
              "#9c179e"
             ],
             [
              0.4444444444444444,
              "#bd3786"
             ],
             [
              0.5555555555555556,
              "#d8576b"
             ],
             [
              0.6666666666666666,
              "#ed7953"
             ],
             [
              0.7777777777777778,
              "#fb9f3a"
             ],
             [
              0.8888888888888888,
              "#fdca26"
             ],
             [
              1,
              "#f0f921"
             ]
            ],
            "type": "surface"
           }
          ],
          "table": [
           {
            "cells": {
             "fill": {
              "color": "#EBF0F8"
             },
             "line": {
              "color": "white"
             }
            },
            "header": {
             "fill": {
              "color": "#C8D4E3"
             },
             "line": {
              "color": "white"
             }
            },
            "type": "table"
           }
          ]
         },
         "layout": {
          "annotationdefaults": {
           "arrowcolor": "#2a3f5f",
           "arrowhead": 0,
           "arrowwidth": 1
          },
          "autotypenumbers": "strict",
          "coloraxis": {
           "colorbar": {
            "outlinewidth": 0,
            "ticks": ""
           }
          },
          "colorscale": {
           "diverging": [
            [
             0,
             "#8e0152"
            ],
            [
             0.1,
             "#c51b7d"
            ],
            [
             0.2,
             "#de77ae"
            ],
            [
             0.3,
             "#f1b6da"
            ],
            [
             0.4,
             "#fde0ef"
            ],
            [
             0.5,
             "#f7f7f7"
            ],
            [
             0.6,
             "#e6f5d0"
            ],
            [
             0.7,
             "#b8e186"
            ],
            [
             0.8,
             "#7fbc41"
            ],
            [
             0.9,
             "#4d9221"
            ],
            [
             1,
             "#276419"
            ]
           ],
           "sequential": [
            [
             0,
             "#0d0887"
            ],
            [
             0.1111111111111111,
             "#46039f"
            ],
            [
             0.2222222222222222,
             "#7201a8"
            ],
            [
             0.3333333333333333,
             "#9c179e"
            ],
            [
             0.4444444444444444,
             "#bd3786"
            ],
            [
             0.5555555555555556,
             "#d8576b"
            ],
            [
             0.6666666666666666,
             "#ed7953"
            ],
            [
             0.7777777777777778,
             "#fb9f3a"
            ],
            [
             0.8888888888888888,
             "#fdca26"
            ],
            [
             1,
             "#f0f921"
            ]
           ],
           "sequentialminus": [
            [
             0,
             "#0d0887"
            ],
            [
             0.1111111111111111,
             "#46039f"
            ],
            [
             0.2222222222222222,
             "#7201a8"
            ],
            [
             0.3333333333333333,
             "#9c179e"
            ],
            [
             0.4444444444444444,
             "#bd3786"
            ],
            [
             0.5555555555555556,
             "#d8576b"
            ],
            [
             0.6666666666666666,
             "#ed7953"
            ],
            [
             0.7777777777777778,
             "#fb9f3a"
            ],
            [
             0.8888888888888888,
             "#fdca26"
            ],
            [
             1,
             "#f0f921"
            ]
           ]
          },
          "colorway": [
           "#636efa",
           "#EF553B",
           "#00cc96",
           "#ab63fa",
           "#FFA15A",
           "#19d3f3",
           "#FF6692",
           "#B6E880",
           "#FF97FF",
           "#FECB52"
          ],
          "font": {
           "color": "#2a3f5f"
          },
          "geo": {
           "bgcolor": "white",
           "lakecolor": "white",
           "landcolor": "#E5ECF6",
           "showlakes": true,
           "showland": true,
           "subunitcolor": "white"
          },
          "hoverlabel": {
           "align": "left"
          },
          "hovermode": "closest",
          "mapbox": {
           "style": "light"
          },
          "paper_bgcolor": "white",
          "plot_bgcolor": "#E5ECF6",
          "polar": {
           "angularaxis": {
            "gridcolor": "white",
            "linecolor": "white",
            "ticks": ""
           },
           "bgcolor": "#E5ECF6",
           "radialaxis": {
            "gridcolor": "white",
            "linecolor": "white",
            "ticks": ""
           }
          },
          "scene": {
           "xaxis": {
            "backgroundcolor": "#E5ECF6",
            "gridcolor": "white",
            "gridwidth": 2,
            "linecolor": "white",
            "showbackground": true,
            "ticks": "",
            "zerolinecolor": "white"
           },
           "yaxis": {
            "backgroundcolor": "#E5ECF6",
            "gridcolor": "white",
            "gridwidth": 2,
            "linecolor": "white",
            "showbackground": true,
            "ticks": "",
            "zerolinecolor": "white"
           },
           "zaxis": {
            "backgroundcolor": "#E5ECF6",
            "gridcolor": "white",
            "gridwidth": 2,
            "linecolor": "white",
            "showbackground": true,
            "ticks": "",
            "zerolinecolor": "white"
           }
          },
          "shapedefaults": {
           "line": {
            "color": "#2a3f5f"
           }
          },
          "ternary": {
           "aaxis": {
            "gridcolor": "white",
            "linecolor": "white",
            "ticks": ""
           },
           "baxis": {
            "gridcolor": "white",
            "linecolor": "white",
            "ticks": ""
           },
           "bgcolor": "#E5ECF6",
           "caxis": {
            "gridcolor": "white",
            "linecolor": "white",
            "ticks": ""
           }
          },
          "title": {
           "x": 0.05
          },
          "xaxis": {
           "automargin": true,
           "gridcolor": "white",
           "linecolor": "white",
           "ticks": "",
           "title": {
            "standoff": 15
           },
           "zerolinecolor": "white",
           "zerolinewidth": 2
          },
          "yaxis": {
           "automargin": true,
           "gridcolor": "white",
           "linecolor": "white",
           "ticks": "",
           "title": {
            "standoff": 15
           },
           "zerolinecolor": "white",
           "zerolinewidth": 2
          }
         }
        }
       }
      }
     },
     "metadata": {},
     "output_type": "display_data"
    }
   ],
   "source": [
    "fig = go.Figure(\n",
    "    go.Bar(name='Full Data', x = ['Aquilos', 'Arctis', 'CryoFIB', 'Centrios', 'Quanta 3D FEG', 'Aquilos G2+', 'Helios 6', 'Helios PFIB Hydra', 'Scios'] , y=[length1.days, length2.days, length3.days, length4.days, length5.days, length6.days, length7.days, length8.days, length9.days]))\n",
    "\n",
    "fig.show()\n",
    "\n",
    "\n",
    "# délka celkových dat ve dnech"
   ]
  },
  {
   "cell_type": "code",
   "execution_count": 158,
   "metadata": {},
   "outputs": [
    {
     "data": {
      "application/vnd.plotly.v1+json": {
       "config": {
        "plotlyServerURL": "https://plot.ly"
       },
       "data": [
        {
         "name": "Deleted Data",
         "type": "bar",
         "x": [
          "Aquilos",
          "Arctis",
          "CryoFIB",
          "Centrios",
          "Quanta 3D FEG",
          "Aquilos G2+",
          "Helios 6",
          "Helios PFIB Hydra",
          "Scios"
         ],
         "y": [
          96,
          435,
          55.17156666666666,
          55.18963333333333,
          49.04643333333333,
          42,
          8.690433333333335,
          55.999900000000004,
          48.668800000000005
         ]
        }
       ],
       "layout": {
        "template": {
         "data": {
          "bar": [
           {
            "error_x": {
             "color": "#2a3f5f"
            },
            "error_y": {
             "color": "#2a3f5f"
            },
            "marker": {
             "line": {
              "color": "#E5ECF6",
              "width": 0.5
             },
             "pattern": {
              "fillmode": "overlay",
              "size": 10,
              "solidity": 0.2
             }
            },
            "type": "bar"
           }
          ],
          "barpolar": [
           {
            "marker": {
             "line": {
              "color": "#E5ECF6",
              "width": 0.5
             },
             "pattern": {
              "fillmode": "overlay",
              "size": 10,
              "solidity": 0.2
             }
            },
            "type": "barpolar"
           }
          ],
          "carpet": [
           {
            "aaxis": {
             "endlinecolor": "#2a3f5f",
             "gridcolor": "white",
             "linecolor": "white",
             "minorgridcolor": "white",
             "startlinecolor": "#2a3f5f"
            },
            "baxis": {
             "endlinecolor": "#2a3f5f",
             "gridcolor": "white",
             "linecolor": "white",
             "minorgridcolor": "white",
             "startlinecolor": "#2a3f5f"
            },
            "type": "carpet"
           }
          ],
          "choropleth": [
           {
            "colorbar": {
             "outlinewidth": 0,
             "ticks": ""
            },
            "type": "choropleth"
           }
          ],
          "contour": [
           {
            "colorbar": {
             "outlinewidth": 0,
             "ticks": ""
            },
            "colorscale": [
             [
              0,
              "#0d0887"
             ],
             [
              0.1111111111111111,
              "#46039f"
             ],
             [
              0.2222222222222222,
              "#7201a8"
             ],
             [
              0.3333333333333333,
              "#9c179e"
             ],
             [
              0.4444444444444444,
              "#bd3786"
             ],
             [
              0.5555555555555556,
              "#d8576b"
             ],
             [
              0.6666666666666666,
              "#ed7953"
             ],
             [
              0.7777777777777778,
              "#fb9f3a"
             ],
             [
              0.8888888888888888,
              "#fdca26"
             ],
             [
              1,
              "#f0f921"
             ]
            ],
            "type": "contour"
           }
          ],
          "contourcarpet": [
           {
            "colorbar": {
             "outlinewidth": 0,
             "ticks": ""
            },
            "type": "contourcarpet"
           }
          ],
          "heatmap": [
           {
            "colorbar": {
             "outlinewidth": 0,
             "ticks": ""
            },
            "colorscale": [
             [
              0,
              "#0d0887"
             ],
             [
              0.1111111111111111,
              "#46039f"
             ],
             [
              0.2222222222222222,
              "#7201a8"
             ],
             [
              0.3333333333333333,
              "#9c179e"
             ],
             [
              0.4444444444444444,
              "#bd3786"
             ],
             [
              0.5555555555555556,
              "#d8576b"
             ],
             [
              0.6666666666666666,
              "#ed7953"
             ],
             [
              0.7777777777777778,
              "#fb9f3a"
             ],
             [
              0.8888888888888888,
              "#fdca26"
             ],
             [
              1,
              "#f0f921"
             ]
            ],
            "type": "heatmap"
           }
          ],
          "heatmapgl": [
           {
            "colorbar": {
             "outlinewidth": 0,
             "ticks": ""
            },
            "colorscale": [
             [
              0,
              "#0d0887"
             ],
             [
              0.1111111111111111,
              "#46039f"
             ],
             [
              0.2222222222222222,
              "#7201a8"
             ],
             [
              0.3333333333333333,
              "#9c179e"
             ],
             [
              0.4444444444444444,
              "#bd3786"
             ],
             [
              0.5555555555555556,
              "#d8576b"
             ],
             [
              0.6666666666666666,
              "#ed7953"
             ],
             [
              0.7777777777777778,
              "#fb9f3a"
             ],
             [
              0.8888888888888888,
              "#fdca26"
             ],
             [
              1,
              "#f0f921"
             ]
            ],
            "type": "heatmapgl"
           }
          ],
          "histogram": [
           {
            "marker": {
             "pattern": {
              "fillmode": "overlay",
              "size": 10,
              "solidity": 0.2
             }
            },
            "type": "histogram"
           }
          ],
          "histogram2d": [
           {
            "colorbar": {
             "outlinewidth": 0,
             "ticks": ""
            },
            "colorscale": [
             [
              0,
              "#0d0887"
             ],
             [
              0.1111111111111111,
              "#46039f"
             ],
             [
              0.2222222222222222,
              "#7201a8"
             ],
             [
              0.3333333333333333,
              "#9c179e"
             ],
             [
              0.4444444444444444,
              "#bd3786"
             ],
             [
              0.5555555555555556,
              "#d8576b"
             ],
             [
              0.6666666666666666,
              "#ed7953"
             ],
             [
              0.7777777777777778,
              "#fb9f3a"
             ],
             [
              0.8888888888888888,
              "#fdca26"
             ],
             [
              1,
              "#f0f921"
             ]
            ],
            "type": "histogram2d"
           }
          ],
          "histogram2dcontour": [
           {
            "colorbar": {
             "outlinewidth": 0,
             "ticks": ""
            },
            "colorscale": [
             [
              0,
              "#0d0887"
             ],
             [
              0.1111111111111111,
              "#46039f"
             ],
             [
              0.2222222222222222,
              "#7201a8"
             ],
             [
              0.3333333333333333,
              "#9c179e"
             ],
             [
              0.4444444444444444,
              "#bd3786"
             ],
             [
              0.5555555555555556,
              "#d8576b"
             ],
             [
              0.6666666666666666,
              "#ed7953"
             ],
             [
              0.7777777777777778,
              "#fb9f3a"
             ],
             [
              0.8888888888888888,
              "#fdca26"
             ],
             [
              1,
              "#f0f921"
             ]
            ],
            "type": "histogram2dcontour"
           }
          ],
          "mesh3d": [
           {
            "colorbar": {
             "outlinewidth": 0,
             "ticks": ""
            },
            "type": "mesh3d"
           }
          ],
          "parcoords": [
           {
            "line": {
             "colorbar": {
              "outlinewidth": 0,
              "ticks": ""
             }
            },
            "type": "parcoords"
           }
          ],
          "pie": [
           {
            "automargin": true,
            "type": "pie"
           }
          ],
          "scatter": [
           {
            "fillpattern": {
             "fillmode": "overlay",
             "size": 10,
             "solidity": 0.2
            },
            "type": "scatter"
           }
          ],
          "scatter3d": [
           {
            "line": {
             "colorbar": {
              "outlinewidth": 0,
              "ticks": ""
             }
            },
            "marker": {
             "colorbar": {
              "outlinewidth": 0,
              "ticks": ""
             }
            },
            "type": "scatter3d"
           }
          ],
          "scattercarpet": [
           {
            "marker": {
             "colorbar": {
              "outlinewidth": 0,
              "ticks": ""
             }
            },
            "type": "scattercarpet"
           }
          ],
          "scattergeo": [
           {
            "marker": {
             "colorbar": {
              "outlinewidth": 0,
              "ticks": ""
             }
            },
            "type": "scattergeo"
           }
          ],
          "scattergl": [
           {
            "marker": {
             "colorbar": {
              "outlinewidth": 0,
              "ticks": ""
             }
            },
            "type": "scattergl"
           }
          ],
          "scattermapbox": [
           {
            "marker": {
             "colorbar": {
              "outlinewidth": 0,
              "ticks": ""
             }
            },
            "type": "scattermapbox"
           }
          ],
          "scatterpolar": [
           {
            "marker": {
             "colorbar": {
              "outlinewidth": 0,
              "ticks": ""
             }
            },
            "type": "scatterpolar"
           }
          ],
          "scatterpolargl": [
           {
            "marker": {
             "colorbar": {
              "outlinewidth": 0,
              "ticks": ""
             }
            },
            "type": "scatterpolargl"
           }
          ],
          "scatterternary": [
           {
            "marker": {
             "colorbar": {
              "outlinewidth": 0,
              "ticks": ""
             }
            },
            "type": "scatterternary"
           }
          ],
          "surface": [
           {
            "colorbar": {
             "outlinewidth": 0,
             "ticks": ""
            },
            "colorscale": [
             [
              0,
              "#0d0887"
             ],
             [
              0.1111111111111111,
              "#46039f"
             ],
             [
              0.2222222222222222,
              "#7201a8"
             ],
             [
              0.3333333333333333,
              "#9c179e"
             ],
             [
              0.4444444444444444,
              "#bd3786"
             ],
             [
              0.5555555555555556,
              "#d8576b"
             ],
             [
              0.6666666666666666,
              "#ed7953"
             ],
             [
              0.7777777777777778,
              "#fb9f3a"
             ],
             [
              0.8888888888888888,
              "#fdca26"
             ],
             [
              1,
              "#f0f921"
             ]
            ],
            "type": "surface"
           }
          ],
          "table": [
           {
            "cells": {
             "fill": {
              "color": "#EBF0F8"
             },
             "line": {
              "color": "white"
             }
            },
            "header": {
             "fill": {
              "color": "#C8D4E3"
             },
             "line": {
              "color": "white"
             }
            },
            "type": "table"
           }
          ]
         },
         "layout": {
          "annotationdefaults": {
           "arrowcolor": "#2a3f5f",
           "arrowhead": 0,
           "arrowwidth": 1
          },
          "autotypenumbers": "strict",
          "coloraxis": {
           "colorbar": {
            "outlinewidth": 0,
            "ticks": ""
           }
          },
          "colorscale": {
           "diverging": [
            [
             0,
             "#8e0152"
            ],
            [
             0.1,
             "#c51b7d"
            ],
            [
             0.2,
             "#de77ae"
            ],
            [
             0.3,
             "#f1b6da"
            ],
            [
             0.4,
             "#fde0ef"
            ],
            [
             0.5,
             "#f7f7f7"
            ],
            [
             0.6,
             "#e6f5d0"
            ],
            [
             0.7,
             "#b8e186"
            ],
            [
             0.8,
             "#7fbc41"
            ],
            [
             0.9,
             "#4d9221"
            ],
            [
             1,
             "#276419"
            ]
           ],
           "sequential": [
            [
             0,
             "#0d0887"
            ],
            [
             0.1111111111111111,
             "#46039f"
            ],
            [
             0.2222222222222222,
             "#7201a8"
            ],
            [
             0.3333333333333333,
             "#9c179e"
            ],
            [
             0.4444444444444444,
             "#bd3786"
            ],
            [
             0.5555555555555556,
             "#d8576b"
            ],
            [
             0.6666666666666666,
             "#ed7953"
            ],
            [
             0.7777777777777778,
             "#fb9f3a"
            ],
            [
             0.8888888888888888,
             "#fdca26"
            ],
            [
             1,
             "#f0f921"
            ]
           ],
           "sequentialminus": [
            [
             0,
             "#0d0887"
            ],
            [
             0.1111111111111111,
             "#46039f"
            ],
            [
             0.2222222222222222,
             "#7201a8"
            ],
            [
             0.3333333333333333,
             "#9c179e"
            ],
            [
             0.4444444444444444,
             "#bd3786"
            ],
            [
             0.5555555555555556,
             "#d8576b"
            ],
            [
             0.6666666666666666,
             "#ed7953"
            ],
            [
             0.7777777777777778,
             "#fb9f3a"
            ],
            [
             0.8888888888888888,
             "#fdca26"
            ],
            [
             1,
             "#f0f921"
            ]
           ]
          },
          "colorway": [
           "#636efa",
           "#EF553B",
           "#00cc96",
           "#ab63fa",
           "#FFA15A",
           "#19d3f3",
           "#FF6692",
           "#B6E880",
           "#FF97FF",
           "#FECB52"
          ],
          "font": {
           "color": "#2a3f5f"
          },
          "geo": {
           "bgcolor": "white",
           "lakecolor": "white",
           "landcolor": "#E5ECF6",
           "showlakes": true,
           "showland": true,
           "subunitcolor": "white"
          },
          "hoverlabel": {
           "align": "left"
          },
          "hovermode": "closest",
          "mapbox": {
           "style": "light"
          },
          "paper_bgcolor": "white",
          "plot_bgcolor": "#E5ECF6",
          "polar": {
           "angularaxis": {
            "gridcolor": "white",
            "linecolor": "white",
            "ticks": ""
           },
           "bgcolor": "#E5ECF6",
           "radialaxis": {
            "gridcolor": "white",
            "linecolor": "white",
            "ticks": ""
           }
          },
          "scene": {
           "xaxis": {
            "backgroundcolor": "#E5ECF6",
            "gridcolor": "white",
            "gridwidth": 2,
            "linecolor": "white",
            "showbackground": true,
            "ticks": "",
            "zerolinecolor": "white"
           },
           "yaxis": {
            "backgroundcolor": "#E5ECF6",
            "gridcolor": "white",
            "gridwidth": 2,
            "linecolor": "white",
            "showbackground": true,
            "ticks": "",
            "zerolinecolor": "white"
           },
           "zaxis": {
            "backgroundcolor": "#E5ECF6",
            "gridcolor": "white",
            "gridwidth": 2,
            "linecolor": "white",
            "showbackground": true,
            "ticks": "",
            "zerolinecolor": "white"
           }
          },
          "shapedefaults": {
           "line": {
            "color": "#2a3f5f"
           }
          },
          "ternary": {
           "aaxis": {
            "gridcolor": "white",
            "linecolor": "white",
            "ticks": ""
           },
           "baxis": {
            "gridcolor": "white",
            "linecolor": "white",
            "ticks": ""
           },
           "bgcolor": "#E5ECF6",
           "caxis": {
            "gridcolor": "white",
            "linecolor": "white",
            "ticks": ""
           }
          },
          "title": {
           "x": 0.05
          },
          "xaxis": {
           "automargin": true,
           "gridcolor": "white",
           "linecolor": "white",
           "ticks": "",
           "title": {
            "standoff": 15
           },
           "zerolinecolor": "white",
           "zerolinewidth": 2
          },
          "yaxis": {
           "automargin": true,
           "gridcolor": "white",
           "linecolor": "white",
           "ticks": "",
           "title": {
            "standoff": 15
           },
           "zerolinecolor": "white",
           "zerolinewidth": 2
          }
         }
        }
       }
      }
     },
     "metadata": {},
     "output_type": "display_data"
    }
   ],
   "source": [
    "fig = go.Figure(\n",
    "    go.Bar(name='Deleted Data', x = ['Aquilos', 'Arctis', 'CryoFIB', 'Centrios', 'Quanta 3D FEG', 'Aquilos G2+', 'Helios 6', 'Helios PFIB Hydra', 'Scios'] , y = [length_m1.total_seconds()/60, length_m2.total_seconds()/60, length_m3.total_seconds()/60, length_m4.total_seconds()/60, length_m5.total_seconds()/60, length_m6.total_seconds()/60, length_m7.total_seconds()/60,length_m8.total_seconds()/60,length_m9.total_seconds()/60]))\n",
    "\n",
    "fig.show()\n",
    "\n",
    "# délka smazaných dat v minutách"
   ]
  },
  {
   "cell_type": "code",
   "execution_count": 159,
   "metadata": {},
   "outputs": [],
   "source": [
    "df_ServiceMode1 = data1_dropped[['DateTime', 'ServiceModeIsOn']]\n",
    "df_ServiceMode2 = data2_dropped[['DateTime', 'ServiceModeIsOn']]\n",
    "df_ServiceMode3 = data3_dropped[['DateTime', 'ServiceModeIsOn']]\n",
    "df_ServiceMode4 = data4_dropped[['DateTime', 'ServiceModeIsOn']]\n",
    "df_ServiceMode5 = data5_dropped[['DateTime', 'ServiceModeIsOn']]\n",
    "df_ServiceMode6 = data6_dropped[['DateTime', 'ServiceModeIsOn']]\n",
    "df_ServiceMode7 = data7_dropped[['DateTime', 'ServiceModeIsOn']]\n",
    "df_ServiceMode8 = data8_dropped[['DateTime', 'ServiceModeIsOn']]\n",
    "df_ServiceMode9 = data9_dropped[['DateTime', 'ServiceModeIsOn']]\n",
    "\n",
    "\n",
    "# df s relevantními sloupci\n",
    "\n"
   ]
  },
  {
   "cell_type": "code",
   "execution_count": 160,
   "metadata": {},
   "outputs": [],
   "source": [
    "df_ServiceMode1 = df_ServiceMode1.loc[df_ServiceMode1['ServiceModeIsOn'].diff() != 0]\n",
    "df_ServiceMode2 = df_ServiceMode2.loc[df_ServiceMode2['ServiceModeIsOn'].diff() != 0]\n",
    "df_ServiceMode3 = df_ServiceMode3.loc[df_ServiceMode3['ServiceModeIsOn'].diff() != 0]\n",
    "df_ServiceMode4 = df_ServiceMode4.loc[df_ServiceMode4['ServiceModeIsOn'].diff() != 0]\n",
    "df_ServiceMode5 = df_ServiceMode5.loc[df_ServiceMode5['ServiceModeIsOn'].diff() != 0]\n",
    "df_ServiceMode6 = df_ServiceMode6.loc[df_ServiceMode6['ServiceModeIsOn'].diff() != 0]\n",
    "df_ServiceMode7 = df_ServiceMode7.loc[df_ServiceMode7['ServiceModeIsOn'].diff() != 0]\n",
    "df_ServiceMode8 = df_ServiceMode8.loc[df_ServiceMode8['ServiceModeIsOn'].diff() != 0]\n",
    "df_ServiceMode9 = df_ServiceMode9.loc[df_ServiceMode9['ServiceModeIsOn'].diff() != 0]\n",
    "\n",
    "\n",
    "# filtr řádků kde se změnil stav\n",
    "\n"
   ]
  },
  {
   "cell_type": "code",
   "execution_count": 161,
   "metadata": {},
   "outputs": [],
   "source": [
    "Intervals1 = df_ServiceMode1.diff()\n",
    "Intervals2 = df_ServiceMode2.diff()\n",
    "Intervals3 = df_ServiceMode3.diff()\n",
    "Intervals4 = df_ServiceMode4.diff()\n",
    "Intervals5 = df_ServiceMode5.diff()\n",
    "Intervals6 = df_ServiceMode6.diff()\n",
    "Intervals7 = df_ServiceMode7.diff()\n",
    "Intervals8 = df_ServiceMode8.diff()\n",
    "Intervals9 = df_ServiceMode9.diff()\n",
    "\n",
    "\n",
    "# doby kdy byl/nebyl service mode aktivní\n"
   ]
  },
  {
   "cell_type": "code",
   "execution_count": 162,
   "metadata": {},
   "outputs": [],
   "source": [
    "InServiceMode1 = Intervals1.loc[Intervals1['ServiceModeIsOn'] == -1].sum()\n",
    "InServiceMode2 = Intervals2.loc[Intervals2['ServiceModeIsOn'] == -1].sum()\n",
    "InServiceMode3 = Intervals3.loc[Intervals3['ServiceModeIsOn'] == -1].sum()\n",
    "InServiceMode4 = Intervals4.loc[Intervals4['ServiceModeIsOn'] == -1].sum()\n",
    "InServiceMode5 = Intervals5.loc[Intervals5['ServiceModeIsOn'] == -1].sum()\n",
    "InServiceMode6 = Intervals6.loc[Intervals6['ServiceModeIsOn'] == -1].sum()\n",
    "InServiceMode7 = Intervals7.loc[Intervals7['ServiceModeIsOn'] == -1].sum()\n",
    "InServiceMode8 = Intervals8.loc[Intervals8['ServiceModeIsOn'] == -1].sum()\n",
    "InServiceMode9 = Intervals9.loc[Intervals9['ServiceModeIsOn'] == -1].sum()\n",
    "\n",
    "\n",
    "# doby kdy byly mikroskopy v servisním módu"
   ]
  },
  {
   "cell_type": "code",
   "execution_count": 163,
   "metadata": {},
   "outputs": [],
   "source": [
    "NotInServiceMode1 = Intervals1.loc[Intervals1['ServiceModeIsOn'] == 1].sum()\n",
    "NotInServiceMode2 = Intervals2.loc[Intervals2['ServiceModeIsOn'] == 1].sum()\n",
    "NotInServiceMode3 = Intervals3.loc[Intervals3['ServiceModeIsOn'] == 1].sum()\n",
    "NotInServiceMode4 = Intervals4.loc[Intervals4['ServiceModeIsOn'] == 1].sum()\n",
    "NotInServiceMode5 = Intervals5.loc[Intervals5['ServiceModeIsOn'] == 1].sum()\n",
    "NotInServiceMode6 = Intervals6.loc[Intervals6['ServiceModeIsOn'] == 1].sum()\n",
    "NotInServiceMode7 = Intervals7.loc[Intervals7['ServiceModeIsOn'] == 1].sum()\n",
    "NotInServiceMode8 = Intervals8.loc[Intervals8['ServiceModeIsOn'] == 1].sum()\n",
    "NotInServiceMode9 = Intervals9.loc[Intervals9['ServiceModeIsOn'] == 1].sum()\n",
    "\n",
    "# doby kdy nebyly mikroskopy v SM"
   ]
  },
  {
   "cell_type": "code",
   "execution_count": 164,
   "metadata": {},
   "outputs": [],
   "source": [
    "InSM1 = (InServiceMode1[0].total_seconds()/3600)/lengthd_1.days\n",
    "InSM2 = (InServiceMode2[0].total_seconds()/3600)/lengthd_2.days\n",
    "InSM3 = (InServiceMode3[0].total_seconds()/3600)/lengthd_3.days\n",
    "InSM4 = (InServiceMode4[0].total_seconds()/3600)/lengthd_4.days\n",
    "InSM5 = (InServiceMode5[0].total_seconds()/3600)/lengthd_5.days\n",
    "InSM6 = (InServiceMode6[0].total_seconds()/3600)/lengthd_6.days\n",
    "InSM7 = (InServiceMode7[0].total_seconds()/3600)/lengthd_7.days\n",
    "InSM8 = (InServiceMode8[0].total_seconds()/3600)/lengthd_8.days\n",
    "InSM9 = (InServiceMode9[0].total_seconds()/3600)/lengthd_9.days\n",
    "\n",
    "# průměrný počet hodin/den"
   ]
  },
  {
   "cell_type": "code",
   "execution_count": 165,
   "metadata": {},
   "outputs": [],
   "source": [
    "NotInSM1 = (NotInServiceMode1[0].total_seconds()/3600)/lengthd_1.days\n",
    "NotInSM2 = (NotInServiceMode2[0].total_seconds()/3600)/lengthd_2.days\n",
    "NotInSM3 = (NotInServiceMode3[0].total_seconds()/3600)/lengthd_3.days\n",
    "NotInSM4 = (NotInServiceMode4[0].total_seconds()/3600)/lengthd_4.days\n",
    "NotInSM5 = (NotInServiceMode5[0].total_seconds()/3600)/lengthd_5.days\n",
    "NotInSM6 = (NotInServiceMode6[0].total_seconds()/3600)/lengthd_6.days\n",
    "NotInSM7 = (NotInServiceMode7[0].total_seconds()/3600)/lengthd_7.days\n",
    "NotInSM8 = (NotInServiceMode8[0].total_seconds()/3600)/lengthd_8.days\n",
    "NotInSM9 = (NotInServiceMode9[0].total_seconds()/3600)/lengthd_9.days\n",
    "\n",
    "# průměrný počet hodin/den"
   ]
  },
  {
   "cell_type": "code",
   "execution_count": 166,
   "metadata": {},
   "outputs": [],
   "source": [
    "list=[[\"Aquilos\", InSM1, NotInSM1], [\"Arctis\", InSM2, NotInSM2], ['CryoFIB', InSM3, NotInSM3], [ \"Centrios\", InSM4, NotInSM4], [\"Quanta 3D FEG\", InSM5, NotInSM5], [\"Aquilos G2+\", InSM6, NotInSM6], [\"Helios 6\", InSM7, NotInSM7], [\"Helios PFIB Hydra\", InSM8, NotInSM8], [\"Scio\", InSM9, NotInSM9]]\n",
    "\n",
    "# seznam hodnot do dataframu"
   ]
  },
  {
   "cell_type": "code",
   "execution_count": 167,
   "metadata": {},
   "outputs": [
    {
     "name": "stderr",
     "output_type": "stream",
     "text": [
      "C:\\Users\\czechitas\\AppData\\Local\\Temp\\ipykernel_20492\\3007162025.py:1: FutureWarning:\n",
      "\n",
      "Could not cast to float64, falling back to object. This behavior is deprecated. In a future version, when a dtype is passed to 'DataFrame', either all columns will be cast to that dtype, or a TypeError will be raised.\n",
      "\n"
     ]
    }
   ],
   "source": [
    "df_final_servicemode=pn.DataFrame(list, columns= [\"name\", \"inservicemode\", \"notinservicemode\"], dtype=float)\n",
    "\n",
    "# konečný df k exportu do csv"
   ]
  },
  {
   "cell_type": "code",
   "execution_count": 168,
   "metadata": {},
   "outputs": [],
   "source": [
    "df_final_servicemode.to_csv('ServiceMode.csv')\n",
    "\n",
    "\n",
    "# export do csv"
   ]
  },
  {
   "cell_type": "code",
   "execution_count": 169,
   "metadata": {},
   "outputs": [
    {
     "data": {
      "image/png": "[encoded data removed]",
      "text/plain": [
       "<Figure size 1200x800 with 1 Axes>"
      ]
     },
     "metadata": {},
     "output_type": "display_data"
    }
   ],
   "source": [
    "barWidth = 0.25\n",
    "fig = plt.subplots(figsize =(12, 8))\n",
    " \n",
    "# set height of bar\n",
    "InServiceMode = [InSM1, InSM2, InSM3, InSM4, InSM5, InSM6, InSM7, InSM8, InSM9]\n",
    "NotInServiceMode = [NotInSM1, NotInSM2, NotInSM3, NotInSM4, NotInSM5, NotInSM6, NotInSM7, NotInSM8, NotInSM9]\n",
    " \n",
    "# Set position of bar on X axis\n",
    "br1 = np.arange(len(InServiceMode))\n",
    "br2 = [x + barWidth for x in br1]\n",
    "\n",
    " \n",
    "# Make the plot\n",
    "plt.bar(br1, InServiceMode, color ='r', width = barWidth,\n",
    "        edgecolor ='grey', label ='InServiceMode')\n",
    "plt.bar(br2, NotInServiceMode, color ='b', width = barWidth,\n",
    "        edgecolor ='grey', label ='NotInServiceMode')\n",
    "\n",
    " \n",
    "# Adding Xticks\n",
    "plt.xlabel('Microscope', fontweight ='bold', fontsize = 15)\n",
    "plt.ylabel('Interval', fontweight ='bold', fontsize = 15)\n",
    "plt.xticks([r + barWidth for r in range(len(InServiceMode))],\n",
    "        ['Aquilos', 'Arctis', 'CryoFIB', 'Centrios', 'Quanta 3D FEG', 'Aquilos G2+', 'Helios 6', 'Helios PFIB Hydra', 'Scios'])\n",
    "\n",
    "plt.title(\"Average number of hours in/not in service mode\")\n",
    "plt.legend()\n",
    "plt.show()\n",
    "\n",
    "# srovnání obou dob"
   ]
  },
  {
   "cell_type": "code",
   "execution_count": 170,
   "metadata": {},
   "outputs": [],
   "source": [
    "df1_externalState = data1_dropped.drop([\"ServerWatchdog\", \"BeamIsOn\", \"IsBlanked\", \"ServiceModeIsOn\"], axis= 'columns')\n",
    "df2_externalState = data2_dropped.drop([\"ServerWatchdog\", \"BeamIsOn\", \"IsBlanked\", \"ServiceModeIsOn\"], axis= 'columns')\n",
    "df3_externalState = data3_dropped.drop([\"ServerWatchdog\", \"BeamIsOn\", \"IsBlanked\", \"ServiceModeIsOn\"], axis= 'columns')\n",
    "df4_externalState = data4_dropped.drop([\"ServerWatchdog\", \"BeamIsOn\", \"IsBlanked\", \"ServiceModeIsOn\"], axis= 'columns')\n",
    "df5_externalState = data5_dropped.drop([\"ServerWatchdog\", \"BeamIsOn\", \"IsBlanked\", \"ServiceModeIsOn\"], axis= 'columns')\n",
    "df6_externalState = data6_dropped.drop([\"ServerWatchdog\", \"BeamIsOn\", \"IsBlanked\", \"ServiceModeIsOn\"], axis= 'columns')\n",
    "df7_externalState = data7_dropped.drop([\"ServerWatchdog\", \"BeamIsOn\", \"IsBlanked\", \"ServiceModeIsOn\"], axis= 'columns')\n",
    "df8_externalState = data8_dropped.drop([\"ServerWatchdog\", \"BeamIsOn\", \"IsBlanked\", \"ServiceModeIsOn\"], axis= 'columns')\n",
    "df9_externalState = data9_dropped.drop([\"ServerWatchdog\", \"BeamIsOn\", \"IsBlanked\", \"ServiceModeIsOn\"], axis= 'columns')\n",
    "\n",
    "\n",
    "# odmazání nepotřebných sloupečků\n"
   ]
  },
  {
   "cell_type": "code",
   "execution_count": 171,
   "metadata": {},
   "outputs": [],
   "source": [
    "df1_externalState = df1_externalState.loc[df1_externalState['ExternalState'].diff() != 0]\n",
    "df2_externalState = df2_externalState.loc[df2_externalState['ExternalState'].diff() != 0]\n",
    "df3_externalState = df3_externalState.loc[df3_externalState['ExternalState'].diff() != 0]\n",
    "df4_externalState = df4_externalState.loc[df4_externalState['ExternalState'].diff() != 0]\n",
    "df5_externalState = df5_externalState.loc[df5_externalState['ExternalState'].diff() != 0]\n",
    "df6_externalState = df6_externalState.loc[df6_externalState['ExternalState'].diff() != 0]\n",
    "df7_externalState = df7_externalState.loc[df7_externalState['ExternalState'].diff() != 0]\n",
    "df8_externalState = df8_externalState.loc[df8_externalState['ExternalState'].diff() != 0]\n",
    "df9_externalState = df9_externalState.loc[df9_externalState['ExternalState'].diff() != 0]\n",
    "\n",
    "\n",
    "# výběr řádků kde je změna"
   ]
  },
  {
   "cell_type": "code",
   "execution_count": 172,
   "metadata": {},
   "outputs": [],
   "source": [
    "df1_externalState['Difference'] = df1_externalState['DateTime'].diff()\n",
    "df2_externalState['Difference'] = df2_externalState['DateTime'].diff()\n",
    "df3_externalState['Difference'] = df3_externalState['DateTime'].diff()\n",
    "df4_externalState['Difference'] = df4_externalState['DateTime'].diff()\n",
    "df5_externalState['Difference'] = df5_externalState['DateTime'].diff()\n",
    "df6_externalState['Difference'] = df6_externalState['DateTime'].diff()\n",
    "df7_externalState['Difference'] = df7_externalState['DateTime'].diff()\n",
    "df8_externalState['Difference'] = df8_externalState['DateTime'].diff()\n",
    "df9_externalState['Difference'] = df9_externalState['DateTime'].diff()\n",
    "\n",
    "# rozdíly mezi stavy\n"
   ]
  },
  {
   "cell_type": "code",
   "execution_count": 173,
   "metadata": {},
   "outputs": [],
   "source": [
    "df1_externalState['Difference'] = df1_externalState['Difference'].shift(-1)\n",
    "df2_externalState['Difference'] = df2_externalState['Difference'].shift(-1)\n",
    "df3_externalState['Difference'] = df3_externalState['Difference'].shift(-1)\n",
    "df4_externalState['Difference'] = df4_externalState['Difference'].shift(-1)\n",
    "df5_externalState['Difference'] = df5_externalState['Difference'].shift(-1)\n",
    "df6_externalState['Difference'] = df6_externalState['Difference'].shift(-1)\n",
    "df7_externalState['Difference'] = df7_externalState['Difference'].shift(-1)\n",
    "df8_externalState['Difference'] = df8_externalState['Difference'].shift(-1)\n",
    "df9_externalState['Difference'] = df9_externalState['Difference'].shift(-1)\n",
    "\n",
    "\n",
    "# posunutí sloupečku\n"
   ]
  },
  {
   "cell_type": "code",
   "execution_count": 174,
   "metadata": {},
   "outputs": [
    {
     "name": "stderr",
     "output_type": "stream",
     "text": [
      "C:\\Users\\czechitas\\AppData\\Local\\Temp\\ipykernel_20492\\153468096.py:1: FutureWarning:\n",
      "\n",
      "The default value of numeric_only in DataFrameGroupBy.sum is deprecated. In a future version, numeric_only will default to False. Either specify numeric_only or select only columns which should be valid for the function.\n",
      "\n",
      "C:\\Users\\czechitas\\AppData\\Local\\Temp\\ipykernel_20492\\153468096.py:2: FutureWarning:\n",
      "\n",
      "The default value of numeric_only in DataFrameGroupBy.sum is deprecated. In a future version, numeric_only will default to False. Either specify numeric_only or select only columns which should be valid for the function.\n",
      "\n",
      "C:\\Users\\czechitas\\AppData\\Local\\Temp\\ipykernel_20492\\153468096.py:3: FutureWarning:\n",
      "\n",
      "The default value of numeric_only in DataFrameGroupBy.sum is deprecated. In a future version, numeric_only will default to False. Either specify numeric_only or select only columns which should be valid for the function.\n",
      "\n",
      "C:\\Users\\czechitas\\AppData\\Local\\Temp\\ipykernel_20492\\153468096.py:4: FutureWarning:\n",
      "\n",
      "The default value of numeric_only in DataFrameGroupBy.sum is deprecated. In a future version, numeric_only will default to False. Either specify numeric_only or select only columns which should be valid for the function.\n",
      "\n",
      "C:\\Users\\czechitas\\AppData\\Local\\Temp\\ipykernel_20492\\153468096.py:5: FutureWarning:\n",
      "\n",
      "The default value of numeric_only in DataFrameGroupBy.sum is deprecated. In a future version, numeric_only will default to False. Either specify numeric_only or select only columns which should be valid for the function.\n",
      "\n",
      "C:\\Users\\czechitas\\AppData\\Local\\Temp\\ipykernel_20492\\153468096.py:6: FutureWarning:\n",
      "\n",
      "The default value of numeric_only in DataFrameGroupBy.sum is deprecated. In a future version, numeric_only will default to False. Either specify numeric_only or select only columns which should be valid for the function.\n",
      "\n",
      "C:\\Users\\czechitas\\AppData\\Local\\Temp\\ipykernel_20492\\153468096.py:7: FutureWarning:\n",
      "\n",
      "The default value of numeric_only in DataFrameGroupBy.sum is deprecated. In a future version, numeric_only will default to False. Either specify numeric_only or select only columns which should be valid for the function.\n",
      "\n",
      "C:\\Users\\czechitas\\AppData\\Local\\Temp\\ipykernel_20492\\153468096.py:8: FutureWarning:\n",
      "\n",
      "The default value of numeric_only in DataFrameGroupBy.sum is deprecated. In a future version, numeric_only will default to False. Either specify numeric_only or select only columns which should be valid for the function.\n",
      "\n",
      "C:\\Users\\czechitas\\AppData\\Local\\Temp\\ipykernel_20492\\153468096.py:9: FutureWarning:\n",
      "\n",
      "The default value of numeric_only in DataFrameGroupBy.sum is deprecated. In a future version, numeric_only will default to False. Either specify numeric_only or select only columns which should be valid for the function.\n",
      "\n"
     ]
    }
   ],
   "source": [
    "df1_groupped = df1_externalState.groupby(['ExternalState']).sum()\n",
    "df2_groupped = df2_externalState.groupby(['ExternalState']).sum()\n",
    "df3_groupped = df3_externalState.groupby(['ExternalState']).sum()\n",
    "df4_groupped = df4_externalState.groupby(['ExternalState']).sum()\n",
    "df5_groupped = df5_externalState.groupby(['ExternalState']).sum()\n",
    "df6_groupped = df6_externalState.groupby(['ExternalState']).sum()\n",
    "df7_groupped = df7_externalState.groupby(['ExternalState']).sum()\n",
    "df8_groupped = df8_externalState.groupby(['ExternalState']).sum()\n",
    "df9_groupped = df9_externalState.groupby(['ExternalState']).sum()\n",
    "\n",
    "# seskupení podle režimů a součet času"
   ]
  },
  {
   "cell_type": "code",
   "execution_count": 175,
   "metadata": {},
   "outputs": [],
   "source": [
    "def minutes(x):\n",
    "   return x.total_seconds()/3600\n",
    "\n",
    "# funkce k přepočtu na hodiny\n"
   ]
  },
  {
   "cell_type": "code",
   "execution_count": 176,
   "metadata": {},
   "outputs": [],
   "source": [
    "df1_groupped['Difference'] = df1_groupped['Difference'].apply(minutes)\n",
    "df2_groupped['Difference'] = df2_groupped['Difference'].apply(minutes)\n",
    "df3_groupped['Difference'] = df3_groupped['Difference'].apply(minutes)\n",
    "df4_groupped['Difference'] = df4_groupped['Difference'].apply(minutes)\n",
    "df5_groupped['Difference'] = df5_groupped['Difference'].apply(minutes)\n",
    "df6_groupped['Difference'] = df6_groupped['Difference'].apply(minutes)\n",
    "df7_groupped['Difference'] = df7_groupped['Difference'].apply(minutes)\n",
    "df8_groupped['Difference'] = df8_groupped['Difference'].apply(minutes)\n",
    "df9_groupped['Difference'] = df9_groupped['Difference'].apply(minutes)\n",
    "\n",
    "\n",
    "# přepočet seskupených časů na hodiny\n"
   ]
  },
  {
   "cell_type": "code",
   "execution_count": 177,
   "metadata": {},
   "outputs": [],
   "source": [
    "df1_groupped['Percent'] = (df1_groupped['Difference']/df1_groupped['Difference'].sum())*100\n",
    "df2_groupped['Percent'] = (df2_groupped['Difference']/df2_groupped['Difference'].sum())*100\n",
    "df3_groupped['Percent'] = (df3_groupped['Difference']/df3_groupped['Difference'].sum())*100\n",
    "df4_groupped['Percent'] = (df4_groupped['Difference']/df4_groupped['Difference'].sum())*100\n",
    "df5_groupped['Percent'] = (df5_groupped['Difference']/df5_groupped['Difference'].sum())*100\n",
    "df6_groupped['Percent'] = (df6_groupped['Difference']/df6_groupped['Difference'].sum())*100\n",
    "df7_groupped['Percent'] = (df7_groupped['Difference']/df7_groupped['Difference'].sum())*100\n",
    "df8_groupped['Percent'] = (df8_groupped['Difference']/df8_groupped['Difference'].sum())*100\n",
    "df9_groupped['Percent'] = (df9_groupped['Difference']/df9_groupped['Difference'].sum())*100\n",
    "\n",
    "# přidání sloupce s procentuálním poměrem"
   ]
  },
  {
   "cell_type": "code",
   "execution_count": 178,
   "metadata": {},
   "outputs": [
    {
     "data": {
      "text/html": [
       "<div>\n",
       "<style scoped>\n",
       "    .dataframe tbody tr th:only-of-type {\n",
       "        vertical-align: middle;\n",
       "    }\n",
       "\n",
       "    .dataframe tbody tr th {\n",
       "        vertical-align: top;\n",
       "    }\n",
       "\n",
       "    .dataframe thead th {\n",
       "        text-align: right;\n",
       "    }\n",
       "</style>\n",
       "<table border=\"1\" class=\"dataframe\">\n",
       "  <thead>\n",
       "    <tr style=\"text-align: right;\">\n",
       "      <th></th>\n",
       "      <th>Difference</th>\n",
       "      <th>Percent</th>\n",
       "    </tr>\n",
       "    <tr>\n",
       "      <th>ExternalState</th>\n",
       "      <th></th>\n",
       "      <th></th>\n",
       "    </tr>\n",
       "  </thead>\n",
       "  <tbody>\n",
       "    <tr>\n",
       "      <th>1</th>\n",
       "      <td>731.095726</td>\n",
       "      <td>34.208318</td>\n",
       "    </tr>\n",
       "    <tr>\n",
       "      <th>2</th>\n",
       "      <td>2.438746</td>\n",
       "      <td>0.114110</td>\n",
       "    </tr>\n",
       "    <tr>\n",
       "      <th>3</th>\n",
       "      <td>9.459492</td>\n",
       "      <td>0.442614</td>\n",
       "    </tr>\n",
       "    <tr>\n",
       "      <th>4</th>\n",
       "      <td>1393.375498</td>\n",
       "      <td>65.196705</td>\n",
       "    </tr>\n",
       "    <tr>\n",
       "      <th>5</th>\n",
       "      <td>0.329637</td>\n",
       "      <td>0.015424</td>\n",
       "    </tr>\n",
       "    <tr>\n",
       "      <th>6</th>\n",
       "      <td>0.487894</td>\n",
       "      <td>0.022829</td>\n",
       "    </tr>\n",
       "  </tbody>\n",
       "</table>\n",
       "</div>"
      ],
      "text/plain": [
       "                Difference    Percent\n",
       "ExternalState                        \n",
       "1               731.095726  34.208318\n",
       "2                 2.438746   0.114110\n",
       "3                 9.459492   0.442614\n",
       "4              1393.375498  65.196705\n",
       "5                 0.329637   0.015424\n",
       "6                 0.487894   0.022829"
      ]
     },
     "execution_count": 178,
     "metadata": {},
     "output_type": "execute_result"
    }
   ],
   "source": [
    "df1_groupped"
   ]
  },
  {
   "cell_type": "code",
   "execution_count": 179,
   "metadata": {},
   "outputs": [],
   "source": [
    "merged_df = [df1_groupped, df2_groupped, df3_groupped, df4_groupped,df5_groupped,df6_groupped, df7_groupped, df8_groupped, df9_groupped]\n",
    "\n",
    "# df ke sloučení"
   ]
  },
  {
   "cell_type": "code",
   "execution_count": 180,
   "metadata": {},
   "outputs": [
    {
     "name": "stderr",
     "output_type": "stream",
     "text": [
      "C:\\Users\\czechitas\\AppData\\Local\\Temp\\ipykernel_20492\\3176435196.py:1: FutureWarning:\n",
      "\n",
      "Passing 'suffixes' which cause duplicate columns {'Percent_x', 'Difference_x'} in the result is deprecated and will raise a MergeError in a future version.\n",
      "\n",
      "C:\\Users\\czechitas\\AppData\\Local\\Temp\\ipykernel_20492\\3176435196.py:1: FutureWarning:\n",
      "\n",
      "Passing 'suffixes' which cause duplicate columns {'Percent_x', 'Difference_x'} in the result is deprecated and will raise a MergeError in a future version.\n",
      "\n",
      "C:\\Users\\czechitas\\AppData\\Local\\Temp\\ipykernel_20492\\3176435196.py:1: FutureWarning:\n",
      "\n",
      "Passing 'suffixes' which cause duplicate columns {'Percent_x', 'Difference_x'} in the result is deprecated and will raise a MergeError in a future version.\n",
      "\n"
     ]
    }
   ],
   "source": [
    "df_ExState_Final = reduce(lambda  left,right: pn.merge(left,right,on=['ExternalState'],how='outer'), merged_df)\n",
    "\n",
    "# konečný df k exportu do csv"
   ]
  },
  {
   "cell_type": "code",
   "execution_count": 181,
   "metadata": {},
   "outputs": [],
   "source": [
    "ET_columns = ['Aquilos','Aquilos', 'Arctis', 'Arctis','CryoFIB', 'CryoFIB','Centrios','Centrios','Quanta 3D FEG','Quanta 3D FEG', 'Aquilos G2+','Aquilos G2+', 'Helios 6','Helios 6', 'Helios PFIB Hydra', 'Helios PFIB Hydra','Scio', 'Scio']\n",
    "\n",
    "# názvy sloupců pro df"
   ]
  },
  {
   "cell_type": "code",
   "execution_count": 182,
   "metadata": {},
   "outputs": [],
   "source": [
    "df_ExState_Final.columns = ET_columns\n",
    "\n",
    "# přiřazení názvů"
   ]
  },
  {
   "cell_type": "code",
   "execution_count": 183,
   "metadata": {},
   "outputs": [
    {
     "data": {
      "text/html": [
       "<div>\n",
       "<style scoped>\n",
       "    .dataframe tbody tr th:only-of-type {\n",
       "        vertical-align: middle;\n",
       "    }\n",
       "\n",
       "    .dataframe tbody tr th {\n",
       "        vertical-align: top;\n",
       "    }\n",
       "\n",
       "    .dataframe thead th {\n",
       "        text-align: right;\n",
       "    }\n",
       "</style>\n",
       "<table border=\"1\" class=\"dataframe\">\n",
       "  <thead>\n",
       "    <tr style=\"text-align: right;\">\n",
       "      <th></th>\n",
       "      <th>Aquilos</th>\n",
       "      <th>Aquilos</th>\n",
       "      <th>Arctis</th>\n",
       "      <th>Arctis</th>\n",
       "      <th>CryoFIB</th>\n",
       "      <th>CryoFIB</th>\n",
       "      <th>Centrios</th>\n",
       "      <th>Centrios</th>\n",
       "      <th>Quanta 3D FEG</th>\n",
       "      <th>Quanta 3D FEG</th>\n",
       "      <th>Aquilos G2+</th>\n",
       "      <th>Aquilos G2+</th>\n",
       "      <th>Helios 6</th>\n",
       "      <th>Helios 6</th>\n",
       "      <th>Helios PFIB Hydra</th>\n",
       "      <th>Helios PFIB Hydra</th>\n",
       "      <th>Scio</th>\n",
       "      <th>Scio</th>\n",
       "    </tr>\n",
       "    <tr>\n",
       "      <th>ExternalState</th>\n",
       "      <th></th>\n",
       "      <th></th>\n",
       "      <th></th>\n",
       "      <th></th>\n",
       "      <th></th>\n",
       "      <th></th>\n",
       "      <th></th>\n",
       "      <th></th>\n",
       "      <th></th>\n",
       "      <th></th>\n",
       "      <th></th>\n",
       "      <th></th>\n",
       "      <th></th>\n",
       "      <th></th>\n",
       "      <th></th>\n",
       "      <th></th>\n",
       "      <th></th>\n",
       "      <th></th>\n",
       "    </tr>\n",
       "  </thead>\n",
       "  <tbody>\n",
       "    <tr>\n",
       "      <th>1</th>\n",
       "      <td>731.095726</td>\n",
       "      <td>34.208318</td>\n",
       "      <td>407.550399</td>\n",
       "      <td>4.650393</td>\n",
       "      <td>160.153136</td>\n",
       "      <td>5.483636</td>\n",
       "      <td>57.791700</td>\n",
       "      <td>1.979081</td>\n",
       "      <td>56.165328</td>\n",
       "      <td>1.935621</td>\n",
       "      <td>738.332017</td>\n",
       "      <td>26.245415</td>\n",
       "      <td>39.933295</td>\n",
       "      <td>1.614793</td>\n",
       "      <td>254.974119</td>\n",
       "      <td>4.787143</td>\n",
       "      <td>39.950703</td>\n",
       "      <td>1.380043</td>\n",
       "    </tr>\n",
       "    <tr>\n",
       "      <th>2</th>\n",
       "      <td>2.438746</td>\n",
       "      <td>0.114110</td>\n",
       "      <td>4.183320</td>\n",
       "      <td>0.047734</td>\n",
       "      <td>2.711321</td>\n",
       "      <td>0.092835</td>\n",
       "      <td>8.608802</td>\n",
       "      <td>0.294809</td>\n",
       "      <td>3.169272</td>\n",
       "      <td>0.109222</td>\n",
       "      <td>1.522839</td>\n",
       "      <td>0.054132</td>\n",
       "      <td>2.035067</td>\n",
       "      <td>0.082292</td>\n",
       "      <td>5.149288</td>\n",
       "      <td>0.096678</td>\n",
       "      <td>3.460563</td>\n",
       "      <td>0.119541</td>\n",
       "    </tr>\n",
       "    <tr>\n",
       "      <th>3</th>\n",
       "      <td>9.459492</td>\n",
       "      <td>0.442614</td>\n",
       "      <td>9.057139</td>\n",
       "      <td>0.103347</td>\n",
       "      <td>14.854125</td>\n",
       "      <td>0.508605</td>\n",
       "      <td>12.681756</td>\n",
       "      <td>0.434288</td>\n",
       "      <td>6.210886</td>\n",
       "      <td>0.214045</td>\n",
       "      <td>5.528670</td>\n",
       "      <td>0.196527</td>\n",
       "      <td>4.546505</td>\n",
       "      <td>0.183848</td>\n",
       "      <td>90.014371</td>\n",
       "      <td>1.690021</td>\n",
       "      <td>3.901896</td>\n",
       "      <td>0.134786</td>\n",
       "    </tr>\n",
       "    <tr>\n",
       "      <th>4</th>\n",
       "      <td>1393.375498</td>\n",
       "      <td>65.196705</td>\n",
       "      <td>8341.626711</td>\n",
       "      <td>95.182931</td>\n",
       "      <td>2741.525781</td>\n",
       "      <td>93.869715</td>\n",
       "      <td>2839.844133</td>\n",
       "      <td>97.250668</td>\n",
       "      <td>2834.718924</td>\n",
       "      <td>97.692669</td>\n",
       "      <td>2067.295226</td>\n",
       "      <td>73.485939</td>\n",
       "      <td>2425.229093</td>\n",
       "      <td>98.069589</td>\n",
       "      <td>4973.872253</td>\n",
       "      <td>93.384529</td>\n",
       "      <td>2846.375153</td>\n",
       "      <td>98.324208</td>\n",
       "    </tr>\n",
       "    <tr>\n",
       "      <th>5</th>\n",
       "      <td>0.329637</td>\n",
       "      <td>0.015424</td>\n",
       "      <td>1.182924</td>\n",
       "      <td>0.013498</td>\n",
       "      <td>1.030454</td>\n",
       "      <td>0.035283</td>\n",
       "      <td>1.096999</td>\n",
       "      <td>0.037567</td>\n",
       "      <td>1.191321</td>\n",
       "      <td>0.041056</td>\n",
       "      <td>0.367878</td>\n",
       "      <td>0.013077</td>\n",
       "      <td>0.991263</td>\n",
       "      <td>0.040084</td>\n",
       "      <td>1.791612</td>\n",
       "      <td>0.033638</td>\n",
       "      <td>1.098711</td>\n",
       "      <td>0.037954</td>\n",
       "    </tr>\n",
       "    <tr>\n",
       "      <th>6</th>\n",
       "      <td>0.487894</td>\n",
       "      <td>0.022829</td>\n",
       "      <td>0.183710</td>\n",
       "      <td>0.002096</td>\n",
       "      <td>0.289914</td>\n",
       "      <td>0.009927</td>\n",
       "      <td>0.104754</td>\n",
       "      <td>0.003587</td>\n",
       "      <td>0.214326</td>\n",
       "      <td>0.007386</td>\n",
       "      <td>0.138134</td>\n",
       "      <td>0.004910</td>\n",
       "      <td>0.232307</td>\n",
       "      <td>0.009394</td>\n",
       "      <td>0.425632</td>\n",
       "      <td>0.007991</td>\n",
       "      <td>0.100411</td>\n",
       "      <td>0.003469</td>\n",
       "    </tr>\n",
       "  </tbody>\n",
       "</table>\n",
       "</div>"
      ],
      "text/plain": [
       "                   Aquilos    Aquilos       Arctis     Arctis      CryoFIB  \\\n",
       "ExternalState                                                                \n",
       "1               731.095726  34.208318   407.550399   4.650393   160.153136   \n",
       "2                 2.438746   0.114110     4.183320   0.047734     2.711321   \n",
       "3                 9.459492   0.442614     9.057139   0.103347    14.854125   \n",
       "4              1393.375498  65.196705  8341.626711  95.182931  2741.525781   \n",
       "5                 0.329637   0.015424     1.182924   0.013498     1.030454   \n",
       "6                 0.487894   0.022829     0.183710   0.002096     0.289914   \n",
       "\n",
       "                 CryoFIB     Centrios   Centrios  Quanta 3D FEG  \\\n",
       "ExternalState                                                     \n",
       "1               5.483636    57.791700   1.979081      56.165328   \n",
       "2               0.092835     8.608802   0.294809       3.169272   \n",
       "3               0.508605    12.681756   0.434288       6.210886   \n",
       "4              93.869715  2839.844133  97.250668    2834.718924   \n",
       "5               0.035283     1.096999   0.037567       1.191321   \n",
       "6               0.009927     0.104754   0.003587       0.214326   \n",
       "\n",
       "               Quanta 3D FEG  Aquilos G2+  Aquilos G2+     Helios 6  \\\n",
       "ExternalState                                                         \n",
       "1                   1.935621   738.332017    26.245415    39.933295   \n",
       "2                   0.109222     1.522839     0.054132     2.035067   \n",
       "3                   0.214045     5.528670     0.196527     4.546505   \n",
       "4                  97.692669  2067.295226    73.485939  2425.229093   \n",
       "5                   0.041056     0.367878     0.013077     0.991263   \n",
       "6                   0.007386     0.138134     0.004910     0.232307   \n",
       "\n",
       "                Helios 6  Helios PFIB Hydra  Helios PFIB Hydra         Scio  \\\n",
       "ExternalState                                                                 \n",
       "1               1.614793         254.974119           4.787143    39.950703   \n",
       "2               0.082292           5.149288           0.096678     3.460563   \n",
       "3               0.183848          90.014371           1.690021     3.901896   \n",
       "4              98.069589        4973.872253          93.384529  2846.375153   \n",
       "5               0.040084           1.791612           0.033638     1.098711   \n",
       "6               0.009394           0.425632           0.007991     0.100411   \n",
       "\n",
       "                    Scio  \n",
       "ExternalState             \n",
       "1               1.380043  \n",
       "2               0.119541  \n",
       "3               0.134786  \n",
       "4              98.324208  \n",
       "5               0.037954  \n",
       "6               0.003469  "
      ]
     },
     "execution_count": 183,
     "metadata": {},
     "output_type": "execute_result"
    }
   ],
   "source": [
    "df_ExState_Final"
   ]
  },
  {
   "cell_type": "code",
   "execution_count": 184,
   "metadata": {},
   "outputs": [],
   "source": [
    "df_ExState_Final.to_csv('ExternalState.csv')\n",
    "\n",
    "# export do csv"
   ]
  },
  {
   "attachments": {},
   "cell_type": "markdown",
   "metadata": {},
   "source": [
    "Aquilos, Arctis, CryoFIB, Centrios, Quanta 3D FEG, Aquilos G2+, Helios 6, Helios PFIB Hydra, Scios"
   ]
  },
  {
   "cell_type": "code",
   "execution_count": 185,
   "metadata": {},
   "outputs": [],
   "source": [
    "data1_dropped['Extraction'] = np.where((data1_dropped['BeamIsOn'] == 1) & \n",
    "                     (data1_dropped['ExternalState'] == 4) &\n",
    "                     (data1_dropped['IsBlanked'] == 0) &\n",
    "                     (data1_dropped['ServerWatchdog'] == 1) &\n",
    "                     (data1_dropped['ServiceModeIsOn'] == 0), '1', '0')\n",
    "\n",
    "data2_dropped['Extraction'] = np.where((data2_dropped['BeamIsOn'] == 1) & \n",
    "                     (data2_dropped['ExternalState'] == 4) &\n",
    "                     (data2_dropped['IsBlanked'] == 0) &\n",
    "                     (data2_dropped['ServerWatchdog'] == 1) &\n",
    "                     (data2_dropped['ServiceModeIsOn'] == 0), '1', '0')\n",
    "\n",
    "data3_dropped['Extraction'] = np.where((data3_dropped['BeamIsOn'] == 1) & \n",
    "                     (data3_dropped['ExternalState'] == 4) &\n",
    "                     (data3_dropped['IsBlanked'] == 0) &\n",
    "                     (data3_dropped['ServerWatchdog'] == 1) &\n",
    "                     (data3_dropped['ServiceModeIsOn'] == 0), '1', '0')\n",
    "\n",
    "data4_dropped['Extraction'] = np.where((data4_dropped['BeamIsOn'] == 1) & \n",
    "                     (data4_dropped['ExternalState'] == 4) &\n",
    "                     (data4_dropped['IsBlanked'] == 0) &\n",
    "                     (data4_dropped['ServerWatchdog'] == 1) &\n",
    "                     (data4_dropped['ServiceModeIsOn'] == 0), '1', '0')\n",
    "\n",
    "data5_dropped['Extraction'] = np.where((data5_dropped['BeamIsOn'] == 1) & \n",
    "                     (data5_dropped['ExternalState'] == 4) &\n",
    "                     (data5_dropped['IsBlanked'] == 0) &\n",
    "                     (data5_dropped['ServerWatchdog'] == 1) &\n",
    "                     (data5_dropped['ServiceModeIsOn'] == 0), '1', '0')\n",
    "\n",
    "data6_dropped['Extraction'] = np.where((data6_dropped['BeamIsOn'] == 1) & \n",
    "                     (data6_dropped['ExternalState'] == 4) &\n",
    "                     (data6_dropped['IsBlanked'] == 0) &\n",
    "                     (data6_dropped['ServerWatchdog'] == 1) &\n",
    "                     (data6_dropped['ServiceModeIsOn'] == 0), '1', '0')\n",
    "\n",
    "data7_dropped['Extraction'] = np.where((data7_dropped['BeamIsOn'] == 1) & \n",
    "                     (data7_dropped['ExternalState'] == 4) &\n",
    "                     (data7_dropped['IsBlanked'] == 0) &\n",
    "                     (data7_dropped['ServerWatchdog'] == 1) &\n",
    "                     (data7_dropped['ServiceModeIsOn'] == 0), '1', '0')\n",
    "\n",
    "data8_dropped['Extraction'] = np.where((data8_dropped['BeamIsOn'] == 1) & \n",
    "                     (data8_dropped['ExternalState'] == 4) &\n",
    "                     (data8_dropped['IsBlanked'] == 0) &\n",
    "                     (data8_dropped['ServerWatchdog'] == 1) &\n",
    "                     (data8_dropped['ServiceModeIsOn'] == 0), '1', '0')\n",
    "\n",
    "data9_dropped['Extraction'] = np.where((data9_dropped['BeamIsOn'] == 1) & \n",
    "                     (data9_dropped['ExternalState'] == 4) &\n",
    "                     (data9_dropped['IsBlanked'] == 0) &\n",
    "                     (data9_dropped['ServerWatchdog'] == 1) &\n",
    "                     (data9_dropped['ServiceModeIsOn'] == 0), '1', '0')\n",
    "\n",
    "\n",
    "# podmínka - výběr řádků které splňují - tedy mikroskop byl používán k těžbě vzorku, splnění uloženo do sloupečku\n"
   ]
  },
  {
   "cell_type": "code",
   "execution_count": 186,
   "metadata": {},
   "outputs": [],
   "source": [
    "data1_dropped['Extraction'] = data1_dropped[('Extraction')].astype(int)\n",
    "data2_dropped['Extraction'] = data2_dropped[('Extraction')].astype(int)\n",
    "data3_dropped['Extraction'] = data3_dropped[('Extraction')].astype(int)\n",
    "data4_dropped['Extraction'] = data4_dropped[('Extraction')].astype(int)\n",
    "data5_dropped['Extraction'] = data5_dropped[('Extraction')].astype(int)\n",
    "data6_dropped['Extraction'] = data6_dropped[('Extraction')].astype(int)\n",
    "data7_dropped['Extraction'] = data7_dropped[('Extraction')].astype(int)\n",
    "data8_dropped['Extraction'] = data8_dropped[('Extraction')].astype(int)\n",
    "data9_dropped['Extraction'] = data9_dropped[('Extraction')].astype(int)\n",
    "\n",
    "# převod str na integer\n",
    "\n"
   ]
  },
  {
   "cell_type": "code",
   "execution_count": 187,
   "metadata": {},
   "outputs": [],
   "source": [
    "extraction1 = data1_dropped[['DateTime', 'Extraction']]\n",
    "extraction2 = data2_dropped[['DateTime', 'Extraction']]\n",
    "extraction3 = data3_dropped[['DateTime', 'Extraction']]\n",
    "extraction4 = data4_dropped[['DateTime', 'Extraction']]\n",
    "extraction5 = data5_dropped[['DateTime', 'Extraction']]\n",
    "extraction6 = data6_dropped[['DateTime', 'Extraction']]\n",
    "extraction7 = data7_dropped[['DateTime', 'Extraction']]\n",
    "extraction8 = data8_dropped[['DateTime', 'Extraction']]\n",
    "extraction9 = data9_dropped[['DateTime', 'Extraction']]\n",
    "\n",
    "# výběr relevantních sloupců"
   ]
  },
  {
   "cell_type": "code",
   "execution_count": 188,
   "metadata": {},
   "outputs": [],
   "source": [
    "extraction1 = extraction1.loc[extraction1['Extraction'].diff() != 0]\n",
    "extraction2 = extraction2.loc[extraction2['Extraction'].diff() != 0]\n",
    "extraction3 = extraction3.loc[extraction3['Extraction'].diff() != 0]\n",
    "extraction4 = extraction4.loc[extraction4['Extraction'].diff() != 0]\n",
    "extraction5 = extraction5.loc[extraction5['Extraction'].diff() != 0]\n",
    "extraction6 = extraction6.loc[extraction6['Extraction'].diff() != 0]\n",
    "extraction7 = extraction7.loc[extraction7['Extraction'].diff() != 0]\n",
    "extraction8 = extraction8.loc[extraction8['Extraction'].diff() != 0]\n",
    "extraction9 = extraction9.loc[extraction9['Extraction'].diff() != 0]\n",
    "\n",
    "# výběr řádků kde došlo ke změně\n"
   ]
  },
  {
   "cell_type": "code",
   "execution_count": 189,
   "metadata": {},
   "outputs": [],
   "source": [
    "\n",
    "df1_extraction = extraction1.diff()\n",
    "df2_extraction = extraction2.diff()\n",
    "df3_extraction = extraction3.diff()\n",
    "df4_extraction = extraction4.diff()\n",
    "df5_extraction = extraction5.diff()\n",
    "df6_extraction = extraction6.diff()\n",
    "df7_extraction = extraction7.diff()\n",
    "df8_extraction = extraction8.diff()\n",
    "df9_extraction = extraction9.diff()\n",
    "\n",
    "\n",
    "\n",
    "# doby kdy probíhala/neprobíhala těžba\n",
    "\n",
    "\n",
    "\n"
   ]
  },
  {
   "cell_type": "code",
   "execution_count": 190,
   "metadata": {},
   "outputs": [],
   "source": [
    "Extraction_time1 = df1_extraction.loc[df1_extraction['Extraction'] == -1].sum()\n",
    "Extraction_time2 = df2_extraction.loc[df2_extraction['Extraction'] == -1].sum()\n",
    "Extraction_time3 = df3_extraction.loc[df3_extraction['Extraction'] == -1].sum()\n",
    "Extraction_time4 = df4_extraction.loc[df4_extraction['Extraction'] == -1].sum()\n",
    "Extraction_time5 = df5_extraction.loc[df5_extraction['Extraction'] == -1].sum()\n",
    "Extraction_time6 = df6_extraction.loc[df6_extraction['Extraction'] == -1].sum()\n",
    "Extraction_time7 = df7_extraction.loc[df7_extraction['Extraction'] == -1].sum()\n",
    "Extraction_time8 = df8_extraction.loc[df8_extraction['Extraction'] == -1].sum()\n",
    "Extraction_time9 = df9_extraction.loc[df9_extraction['Extraction'] == -1].sum()\n",
    "\n",
    "# součet dob kdy probíhala těžba\n",
    "\n"
   ]
  },
  {
   "cell_type": "code",
   "execution_count": 191,
   "metadata": {},
   "outputs": [],
   "source": [
    "ET1 = (Extraction_time1[0].total_seconds()/3600)\n",
    "ET2 = (Extraction_time2[0].total_seconds()/3600)\n",
    "ET3 = (Extraction_time3[0].total_seconds()/3600)\n",
    "ET4 = (Extraction_time4[0].total_seconds()/3600)\n",
    "ET5 = (Extraction_time5[0].total_seconds()/3600)\n",
    "ET6 = (Extraction_time6[0].total_seconds()/3600)\n",
    "ET7 = (Extraction_time7[0].total_seconds()/3600)\n",
    "ET8 = (Extraction_time8[0].total_seconds()/3600)\n",
    "ET9 = (Extraction_time9[0].total_seconds()/3600)\n",
    "\n",
    "# převod na hodiny"
   ]
  },
  {
   "cell_type": "code",
   "execution_count": 192,
   "metadata": {},
   "outputs": [],
   "source": [
    "ET1_avg = ET1/lengthd_1.days\n",
    "ET2_avg = ET2/lengthd_2.days\n",
    "ET3_avg = ET3/lengthd_3.days\n",
    "ET4_avg = ET4/lengthd_4.days\n",
    "ET5_avg = ET5/lengthd_5.days\n",
    "ET6_avg = ET6/lengthd_6.days\n",
    "ET7_avg = ET7/lengthd_7.days\n",
    "ET8_avg = ET8/lengthd_8.days\n",
    "ET9_avg = ET9/lengthd_9.days\n",
    "\n",
    "# přepočet na průměr/den\n"
   ]
  },
  {
   "cell_type": "code",
   "execution_count": 193,
   "metadata": {},
   "outputs": [],
   "source": [
    "listET= [[\"Aquilos\", ET1, ET1_avg], [\"Arctis\", ET2, ET2_avg], ['CryoFIB', ET3, ET3_avg], [ \"Centrios\", ET4, ET4_avg], [\"Quanta 3D FEG\", ET5, ET5_avg], [\"Aquilos G2+\", ET6, ET6_avg], [\"Helios 6\", ET7, ET7_avg], [\"Helios PFIB Hydra\", ET8, ET8_avg], [\"Scio\", ET9, ET9_avg]]\n",
    "\n",
    "\n",
    "# seznam hodnot do df"
   ]
  },
  {
   "cell_type": "code",
   "execution_count": 194,
   "metadata": {},
   "outputs": [
    {
     "name": "stderr",
     "output_type": "stream",
     "text": [
      "C:\\Users\\czechitas\\AppData\\Local\\Temp\\ipykernel_20492\\460891891.py:1: FutureWarning:\n",
      "\n",
      "Could not cast to float64, falling back to object. This behavior is deprecated. In a future version, when a dtype is passed to 'DataFrame', either all columns will be cast to that dtype, or a TypeError will be raised.\n",
      "\n"
     ]
    }
   ],
   "source": [
    "df_final_ET=pn.DataFrame(listET, columns= [\"name\", \"extractiontime\", \"extractiontimeaverage\"], dtype=float)\n",
    "\n",
    "# konečný df k exportu do csv"
   ]
  },
  {
   "cell_type": "code",
   "execution_count": 195,
   "metadata": {},
   "outputs": [],
   "source": [
    "df_final_ET.to_csv('ExtractionTime.csv')\n",
    "\n",
    "# export do csv"
   ]
  }
 ],
 "metadata": {
  "kernelspec": {
   "display_name": "Python 3",
   "language": "python",
   "name": "python3"
  },
  "language_info": {
   "codemirror_mode": {
    "name": "ipython",
    "version": 3
   },
   "file_extension": ".py",
   "mimetype": "text/x-python",
   "name": "python",
   "nbconvert_exporter": "python",
   "pygments_lexer": "ipython3",
   "version": "3.9.10"
  },
  "orig_nbformat": 4
 },
 "nbformat": 4,
 "nbformat_minor": 2
}
