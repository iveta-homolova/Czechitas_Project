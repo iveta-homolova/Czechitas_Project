{
 "cells": [
  {
   "cell_type": "code",
   "execution_count": 264,
   "metadata": {},
   "outputs": [],
   "source": [
    "import pandas as pn\n",
    "from datetime import datetime, timedelta\n",
    "import sys\n",
    "import plotly.graph_objects as go"
   ]
  },
  {
   "cell_type": "code",
   "execution_count": 265,
   "metadata": {},
   "outputs": [],
   "source": [
    "column_names= [\"Date\", \"Time\", \"ServerWatchdog\", \"BeamisOn\", \"ExternalState\", \"IsBlanked\", \"ServiceModeIsOn\"]"
   ]
  },
  {
   "cell_type": "code",
   "execution_count": 266,
   "metadata": {},
   "outputs": [],
   "source": [
    "data1= pn.read_csv( \"System 1.csv\", names= column_names, header=10 , low_memory= False)\n",
    "data2= pn.read_csv( \"System 2.csv\", names= column_names, header=10 , low_memory= False)\n",
    "data3= pn.read_csv( \"System 3.csv\", names= column_names, header=10 , low_memory= False)\n",
    "data4= pn.read_csv( \"System 4.csv\", names= column_names, header=10 , low_memory= False)\n",
    "data5= pn.read_csv( \"System 5.csv\", names= column_names, header=10 , low_memory= False)\n",
    "data6= pn.read_csv( \"System 6.csv\", names= column_names, header=10 , low_memory= False)\n",
    "data7= pn.read_csv( \"System 7.csv\", names= column_names, header=10 , low_memory= False)\n",
    "data8= pn.read_csv( \"System 8.csv\", names= column_names, header=10 , low_memory= False)\n",
    "data9= pn.read_csv( \"System 9.csv\", names= column_names, header=10 , low_memory= False)\n"
   ]
  },
  {
   "cell_type": "code",
   "execution_count": 267,
   "metadata": {},
   "outputs": [],
   "source": [
    "data1[\"DateTime\"]= data1[\"Date\"].astype(str) +\" \"+ data1[\"Time\"].astype(str)\n",
    "data2[\"DateTime\"]= data2[\"Date\"].astype(str) +\" \"+ data2[\"Time\"].astype(str)\n",
    "data3[\"DateTime\"]= data3[\"Date\"].astype(str) +\" \"+ data3[\"Time\"].astype(str)\n",
    "data4[\"DateTime\"]= data4[\"Date\"].astype(str) +\" \"+ data4[\"Time\"].astype(str)\n",
    "data5[\"DateTime\"]= data5[\"Date\"].astype(str) +\" \"+ data5[\"Time\"].astype(str)\n",
    "data6[\"DateTime\"]= data6[\"Date\"].astype(str) +\" \"+ data6[\"Time\"].astype(str)\n",
    "data7[\"DateTime\"]= data7[\"Date\"].astype(str) +\" \"+ data7[\"Time\"].astype(str)\n",
    "data8[\"DateTime\"]= data8[\"Date\"].astype(str) +\" \"+ data8[\"Time\"].astype(str)\n",
    "data9[\"DateTime\"]= data9[\"Date\"].astype(str) +\" \"+ data9[\"Time\"].astype(str)"
   ]
  },
  {
   "cell_type": "markdown",
   "metadata": {},
   "source": []
  },
  {
   "cell_type": "code",
   "execution_count": 268,
   "metadata": {},
   "outputs": [],
   "source": [
    "data1[\"DateTime\"] = pn.to_datetime(data1[\"DateTime\"], format=\"%m/%d/%Y %H:%M:%S.%f\")\n",
    "data2[\"DateTime\"] = pn.to_datetime(data2[\"DateTime\"], format=\"%m/%d/%Y %H:%M:%S.%f\")\n",
    "data3[\"DateTime\"] = pn.to_datetime(data3[\"DateTime\"], format=\"%m/%d/%Y %H:%M:%S.%f\")\n",
    "data4[\"DateTime\"] = pn.to_datetime(data4[\"DateTime\"], format=\"%m/%d/%Y %H:%M:%S.%f\")\n",
    "data5[\"DateTime\"] = pn.to_datetime(data5[\"DateTime\"], format=\"%m/%d/%Y %H:%M:%S.%f\")\n",
    "data6[\"DateTime\"] = pn.to_datetime(data6[\"DateTime\"], format=\"%m/%d/%Y %H:%M:%S.%f\")\n",
    "data7[\"DateTime\"] = pn.to_datetime(data7[\"DateTime\"], format=\"%m/%d/%Y %H:%M:%S.%f\")\n",
    "data8[\"DateTime\"] = pn.to_datetime(data8[\"DateTime\"], format=\"%m/%d/%Y %H:%M:%S.%f\")\n",
    "data9[\"DateTime\"] = pn.to_datetime(data9[\"DateTime\"], format=\"%m/%d/%Y %H:%M:%S.%f\")"
   ]
  },
  {
   "cell_type": "code",
   "execution_count": 269,
   "metadata": {},
   "outputs": [],
   "source": [
    "# data[\"ExternalState\"].describe()"
   ]
  },
  {
   "cell_type": "code",
   "execution_count": 270,
   "metadata": {},
   "outputs": [],
   "source": [
    "data1= data1.drop ([\"Date\", \"Time\"], axis= \"columns\")\n",
    "data2= data2.drop ([\"Date\", \"Time\"], axis= \"columns\")\n",
    "data3= data3.drop ([\"Date\", \"Time\"], axis= \"columns\")\n",
    "data4= data4.drop ([\"Date\", \"Time\"], axis= \"columns\")\n",
    "data5= data5.drop ([\"Date\", \"Time\"], axis= \"columns\")\n",
    "data6= data6.drop ([\"Date\", \"Time\"], axis= \"columns\")\n",
    "data7= data7.drop ([\"Date\", \"Time\"], axis= \"columns\")\n",
    "data8= data8.drop ([\"Date\", \"Time\"], axis= \"columns\")\n",
    "data9= data9.drop ([\"Date\", \"Time\"], axis= \"columns\")\n"
   ]
  },
  {
   "cell_type": "code",
   "execution_count": 271,
   "metadata": {},
   "outputs": [],
   "source": [
    "popped_column= data1.pop(\"DateTime\")\n",
    "data1.insert(0, \"DateTime\", popped_column)\n",
    "\n",
    "popped_column= data2.pop(\"DateTime\")\n",
    "data2.insert(0, \"DateTime\", popped_column)\n",
    "\n",
    "popped_column= data3.pop(\"DateTime\")\n",
    "data3.insert(0, \"DateTime\", popped_column)\n",
    "\n",
    "popped_column= data4.pop(\"DateTime\")\n",
    "data4.insert(0, \"DateTime\", popped_column)\n",
    "\n",
    "popped_column= data5.pop(\"DateTime\")\n",
    "data5.insert(0, \"DateTime\", popped_column)\n",
    "\n",
    "popped_column= data6.pop(\"DateTime\")\n",
    "data6.insert(0, \"DateTime\", popped_column)\n",
    "\n",
    "popped_column= data7.pop(\"DateTime\")\n",
    "data7.insert(0, \"DateTime\", popped_column)\n",
    "\n",
    "popped_column= data8.pop(\"DateTime\")\n",
    "data8.insert(0, \"DateTime\", popped_column)\n",
    "\n",
    "popped_column= data9.pop(\"DateTime\")\n",
    "data9.insert(0, \"DateTime\", popped_column)"
   ]
  },
  {
   "cell_type": "code",
   "execution_count": 272,
   "metadata": {},
   "outputs": [],
   "source": [
    "data1= data1.ffill(axis=\"index\")\n",
    "data2= data2.ffill(axis=\"index\")\n",
    "data3= data3.ffill(axis=\"index\")\n",
    "data4= data4.ffill(axis=\"index\")\n",
    "data5= data5.ffill(axis=\"index\")\n",
    "data6= data6.ffill(axis=\"index\")\n",
    "data7= data7.ffill(axis=\"index\")\n",
    "data8= data8.ffill(axis=\"index\")\n",
    "data9= data9.ffill(axis=\"index\")\n"
   ]
  },
  {
   "cell_type": "code",
   "execution_count": 273,
   "metadata": {},
   "outputs": [
    {
     "name": "stdout",
     "output_type": "stream",
     "text": [
      "108\n"
     ]
    },
    {
     "data": {
      "text/plain": [
       "277"
      ]
     },
     "execution_count": 273,
     "metadata": {},
     "output_type": "execute_result"
    }
   ],
   "source": [
    "count1= data1.isna().any(axis=1).sum()\n",
    "print(count1)\n",
    "\n",
    "count2= data2.isna().any(axis=1).sum()\n",
    "count2\n",
    "\n",
    "count3= data3.isna().any(axis=1).sum()\n",
    "count3\n",
    "\n",
    "count4= data4.isna().any(axis=1).sum()\n",
    "count4\n",
    "\n",
    "count5= data5.isna().any(axis=1).sum()\n",
    "count5\n",
    "\n",
    "count6= data6.isna().any(axis=1).sum()\n",
    "count6\n",
    "\n",
    "count7= data7.isna().any(axis=1).sum()\n",
    "count7\n",
    "\n",
    "count8= data8.isna().any(axis=1).sum()\n",
    "count8\n",
    "\n",
    "count9= data9.isna().any(axis=1).sum()\n",
    "count9"
   ]
  },
  {
   "cell_type": "code",
   "execution_count": 274,
   "metadata": {},
   "outputs": [
    {
     "data": {
      "text/html": [
       "<div>\n",
       "<style scoped>\n",
       "    .dataframe tbody tr th:only-of-type {\n",
       "        vertical-align: middle;\n",
       "    }\n",
       "\n",
       "    .dataframe tbody tr th {\n",
       "        vertical-align: top;\n",
       "    }\n",
       "\n",
       "    .dataframe thead th {\n",
       "        text-align: right;\n",
       "    }\n",
       "</style>\n",
       "<table border=\"1\" class=\"dataframe\">\n",
       "  <thead>\n",
       "    <tr style=\"text-align: right;\">\n",
       "      <th></th>\n",
       "      <th>DateTime</th>\n",
       "      <th>ServerWatchdog</th>\n",
       "      <th>BeamisOn</th>\n",
       "      <th>ExternalState</th>\n",
       "      <th>IsBlanked</th>\n",
       "      <th>ServiceModeIsOn</th>\n",
       "    </tr>\n",
       "  </thead>\n",
       "  <tbody>\n",
       "    <tr>\n",
       "      <th>0</th>\n",
       "      <td>2020-10-05 14:59:41.318</td>\n",
       "      <td>NaN</td>\n",
       "      <td>NaN</td>\n",
       "      <td>NaN</td>\n",
       "      <td>0.0</td>\n",
       "      <td>NaN</td>\n",
       "    </tr>\n",
       "    <tr>\n",
       "      <th>1</th>\n",
       "      <td>2020-10-05 14:59:43.889</td>\n",
       "      <td>NaN</td>\n",
       "      <td>NaN</td>\n",
       "      <td>NaN</td>\n",
       "      <td>1.0</td>\n",
       "      <td>NaN</td>\n",
       "    </tr>\n",
       "    <tr>\n",
       "      <th>2</th>\n",
       "      <td>2020-10-05 15:00:08.569</td>\n",
       "      <td>1.0</td>\n",
       "      <td>NaN</td>\n",
       "      <td>NaN</td>\n",
       "      <td>1.0</td>\n",
       "      <td>NaN</td>\n",
       "    </tr>\n",
       "    <tr>\n",
       "      <th>3</th>\n",
       "      <td>2020-10-05 15:00:24.871</td>\n",
       "      <td>1.0</td>\n",
       "      <td>NaN</td>\n",
       "      <td>NaN</td>\n",
       "      <td>0.0</td>\n",
       "      <td>NaN</td>\n",
       "    </tr>\n",
       "    <tr>\n",
       "      <th>4</th>\n",
       "      <td>2020-10-05 15:00:27.063</td>\n",
       "      <td>1.0</td>\n",
       "      <td>NaN</td>\n",
       "      <td>NaN</td>\n",
       "      <td>1.0</td>\n",
       "      <td>NaN</td>\n",
       "    </tr>\n",
       "    <tr>\n",
       "      <th>...</th>\n",
       "      <td>...</td>\n",
       "      <td>...</td>\n",
       "      <td>...</td>\n",
       "      <td>...</td>\n",
       "      <td>...</td>\n",
       "      <td>...</td>\n",
       "    </tr>\n",
       "    <tr>\n",
       "      <th>272</th>\n",
       "      <td>2020-10-05 15:48:02.501</td>\n",
       "      <td>1.0</td>\n",
       "      <td>NaN</td>\n",
       "      <td>Maintain (4)</td>\n",
       "      <td>0.0</td>\n",
       "      <td>Off (0)</td>\n",
       "    </tr>\n",
       "    <tr>\n",
       "      <th>273</th>\n",
       "      <td>2020-10-05 15:48:08.555</td>\n",
       "      <td>1.0</td>\n",
       "      <td>NaN</td>\n",
       "      <td>Maintain (4)</td>\n",
       "      <td>0.0</td>\n",
       "      <td>Off (0)</td>\n",
       "    </tr>\n",
       "    <tr>\n",
       "      <th>274</th>\n",
       "      <td>2020-10-05 15:48:10.750</td>\n",
       "      <td>1.0</td>\n",
       "      <td>NaN</td>\n",
       "      <td>Maintain (4)</td>\n",
       "      <td>1.0</td>\n",
       "      <td>Off (0)</td>\n",
       "    </tr>\n",
       "    <tr>\n",
       "      <th>275</th>\n",
       "      <td>2020-10-05 15:48:16.932</td>\n",
       "      <td>1.0</td>\n",
       "      <td>NaN</td>\n",
       "      <td>Maintain (4)</td>\n",
       "      <td>0.0</td>\n",
       "      <td>Off (0)</td>\n",
       "    </tr>\n",
       "    <tr>\n",
       "      <th>276</th>\n",
       "      <td>2020-10-05 15:48:21.446</td>\n",
       "      <td>1.0</td>\n",
       "      <td>NaN</td>\n",
       "      <td>Maintain (4)</td>\n",
       "      <td>1.0</td>\n",
       "      <td>Off (0)</td>\n",
       "    </tr>\n",
       "  </tbody>\n",
       "</table>\n",
       "<p>277 rows × 6 columns</p>\n",
       "</div>"
      ],
      "text/plain": [
       "                   DateTime  ServerWatchdog BeamisOn ExternalState  IsBlanked  \\\n",
       "0   2020-10-05 14:59:41.318             NaN      NaN           NaN        0.0   \n",
       "1   2020-10-05 14:59:43.889             NaN      NaN           NaN        1.0   \n",
       "2   2020-10-05 15:00:08.569             1.0      NaN           NaN        1.0   \n",
       "3   2020-10-05 15:00:24.871             1.0      NaN           NaN        0.0   \n",
       "4   2020-10-05 15:00:27.063             1.0      NaN           NaN        1.0   \n",
       "..                      ...             ...      ...           ...        ...   \n",
       "272 2020-10-05 15:48:02.501             1.0      NaN  Maintain (4)        0.0   \n",
       "273 2020-10-05 15:48:08.555             1.0      NaN  Maintain (4)        0.0   \n",
       "274 2020-10-05 15:48:10.750             1.0      NaN  Maintain (4)        1.0   \n",
       "275 2020-10-05 15:48:16.932             1.0      NaN  Maintain (4)        0.0   \n",
       "276 2020-10-05 15:48:21.446             1.0      NaN  Maintain (4)        1.0   \n",
       "\n",
       "    ServiceModeIsOn  \n",
       "0               NaN  \n",
       "1               NaN  \n",
       "2               NaN  \n",
       "3               NaN  \n",
       "4               NaN  \n",
       "..              ...  \n",
       "272         Off (0)  \n",
       "273         Off (0)  \n",
       "274         Off (0)  \n",
       "275         Off (0)  \n",
       "276         Off (0)  \n",
       "\n",
       "[277 rows x 6 columns]"
      ]
     },
     "execution_count": 274,
     "metadata": {},
     "output_type": "execute_result"
    }
   ],
   "source": [
    "missingdata1= data1.head(count1)\n",
    "missingdata1\n",
    "\n",
    "missingdata2= data2.head(count2)\n",
    "missingdata2\n",
    "\n",
    "missingdata3= data3.head(count3)\n",
    "missingdata3\n",
    "\n",
    "missingdata4= data4.head(count4)\n",
    "missingdata4\n",
    "\n",
    "missingdata5= data5.head(count5)\n",
    "missingdata5\n",
    "\n",
    "missingdata6= data6.head(count6)\n",
    "missingdata6\n",
    "\n",
    "missingdata7= data7.head(count7)\n",
    "missingdata7\n",
    "\n",
    "missingdata8= data8.head(count8)\n",
    "missingdata8\n",
    "\n",
    "missingdata9= data9.head(count9)\n",
    "missingdata9"
   ]
  },
  {
   "cell_type": "code",
   "execution_count": 275,
   "metadata": {},
   "outputs": [],
   "source": [
    "# missingdata[\"DateTime\"].iloc[-1]\n"
   ]
  },
  {
   "cell_type": "code",
   "execution_count": 276,
   "metadata": {},
   "outputs": [],
   "source": [
    "# missingdata[\"DateTime\"].iloc[0]"
   ]
  },
  {
   "cell_type": "code",
   "execution_count": 277,
   "metadata": {},
   "outputs": [],
   "source": [
    "length_m1= missingdata1[\"DateTime\"].iloc[-1]- missingdata1[\"DateTime\"].iloc[0] \n",
    "length_m1\n",
    "\n",
    "length_m2= missingdata2[\"DateTime\"].iloc[-1]- missingdata2[\"DateTime\"].iloc[0] \n",
    "\n",
    "length_m3= missingdata3[\"DateTime\"].iloc[-1]- missingdata3[\"DateTime\"].iloc[0] \n",
    "\n",
    "length_m4= missingdata4[\"DateTime\"].iloc[-1]- missingdata4[\"DateTime\"].iloc[0] \n",
    "\n",
    "length_m5= missingdata5[\"DateTime\"].iloc[-1]- missingdata5[\"DateTime\"].iloc[0] \n",
    "\n",
    "length_m6= missingdata6[\"DateTime\"].iloc[-1]- missingdata6[\"DateTime\"].iloc[0] \n",
    "\n",
    "length_m7= missingdata7[\"DateTime\"].iloc[-1]- missingdata7[\"DateTime\"].iloc[0] \n",
    "\n",
    "length_m8= missingdata8[\"DateTime\"].iloc[-1]- missingdata8[\"DateTime\"].iloc[0] \n",
    "\n",
    "length_m9= missingdata9[\"DateTime\"].iloc[-1]- missingdata9[\"DateTime\"].iloc[0] "
   ]
  },
  {
   "cell_type": "code",
   "execution_count": 278,
   "metadata": {},
   "outputs": [],
   "source": [
    "length1= data1[\"DateTime\"].iloc[-1]- data1[\"DateTime\"].iloc[0] \n",
    "\n",
    "\n",
    "length2= data3[\"DateTime\"].iloc[-1]- data3[\"DateTime\"].iloc[0] \n",
    "\n",
    "length3= data4[\"DateTime\"].iloc[-1]- data4[\"DateTime\"].iloc[0] \n",
    "\n",
    "length4= data5[\"DateTime\"].iloc[-1]- data5[\"DateTime\"].iloc[0] \n",
    "\n",
    "length5= data6[\"DateTime\"].iloc[-1]- data6[\"DateTime\"].iloc[0] \n",
    "\n",
    "length6= data2[\"DateTime\"].iloc[-1]- data2[\"DateTime\"].iloc[0] \n",
    "\n",
    "length7= data7[\"DateTime\"].iloc[-1]- data7[\"DateTime\"].iloc[0] \n",
    "\n",
    "length8= data8[\"DateTime\"].iloc[-1]- data8[\"DateTime\"].iloc[0] \n",
    "\n",
    "length9= data9[\"DateTime\"].iloc[-1]- data9[\"DateTime\"].iloc[0] "
   ]
  },
  {
   "cell_type": "code",
   "execution_count": 279,
   "metadata": {},
   "outputs": [
    {
     "data": {
      "text/html": [
       "<div>\n",
       "<style scoped>\n",
       "    .dataframe tbody tr th:only-of-type {\n",
       "        vertical-align: middle;\n",
       "    }\n",
       "\n",
       "    .dataframe tbody tr th {\n",
       "        vertical-align: top;\n",
       "    }\n",
       "\n",
       "    .dataframe thead th {\n",
       "        text-align: right;\n",
       "    }\n",
       "</style>\n",
       "<table border=\"1\" class=\"dataframe\">\n",
       "  <thead>\n",
       "    <tr style=\"text-align: right;\">\n",
       "      <th></th>\n",
       "      <th>DateTime</th>\n",
       "    </tr>\n",
       "  </thead>\n",
       "  <tbody>\n",
       "    <tr>\n",
       "      <th>0</th>\n",
       "      <td>NaT</td>\n",
       "    </tr>\n",
       "    <tr>\n",
       "      <th>1</th>\n",
       "      <td>0 days 00:00:02.571000</td>\n",
       "    </tr>\n",
       "    <tr>\n",
       "      <th>2</th>\n",
       "      <td>0 days 00:00:24.680000</td>\n",
       "    </tr>\n",
       "    <tr>\n",
       "      <th>3</th>\n",
       "      <td>0 days 00:00:16.302000</td>\n",
       "    </tr>\n",
       "    <tr>\n",
       "      <th>4</th>\n",
       "      <td>0 days 00:00:02.192000</td>\n",
       "    </tr>\n",
       "    <tr>\n",
       "      <th>...</th>\n",
       "      <td>...</td>\n",
       "    </tr>\n",
       "    <tr>\n",
       "      <th>272</th>\n",
       "      <td>0 days 00:00:06.081000</td>\n",
       "    </tr>\n",
       "    <tr>\n",
       "      <th>273</th>\n",
       "      <td>0 days 00:00:06.054000</td>\n",
       "    </tr>\n",
       "    <tr>\n",
       "      <th>274</th>\n",
       "      <td>0 days 00:00:02.195000</td>\n",
       "    </tr>\n",
       "    <tr>\n",
       "      <th>275</th>\n",
       "      <td>0 days 00:00:06.182000</td>\n",
       "    </tr>\n",
       "    <tr>\n",
       "      <th>276</th>\n",
       "      <td>0 days 00:00:04.514000</td>\n",
       "    </tr>\n",
       "  </tbody>\n",
       "</table>\n",
       "<p>277 rows × 1 columns</p>\n",
       "</div>"
      ],
      "text/plain": [
       "                  DateTime\n",
       "0                      NaT\n",
       "1   0 days 00:00:02.571000\n",
       "2   0 days 00:00:24.680000\n",
       "3   0 days 00:00:16.302000\n",
       "4   0 days 00:00:02.192000\n",
       "..                     ...\n",
       "272 0 days 00:00:06.081000\n",
       "273 0 days 00:00:06.054000\n",
       "274 0 days 00:00:02.195000\n",
       "275 0 days 00:00:06.182000\n",
       "276 0 days 00:00:04.514000\n",
       "\n",
       "[277 rows x 1 columns]"
      ]
     },
     "execution_count": 279,
     "metadata": {},
     "output_type": "execute_result"
    }
   ],
   "source": [
    "missingdata1[\"DateTime\"].diff(). to_frame()\n",
    "missingdata2[\"DateTime\"].diff(). to_frame()\n",
    "missingdata3[\"DateTime\"].diff(). to_frame()\n",
    "missingdata4[\"DateTime\"].diff(). to_frame()\n",
    "missingdata5[\"DateTime\"].diff(). to_frame()\n",
    "missingdata6[\"DateTime\"].diff(). to_frame()\n",
    "missingdata7[\"DateTime\"].diff(). to_frame()\n",
    "missingdata8[\"DateTime\"].diff(). to_frame()\n",
    "missingdata9[\"DateTime\"].diff(). to_frame()\n"
   ]
  },
  {
   "cell_type": "code",
   "execution_count": 280,
   "metadata": {},
   "outputs": [],
   "source": [
    "data1_dropped= data1.dropna()\n",
    "data2_dropped= data2.dropna()\n",
    "data3_dropped= data3.dropna()\n",
    "data4_dropped= data4.dropna()\n",
    "data5_dropped= data5.dropna()\n",
    "data6_dropped= data6.dropna()\n",
    "data7_dropped= data7.dropna()\n",
    "data8_dropped= data8.dropna()\n",
    "data9_dropped= data9.dropna()"
   ]
  },
  {
   "cell_type": "code",
   "execution_count": 281,
   "metadata": {},
   "outputs": [],
   "source": [
    "# data.info()"
   ]
  },
  {
   "cell_type": "code",
   "execution_count": 282,
   "metadata": {},
   "outputs": [],
   "source": [
    "data1_dropped=data1_dropped.replace([\"On (1)\", \"Off (0)\", \"Disabled (1)\", \"Idle (2)\", \"Acquiring (3)\", \"Maintain (4)\", \"Heatingonrequest (5)\", \"Shuttingdown (6)\" ], [\"1\", \"0\", \"1\", \"2\", \"3\", \"4\", \"5\", \"6\"])\n",
    "data2_dropped=data2_dropped.replace([\"On (1)\", \"Off (0)\", \"Disabled (1)\", \"Idle (2)\", \"Acquiring (3)\", \"Maintain (4)\", \"Heatingonrequest (5)\", \"Shuttingdown (6)\" ], [\"1\", \"0\", \"1\", \"2\", \"3\", \"4\", \"5\", \"6\"])\n",
    "data3_dropped=data3_dropped.replace([\"On (1)\", \"Off (0)\", \"Disabled (1)\", \"Idle (2)\", \"Acquiring (3)\", \"Maintain (4)\", \"Heatingonrequest (5)\", \"Shuttingdown (6)\" ], [\"1\", \"0\", \"1\", \"2\", \"3\", \"4\", \"5\", \"6\"])\n",
    "data4_dropped=data4_dropped.replace([\"On (1)\", \"Off (0)\", \"Disabled (1)\", \"Idle (2)\", \"Acquiring (3)\", \"Maintain (4)\", \"Heatingonrequest (5)\", \"Shuttingdown (6)\" ], [\"1\", \"0\", \"1\", \"2\", \"3\", \"4\", \"5\", \"6\"])\n",
    "data5_dropped=data5_dropped.replace([\"On (1)\", \"Off (0)\", \"Disabled (1)\", \"Idle (2)\", \"Acquiring (3)\", \"Maintain (4)\", \"Heatingonrequest (5)\", \"Shuttingdown (6)\" ], [\"1\", \"0\", \"1\", \"2\", \"3\", \"4\", \"5\", \"6\"])\n",
    "data6_dropped=data6_dropped.replace([\"On (1)\", \"Off (0)\", \"Disabled (1)\", \"Idle (2)\", \"Acquiring (3)\", \"Maintain (4)\", \"Heatingonrequest (5)\", \"Shuttingdown (6)\" ], [\"1\", \"0\", \"1\", \"2\", \"3\", \"4\", \"5\", \"6\"])\n",
    "data7_dropped=data7_dropped.replace([\"On (1)\", \"Off (0)\", \"Disabled (1)\", \"Idle (2)\", \"Acquiring (3)\", \"Maintain (4)\", \"Heatingonrequest (5)\", \"Shuttingdown (6)\" ], [\"1\", \"0\", \"1\", \"2\", \"3\", \"4\", \"5\", \"6\"])\n",
    "data8_dropped=data8_dropped.replace([\"On (1)\", \"Off (0)\", \"Disabled (1)\", \"Idle (2)\", \"Acquiring (3)\", \"Maintain (4)\", \"Heatingonrequest (5)\", \"Shuttingdown (6)\" ], [\"1\", \"0\", \"1\", \"2\", \"3\", \"4\", \"5\", \"6\"])\n",
    "data9_dropped=data9_dropped.replace([\"On (1)\", \"Off (0)\", \"Disabled (1)\", \"Idle (2)\", \"Acquiring (3)\", \"Maintain (4)\", \"Heatingonrequest (5)\", \"Shuttingdown (6)\" ], [\"1\", \"0\", \"1\", \"2\", \"3\", \"4\", \"5\", \"6\"])\n"
   ]
  },
  {
   "cell_type": "code",
   "execution_count": 283,
   "metadata": {},
   "outputs": [],
   "source": [
    "data1_dropped[\"ServerWatchdog\"]= data1_dropped [\"ServerWatchdog\"].astype(int)\n",
    "data1_dropped[\"BeamisOn\"]= data1_dropped[\"BeamisOn\"].astype(int)\n",
    "data1_dropped[\"ExternalState\"]= data1_dropped [\"ExternalState\"].astype(int)\n",
    "data1_dropped[\"IsBlanked\"]= data1_dropped [\"IsBlanked\"].astype(int)\n",
    "data1_dropped[\"ServiceMOdeIsOn\"]= data1_dropped [\"ServiceModeIsOn\"].astype(int)\n",
    "\n",
    "\n",
    "data2_dropped[\"ServerWatchdog\"]= data2_dropped [\"ServerWatchdog\"].astype(int)\n",
    "data2_dropped[\"BeamisOn\"]= data2_dropped [\"BeamisOn\"].astype(int)\n",
    "data2_dropped[\"ExternalState\"]= data2_dropped [\"ExternalState\"].astype(int)\n",
    "data2_dropped[\"IsBlanked\"]= data2_dropped [\"IsBlanked\"].astype(int)\n",
    "data2_dropped[\"ServiceMOdeIsOn\"]= data2_dropped [\"ServiceModeIsOn\"].astype(int)\n",
    "\n",
    "\n",
    "data3_dropped[\"ServerWatchdog\"]= data3_dropped [\"ServerWatchdog\"].astype(int)\n",
    "data3_dropped[\"BeamisOn\"]= data3_dropped [\"BeamisOn\"].astype(int)\n",
    "data3_dropped[\"ExternalState\"]= data3_dropped [\"ExternalState\"].astype(int)\n",
    "data3_dropped[\"IsBlanked\"]= data3_dropped [\"IsBlanked\"].astype(int)\n",
    "data3_dropped[\"ServiceMOdeIsOn\"]= data3_dropped [\"ServiceModeIsOn\"].astype(int)\n",
    "\n",
    "\n",
    "data4_dropped[\"ServerWatchdog\"]= data4_dropped [\"ServerWatchdog\"].astype(int)\n",
    "data4_dropped[\"BeamisOn\"]= data4_dropped [\"BeamisOn\"].astype(int)\n",
    "data4_dropped[\"ExternalState\"]= data4_dropped [\"ExternalState\"].astype(int)\n",
    "data4_dropped[\"IsBlanked\"]= data4_dropped [\"IsBlanked\"].astype(int)\n",
    "data4_dropped[\"ServiceMOdeIsOn\"]= data4_dropped [\"ServiceModeIsOn\"].astype(int)\n",
    "\n",
    "data5_dropped[\"ServerWatchdog\"]= data5_dropped [\"ServerWatchdog\"].astype(int)\n",
    "data5_dropped[\"BeamisOn\"]= data5_dropped [\"BeamisOn\"].astype(int)\n",
    "data5_dropped[\"ExternalState\"]= data5_dropped [\"ExternalState\"].astype(int)\n",
    "data5_dropped[\"IsBlanked\"]= data5_dropped [\"IsBlanked\"].astype(int)\n",
    "data5_dropped[\"ServiceMOdeIsOn\"]= data5_dropped [\"ServiceModeIsOn\"].astype(int)\n",
    "\n",
    "\n",
    "data6_dropped[\"ServerWatchdog\"]= data6_dropped [\"ServerWatchdog\"].astype(int)\n",
    "data6_dropped[\"BeamisOn\"]= data6_dropped [\"BeamisOn\"].astype(int)\n",
    "data6_dropped[\"ExternalState\"]= data6_dropped [\"ExternalState\"].astype(int)\n",
    "data6_dropped[\"IsBlanked\"]= data6_dropped [\"IsBlanked\"].astype(int)\n",
    "data6_dropped[\"ServiceMOdeIsOn\"]= data6_dropped [\"ServiceModeIsOn\"].astype(int)\n",
    "\n",
    "data7_dropped[\"ServerWatchdog\"]= data7_dropped [\"ServerWatchdog\"].astype(int)\n",
    "data7_dropped[\"BeamisOn\"]= data7_dropped [\"BeamisOn\"].astype(int)\n",
    "data7_dropped[\"ExternalState\"]= data7_dropped [\"ExternalState\"].astype(int)\n",
    "data7_dropped[\"IsBlanked\"]= data7_dropped [\"IsBlanked\"].astype(int)\n",
    "data7_dropped[\"ServiceMOdeIsOn\"]= data7_dropped [\"ServiceModeIsOn\"].astype(int)\n",
    "\n",
    "\n",
    "data8_dropped[\"ServerWatchdog\"]= data8_dropped [\"ServerWatchdog\"].astype(int)\n",
    "data8_dropped[\"BeamisOn\"]= data8_dropped [\"BeamisOn\"].astype(int)\n",
    "data8_dropped[\"ExternalState\"]= data8_dropped [\"ExternalState\"].astype(int)\n",
    "data8_dropped[\"IsBlanked\"]= data8_dropped [\"IsBlanked\"].astype(int)\n",
    "data8_dropped[\"ServiceMOdeIsOn\"]= data8_dropped[\"ServiceModeIsOn\"].astype(int)\n",
    "\n",
    "\n",
    "data9_dropped[\"ServerWatchdog\"]= data9_dropped [\"ServerWatchdog\"].astype(int)\n",
    "data9_dropped[\"BeamisOn\"]= data9_dropped [\"BeamisOn\"].astype(int)\n",
    "data9_dropped[\"ExternalState\"]= data9_dropped [\"ExternalState\"].astype(int)\n",
    "data9_dropped[\"IsBlanked\"]= data9_dropped [\"IsBlanked\"].astype(int)\n",
    "data9_dropped[\"ServiceMOdeIsOn\"]= data9_dropped [\"ServiceModeIsOn\"].astype(int)\n"
   ]
  },
  {
   "cell_type": "code",
   "execution_count": 284,
   "metadata": {},
   "outputs": [],
   "source": [
    "data1_dropped.to_csv(\"Aquilos.csv\")\n",
    "data2_dropped.to_csv(\"Arctis.csv\")\n",
    "data3_dropped.to_csv(\"CryoFIB.csv\")\n",
    "data4_dropped.to_csv(\"Centrios.csv\")\n",
    "data5_dropped.to_csv(\"Quanta 3D FEG.csv\")\n",
    "data6_dropped.to_csv(\"Aquilos G2+.csv\")\n",
    "data7_dropped.to_csv(\"Helios 6.csv\")\n",
    "data8_dropped.to_csv(\"Helios PFIB Hydra.csv\")\n",
    "data9_dropped.to_csv(\"Scio.csv\")\n"
   ]
  },
  {
   "cell_type": "code",
   "execution_count": 285,
   "metadata": {},
   "outputs": [
    {
     "data": {
      "application/vnd.plotly.v1+json": {
       "config": {
        "plotlyServerURL": "https://plot.ly"
       },
       "data": [
        {
         "name": "Full Data",
         "type": "bar",
         "x": [
          "Aquilos",
          "Arctis",
          "CryoFIB",
          "Centrios",
          "Quanta 3D FEG",
          "Aquilos G2+",
          "Helios 6",
          "Helios PFIB Hydra",
          "Scio"
         ],
         "y": [
          89,
          122,
          122,
          122,
          122,
          366,
          104,
          223,
          122
         ]
        }
       ],
       "layout": {
        "template": {
         "data": {
          "bar": [
           {
            "error_x": {
             "color": "#2a3f5f"
            },
            "error_y": {
             "color": "#2a3f5f"
            },
            "marker": {
             "line": {
              "color": "#E5ECF6",
              "width": 0.5
             },
             "pattern": {
              "fillmode": "overlay",
              "size": 10,
              "solidity": 0.2
             }
            },
            "type": "bar"
           }
          ],
          "barpolar": [
           {
            "marker": {
             "line": {
              "color": "#E5ECF6",
              "width": 0.5
             },
             "pattern": {
              "fillmode": "overlay",
              "size": 10,
              "solidity": 0.2
             }
            },
            "type": "barpolar"
           }
          ],
          "carpet": [
           {
            "aaxis": {
             "endlinecolor": "#2a3f5f",
             "gridcolor": "white",
             "linecolor": "white",
             "minorgridcolor": "white",
             "startlinecolor": "#2a3f5f"
            },
            "baxis": {
             "endlinecolor": "#2a3f5f",
             "gridcolor": "white",
             "linecolor": "white",
             "minorgridcolor": "white",
             "startlinecolor": "#2a3f5f"
            },
            "type": "carpet"
           }
          ],
          "choropleth": [
           {
            "colorbar": {
             "outlinewidth": 0,
             "ticks": ""
            },
            "type": "choropleth"
           }
          ],
          "contour": [
           {
            "colorbar": {
             "outlinewidth": 0,
             "ticks": ""
            },
            "colorscale": [
             [
              0,
              "#0d0887"
             ],
             [
              0.1111111111111111,
              "#46039f"
             ],
             [
              0.2222222222222222,
              "#7201a8"
             ],
             [
              0.3333333333333333,
              "#9c179e"
             ],
             [
              0.4444444444444444,
              "#bd3786"
             ],
             [
              0.5555555555555556,
              "#d8576b"
             ],
             [
              0.6666666666666666,
              "#ed7953"
             ],
             [
              0.7777777777777778,
              "#fb9f3a"
             ],
             [
              0.8888888888888888,
              "#fdca26"
             ],
             [
              1,
              "#f0f921"
             ]
            ],
            "type": "contour"
           }
          ],
          "contourcarpet": [
           {
            "colorbar": {
             "outlinewidth": 0,
             "ticks": ""
            },
            "type": "contourcarpet"
           }
          ],
          "heatmap": [
           {
            "colorbar": {
             "outlinewidth": 0,
             "ticks": ""
            },
            "colorscale": [
             [
              0,
              "#0d0887"
             ],
             [
              0.1111111111111111,
              "#46039f"
             ],
             [
              0.2222222222222222,
              "#7201a8"
             ],
             [
              0.3333333333333333,
              "#9c179e"
             ],
             [
              0.4444444444444444,
              "#bd3786"
             ],
             [
              0.5555555555555556,
              "#d8576b"
             ],
             [
              0.6666666666666666,
              "#ed7953"
             ],
             [
              0.7777777777777778,
              "#fb9f3a"
             ],
             [
              0.8888888888888888,
              "#fdca26"
             ],
             [
              1,
              "#f0f921"
             ]
            ],
            "type": "heatmap"
           }
          ],
          "heatmapgl": [
           {
            "colorbar": {
             "outlinewidth": 0,
             "ticks": ""
            },
            "colorscale": [
             [
              0,
              "#0d0887"
             ],
             [
              0.1111111111111111,
              "#46039f"
             ],
             [
              0.2222222222222222,
              "#7201a8"
             ],
             [
              0.3333333333333333,
              "#9c179e"
             ],
             [
              0.4444444444444444,
              "#bd3786"
             ],
             [
              0.5555555555555556,
              "#d8576b"
             ],
             [
              0.6666666666666666,
              "#ed7953"
             ],
             [
              0.7777777777777778,
              "#fb9f3a"
             ],
             [
              0.8888888888888888,
              "#fdca26"
             ],
             [
              1,
              "#f0f921"
             ]
            ],
            "type": "heatmapgl"
           }
          ],
          "histogram": [
           {
            "marker": {
             "pattern": {
              "fillmode": "overlay",
              "size": 10,
              "solidity": 0.2
             }
            },
            "type": "histogram"
           }
          ],
          "histogram2d": [
           {
            "colorbar": {
             "outlinewidth": 0,
             "ticks": ""
            },
            "colorscale": [
             [
              0,
              "#0d0887"
             ],
             [
              0.1111111111111111,
              "#46039f"
             ],
             [
              0.2222222222222222,
              "#7201a8"
             ],
             [
              0.3333333333333333,
              "#9c179e"
             ],
             [
              0.4444444444444444,
              "#bd3786"
             ],
             [
              0.5555555555555556,
              "#d8576b"
             ],
             [
              0.6666666666666666,
              "#ed7953"
             ],
             [
              0.7777777777777778,
              "#fb9f3a"
             ],
             [
              0.8888888888888888,
              "#fdca26"
             ],
             [
              1,
              "#f0f921"
             ]
            ],
            "type": "histogram2d"
           }
          ],
          "histogram2dcontour": [
           {
            "colorbar": {
             "outlinewidth": 0,
             "ticks": ""
            },
            "colorscale": [
             [
              0,
              "#0d0887"
             ],
             [
              0.1111111111111111,
              "#46039f"
             ],
             [
              0.2222222222222222,
              "#7201a8"
             ],
             [
              0.3333333333333333,
              "#9c179e"
             ],
             [
              0.4444444444444444,
              "#bd3786"
             ],
             [
              0.5555555555555556,
              "#d8576b"
             ],
             [
              0.6666666666666666,
              "#ed7953"
             ],
             [
              0.7777777777777778,
              "#fb9f3a"
             ],
             [
              0.8888888888888888,
              "#fdca26"
             ],
             [
              1,
              "#f0f921"
             ]
            ],
            "type": "histogram2dcontour"
           }
          ],
          "mesh3d": [
           {
            "colorbar": {
             "outlinewidth": 0,
             "ticks": ""
            },
            "type": "mesh3d"
           }
          ],
          "parcoords": [
           {
            "line": {
             "colorbar": {
              "outlinewidth": 0,
              "ticks": ""
             }
            },
            "type": "parcoords"
           }
          ],
          "pie": [
           {
            "automargin": true,
            "type": "pie"
           }
          ],
          "scatter": [
           {
            "fillpattern": {
             "fillmode": "overlay",
             "size": 10,
             "solidity": 0.2
            },
            "type": "scatter"
           }
          ],
          "scatter3d": [
           {
            "line": {
             "colorbar": {
              "outlinewidth": 0,
              "ticks": ""
             }
            },
            "marker": {
             "colorbar": {
              "outlinewidth": 0,
              "ticks": ""
             }
            },
            "type": "scatter3d"
           }
          ],
          "scattercarpet": [
           {
            "marker": {
             "colorbar": {
              "outlinewidth": 0,
              "ticks": ""
             }
            },
            "type": "scattercarpet"
           }
          ],
          "scattergeo": [
           {
            "marker": {
             "colorbar": {
              "outlinewidth": 0,
              "ticks": ""
             }
            },
            "type": "scattergeo"
           }
          ],
          "scattergl": [
           {
            "marker": {
             "colorbar": {
              "outlinewidth": 0,
              "ticks": ""
             }
            },
            "type": "scattergl"
           }
          ],
          "scattermapbox": [
           {
            "marker": {
             "colorbar": {
              "outlinewidth": 0,
              "ticks": ""
             }
            },
            "type": "scattermapbox"
           }
          ],
          "scatterpolar": [
           {
            "marker": {
             "colorbar": {
              "outlinewidth": 0,
              "ticks": ""
             }
            },
            "type": "scatterpolar"
           }
          ],
          "scatterpolargl": [
           {
            "marker": {
             "colorbar": {
              "outlinewidth": 0,
              "ticks": ""
             }
            },
            "type": "scatterpolargl"
           }
          ],
          "scatterternary": [
           {
            "marker": {
             "colorbar": {
              "outlinewidth": 0,
              "ticks": ""
             }
            },
            "type": "scatterternary"
           }
          ],
          "surface": [
           {
            "colorbar": {
             "outlinewidth": 0,
             "ticks": ""
            },
            "colorscale": [
             [
              0,
              "#0d0887"
             ],
             [
              0.1111111111111111,
              "#46039f"
             ],
             [
              0.2222222222222222,
              "#7201a8"
             ],
             [
              0.3333333333333333,
              "#9c179e"
             ],
             [
              0.4444444444444444,
              "#bd3786"
             ],
             [
              0.5555555555555556,
              "#d8576b"
             ],
             [
              0.6666666666666666,
              "#ed7953"
             ],
             [
              0.7777777777777778,
              "#fb9f3a"
             ],
             [
              0.8888888888888888,
              "#fdca26"
             ],
             [
              1,
              "#f0f921"
             ]
            ],
            "type": "surface"
           }
          ],
          "table": [
           {
            "cells": {
             "fill": {
              "color": "#EBF0F8"
             },
             "line": {
              "color": "white"
             }
            },
            "header": {
             "fill": {
              "color": "#C8D4E3"
             },
             "line": {
              "color": "white"
             }
            },
            "type": "table"
           }
          ]
         },
         "layout": {
          "annotationdefaults": {
           "arrowcolor": "#2a3f5f",
           "arrowhead": 0,
           "arrowwidth": 1
          },
          "autotypenumbers": "strict",
          "coloraxis": {
           "colorbar": {
            "outlinewidth": 0,
            "ticks": ""
           }
          },
          "colorscale": {
           "diverging": [
            [
             0,
             "#8e0152"
            ],
            [
             0.1,
             "#c51b7d"
            ],
            [
             0.2,
             "#de77ae"
            ],
            [
             0.3,
             "#f1b6da"
            ],
            [
             0.4,
             "#fde0ef"
            ],
            [
             0.5,
             "#f7f7f7"
            ],
            [
             0.6,
             "#e6f5d0"
            ],
            [
             0.7,
             "#b8e186"
            ],
            [
             0.8,
             "#7fbc41"
            ],
            [
             0.9,
             "#4d9221"
            ],
            [
             1,
             "#276419"
            ]
           ],
           "sequential": [
            [
             0,
             "#0d0887"
            ],
            [
             0.1111111111111111,
             "#46039f"
            ],
            [
             0.2222222222222222,
             "#7201a8"
            ],
            [
             0.3333333333333333,
             "#9c179e"
            ],
            [
             0.4444444444444444,
             "#bd3786"
            ],
            [
             0.5555555555555556,
             "#d8576b"
            ],
            [
             0.6666666666666666,
             "#ed7953"
            ],
            [
             0.7777777777777778,
             "#fb9f3a"
            ],
            [
             0.8888888888888888,
             "#fdca26"
            ],
            [
             1,
             "#f0f921"
            ]
           ],
           "sequentialminus": [
            [
             0,
             "#0d0887"
            ],
            [
             0.1111111111111111,
             "#46039f"
            ],
            [
             0.2222222222222222,
             "#7201a8"
            ],
            [
             0.3333333333333333,
             "#9c179e"
            ],
            [
             0.4444444444444444,
             "#bd3786"
            ],
            [
             0.5555555555555556,
             "#d8576b"
            ],
            [
             0.6666666666666666,
             "#ed7953"
            ],
            [
             0.7777777777777778,
             "#fb9f3a"
            ],
            [
             0.8888888888888888,
             "#fdca26"
            ],
            [
             1,
             "#f0f921"
            ]
           ]
          },
          "colorway": [
           "#636efa",
           "#EF553B",
           "#00cc96",
           "#ab63fa",
           "#FFA15A",
           "#19d3f3",
           "#FF6692",
           "#B6E880",
           "#FF97FF",
           "#FECB52"
          ],
          "font": {
           "color": "#2a3f5f"
          },
          "geo": {
           "bgcolor": "white",
           "lakecolor": "white",
           "landcolor": "#E5ECF6",
           "showlakes": true,
           "showland": true,
           "subunitcolor": "white"
          },
          "hoverlabel": {
           "align": "left"
          },
          "hovermode": "closest",
          "mapbox": {
           "style": "light"
          },
          "paper_bgcolor": "white",
          "plot_bgcolor": "#E5ECF6",
          "polar": {
           "angularaxis": {
            "gridcolor": "white",
            "linecolor": "white",
            "ticks": ""
           },
           "bgcolor": "#E5ECF6",
           "radialaxis": {
            "gridcolor": "white",
            "linecolor": "white",
            "ticks": ""
           }
          },
          "scene": {
           "xaxis": {
            "backgroundcolor": "#E5ECF6",
            "gridcolor": "white",
            "gridwidth": 2,
            "linecolor": "white",
            "showbackground": true,
            "ticks": "",
            "zerolinecolor": "white"
           },
           "yaxis": {
            "backgroundcolor": "#E5ECF6",
            "gridcolor": "white",
            "gridwidth": 2,
            "linecolor": "white",
            "showbackground": true,
            "ticks": "",
            "zerolinecolor": "white"
           },
           "zaxis": {
            "backgroundcolor": "#E5ECF6",
            "gridcolor": "white",
            "gridwidth": 2,
            "linecolor": "white",
            "showbackground": true,
            "ticks": "",
            "zerolinecolor": "white"
           }
          },
          "shapedefaults": {
           "line": {
            "color": "#2a3f5f"
           }
          },
          "ternary": {
           "aaxis": {
            "gridcolor": "white",
            "linecolor": "white",
            "ticks": ""
           },
           "baxis": {
            "gridcolor": "white",
            "linecolor": "white",
            "ticks": ""
           },
           "bgcolor": "#E5ECF6",
           "caxis": {
            "gridcolor": "white",
            "linecolor": "white",
            "ticks": ""
           }
          },
          "title": {
           "x": 0.05
          },
          "xaxis": {
           "automargin": true,
           "gridcolor": "white",
           "linecolor": "white",
           "ticks": "",
           "title": {
            "standoff": 15
           },
           "zerolinecolor": "white",
           "zerolinewidth": 2
          },
          "yaxis": {
           "automargin": true,
           "gridcolor": "white",
           "linecolor": "white",
           "ticks": "",
           "title": {
            "standoff": 15
           },
           "zerolinecolor": "white",
           "zerolinewidth": 2
          }
         }
        }
       }
      }
     },
     "metadata": {},
     "output_type": "display_data"
    }
   ],
   "source": [
    "\n",
    "fig = go.Figure(data=[\n",
    "    go.Bar(name= \"Full Data\", x= [\"Aquilos\", 'Arctis', 'CryoFIB', \"Centrios\", \"Quanta 3D FEG\", \"Aquilos G2+\", \"Helios 6\", \"Helios PFIB Hydra\", \"Scio\"] , y=[length1.days, length2.days, length3.days, length4.days, length5.days, length6.days, length7.days, length8.days, length9.days])\n",
    "\n",
    "])\n",
    "\n",
    "fig.show()"
   ]
  },
  {
   "cell_type": "code",
   "execution_count": 286,
   "metadata": {},
   "outputs": [
    {
     "data": {
      "application/vnd.plotly.v1+json": {
       "config": {
        "plotlyServerURL": "https://plot.ly"
       },
       "data": [
        {
         "name": "Deleted Data",
         "type": "bar",
         "x": [
          "Aquilos",
          "Arctis",
          "CryoFIB",
          "Centrios",
          "Quanta 3D FEG",
          "Aquilos G2+",
          "Helios 6",
          "Helios PFIB Hydra",
          "Scio"
         ],
         "y": [
          96,
          435,
          55.17156666666666,
          55.18963333333333,
          49.04643333333333,
          42,
          8.690433333333335,
          55.999900000000004,
          48.668800000000005
         ]
        }
       ],
       "layout": {
        "template": {
         "data": {
          "bar": [
           {
            "error_x": {
             "color": "#2a3f5f"
            },
            "error_y": {
             "color": "#2a3f5f"
            },
            "marker": {
             "line": {
              "color": "#E5ECF6",
              "width": 0.5
             },
             "pattern": {
              "fillmode": "overlay",
              "size": 10,
              "solidity": 0.2
             }
            },
            "type": "bar"
           }
          ],
          "barpolar": [
           {
            "marker": {
             "line": {
              "color": "#E5ECF6",
              "width": 0.5
             },
             "pattern": {
              "fillmode": "overlay",
              "size": 10,
              "solidity": 0.2
             }
            },
            "type": "barpolar"
           }
          ],
          "carpet": [
           {
            "aaxis": {
             "endlinecolor": "#2a3f5f",
             "gridcolor": "white",
             "linecolor": "white",
             "minorgridcolor": "white",
             "startlinecolor": "#2a3f5f"
            },
            "baxis": {
             "endlinecolor": "#2a3f5f",
             "gridcolor": "white",
             "linecolor": "white",
             "minorgridcolor": "white",
             "startlinecolor": "#2a3f5f"
            },
            "type": "carpet"
           }
          ],
          "choropleth": [
           {
            "colorbar": {
             "outlinewidth": 0,
             "ticks": ""
            },
            "type": "choropleth"
           }
          ],
          "contour": [
           {
            "colorbar": {
             "outlinewidth": 0,
             "ticks": ""
            },
            "colorscale": [
             [
              0,
              "#0d0887"
             ],
             [
              0.1111111111111111,
              "#46039f"
             ],
             [
              0.2222222222222222,
              "#7201a8"
             ],
             [
              0.3333333333333333,
              "#9c179e"
             ],
             [
              0.4444444444444444,
              "#bd3786"
             ],
             [
              0.5555555555555556,
              "#d8576b"
             ],
             [
              0.6666666666666666,
              "#ed7953"
             ],
             [
              0.7777777777777778,
              "#fb9f3a"
             ],
             [
              0.8888888888888888,
              "#fdca26"
             ],
             [
              1,
              "#f0f921"
             ]
            ],
            "type": "contour"
           }
          ],
          "contourcarpet": [
           {
            "colorbar": {
             "outlinewidth": 0,
             "ticks": ""
            },
            "type": "contourcarpet"
           }
          ],
          "heatmap": [
           {
            "colorbar": {
             "outlinewidth": 0,
             "ticks": ""
            },
            "colorscale": [
             [
              0,
              "#0d0887"
             ],
             [
              0.1111111111111111,
              "#46039f"
             ],
             [
              0.2222222222222222,
              "#7201a8"
             ],
             [
              0.3333333333333333,
              "#9c179e"
             ],
             [
              0.4444444444444444,
              "#bd3786"
             ],
             [
              0.5555555555555556,
              "#d8576b"
             ],
             [
              0.6666666666666666,
              "#ed7953"
             ],
             [
              0.7777777777777778,
              "#fb9f3a"
             ],
             [
              0.8888888888888888,
              "#fdca26"
             ],
             [
              1,
              "#f0f921"
             ]
            ],
            "type": "heatmap"
           }
          ],
          "heatmapgl": [
           {
            "colorbar": {
             "outlinewidth": 0,
             "ticks": ""
            },
            "colorscale": [
             [
              0,
              "#0d0887"
             ],
             [
              0.1111111111111111,
              "#46039f"
             ],
             [
              0.2222222222222222,
              "#7201a8"
             ],
             [
              0.3333333333333333,
              "#9c179e"
             ],
             [
              0.4444444444444444,
              "#bd3786"
             ],
             [
              0.5555555555555556,
              "#d8576b"
             ],
             [
              0.6666666666666666,
              "#ed7953"
             ],
             [
              0.7777777777777778,
              "#fb9f3a"
             ],
             [
              0.8888888888888888,
              "#fdca26"
             ],
             [
              1,
              "#f0f921"
             ]
            ],
            "type": "heatmapgl"
           }
          ],
          "histogram": [
           {
            "marker": {
             "pattern": {
              "fillmode": "overlay",
              "size": 10,
              "solidity": 0.2
             }
            },
            "type": "histogram"
           }
          ],
          "histogram2d": [
           {
            "colorbar": {
             "outlinewidth": 0,
             "ticks": ""
            },
            "colorscale": [
             [
              0,
              "#0d0887"
             ],
             [
              0.1111111111111111,
              "#46039f"
             ],
             [
              0.2222222222222222,
              "#7201a8"
             ],
             [
              0.3333333333333333,
              "#9c179e"
             ],
             [
              0.4444444444444444,
              "#bd3786"
             ],
             [
              0.5555555555555556,
              "#d8576b"
             ],
             [
              0.6666666666666666,
              "#ed7953"
             ],
             [
              0.7777777777777778,
              "#fb9f3a"
             ],
             [
              0.8888888888888888,
              "#fdca26"
             ],
             [
              1,
              "#f0f921"
             ]
            ],
            "type": "histogram2d"
           }
          ],
          "histogram2dcontour": [
           {
            "colorbar": {
             "outlinewidth": 0,
             "ticks": ""
            },
            "colorscale": [
             [
              0,
              "#0d0887"
             ],
             [
              0.1111111111111111,
              "#46039f"
             ],
             [
              0.2222222222222222,
              "#7201a8"
             ],
             [
              0.3333333333333333,
              "#9c179e"
             ],
             [
              0.4444444444444444,
              "#bd3786"
             ],
             [
              0.5555555555555556,
              "#d8576b"
             ],
             [
              0.6666666666666666,
              "#ed7953"
             ],
             [
              0.7777777777777778,
              "#fb9f3a"
             ],
             [
              0.8888888888888888,
              "#fdca26"
             ],
             [
              1,
              "#f0f921"
             ]
            ],
            "type": "histogram2dcontour"
           }
          ],
          "mesh3d": [
           {
            "colorbar": {
             "outlinewidth": 0,
             "ticks": ""
            },
            "type": "mesh3d"
           }
          ],
          "parcoords": [
           {
            "line": {
             "colorbar": {
              "outlinewidth": 0,
              "ticks": ""
             }
            },
            "type": "parcoords"
           }
          ],
          "pie": [
           {
            "automargin": true,
            "type": "pie"
           }
          ],
          "scatter": [
           {
            "fillpattern": {
             "fillmode": "overlay",
             "size": 10,
             "solidity": 0.2
            },
            "type": "scatter"
           }
          ],
          "scatter3d": [
           {
            "line": {
             "colorbar": {
              "outlinewidth": 0,
              "ticks": ""
             }
            },
            "marker": {
             "colorbar": {
              "outlinewidth": 0,
              "ticks": ""
             }
            },
            "type": "scatter3d"
           }
          ],
          "scattercarpet": [
           {
            "marker": {
             "colorbar": {
              "outlinewidth": 0,
              "ticks": ""
             }
            },
            "type": "scattercarpet"
           }
          ],
          "scattergeo": [
           {
            "marker": {
             "colorbar": {
              "outlinewidth": 0,
              "ticks": ""
             }
            },
            "type": "scattergeo"
           }
          ],
          "scattergl": [
           {
            "marker": {
             "colorbar": {
              "outlinewidth": 0,
              "ticks": ""
             }
            },
            "type": "scattergl"
           }
          ],
          "scattermapbox": [
           {
            "marker": {
             "colorbar": {
              "outlinewidth": 0,
              "ticks": ""
             }
            },
            "type": "scattermapbox"
           }
          ],
          "scatterpolar": [
           {
            "marker": {
             "colorbar": {
              "outlinewidth": 0,
              "ticks": ""
             }
            },
            "type": "scatterpolar"
           }
          ],
          "scatterpolargl": [
           {
            "marker": {
             "colorbar": {
              "outlinewidth": 0,
              "ticks": ""
             }
            },
            "type": "scatterpolargl"
           }
          ],
          "scatterternary": [
           {
            "marker": {
             "colorbar": {
              "outlinewidth": 0,
              "ticks": ""
             }
            },
            "type": "scatterternary"
           }
          ],
          "surface": [
           {
            "colorbar": {
             "outlinewidth": 0,
             "ticks": ""
            },
            "colorscale": [
             [
              0,
              "#0d0887"
             ],
             [
              0.1111111111111111,
              "#46039f"
             ],
             [
              0.2222222222222222,
              "#7201a8"
             ],
             [
              0.3333333333333333,
              "#9c179e"
             ],
             [
              0.4444444444444444,
              "#bd3786"
             ],
             [
              0.5555555555555556,
              "#d8576b"
             ],
             [
              0.6666666666666666,
              "#ed7953"
             ],
             [
              0.7777777777777778,
              "#fb9f3a"
             ],
             [
              0.8888888888888888,
              "#fdca26"
             ],
             [
              1,
              "#f0f921"
             ]
            ],
            "type": "surface"
           }
          ],
          "table": [
           {
            "cells": {
             "fill": {
              "color": "#EBF0F8"
             },
             "line": {
              "color": "white"
             }
            },
            "header": {
             "fill": {
              "color": "#C8D4E3"
             },
             "line": {
              "color": "white"
             }
            },
            "type": "table"
           }
          ]
         },
         "layout": {
          "annotationdefaults": {
           "arrowcolor": "#2a3f5f",
           "arrowhead": 0,
           "arrowwidth": 1
          },
          "autotypenumbers": "strict",
          "coloraxis": {
           "colorbar": {
            "outlinewidth": 0,
            "ticks": ""
           }
          },
          "colorscale": {
           "diverging": [
            [
             0,
             "#8e0152"
            ],
            [
             0.1,
             "#c51b7d"
            ],
            [
             0.2,
             "#de77ae"
            ],
            [
             0.3,
             "#f1b6da"
            ],
            [
             0.4,
             "#fde0ef"
            ],
            [
             0.5,
             "#f7f7f7"
            ],
            [
             0.6,
             "#e6f5d0"
            ],
            [
             0.7,
             "#b8e186"
            ],
            [
             0.8,
             "#7fbc41"
            ],
            [
             0.9,
             "#4d9221"
            ],
            [
             1,
             "#276419"
            ]
           ],
           "sequential": [
            [
             0,
             "#0d0887"
            ],
            [
             0.1111111111111111,
             "#46039f"
            ],
            [
             0.2222222222222222,
             "#7201a8"
            ],
            [
             0.3333333333333333,
             "#9c179e"
            ],
            [
             0.4444444444444444,
             "#bd3786"
            ],
            [
             0.5555555555555556,
             "#d8576b"
            ],
            [
             0.6666666666666666,
             "#ed7953"
            ],
            [
             0.7777777777777778,
             "#fb9f3a"
            ],
            [
             0.8888888888888888,
             "#fdca26"
            ],
            [
             1,
             "#f0f921"
            ]
           ],
           "sequentialminus": [
            [
             0,
             "#0d0887"
            ],
            [
             0.1111111111111111,
             "#46039f"
            ],
            [
             0.2222222222222222,
             "#7201a8"
            ],
            [
             0.3333333333333333,
             "#9c179e"
            ],
            [
             0.4444444444444444,
             "#bd3786"
            ],
            [
             0.5555555555555556,
             "#d8576b"
            ],
            [
             0.6666666666666666,
             "#ed7953"
            ],
            [
             0.7777777777777778,
             "#fb9f3a"
            ],
            [
             0.8888888888888888,
             "#fdca26"
            ],
            [
             1,
             "#f0f921"
            ]
           ]
          },
          "colorway": [
           "#636efa",
           "#EF553B",
           "#00cc96",
           "#ab63fa",
           "#FFA15A",
           "#19d3f3",
           "#FF6692",
           "#B6E880",
           "#FF97FF",
           "#FECB52"
          ],
          "font": {
           "color": "#2a3f5f"
          },
          "geo": {
           "bgcolor": "white",
           "lakecolor": "white",
           "landcolor": "#E5ECF6",
           "showlakes": true,
           "showland": true,
           "subunitcolor": "white"
          },
          "hoverlabel": {
           "align": "left"
          },
          "hovermode": "closest",
          "mapbox": {
           "style": "light"
          },
          "paper_bgcolor": "white",
          "plot_bgcolor": "#E5ECF6",
          "polar": {
           "angularaxis": {
            "gridcolor": "white",
            "linecolor": "white",
            "ticks": ""
           },
           "bgcolor": "#E5ECF6",
           "radialaxis": {
            "gridcolor": "white",
            "linecolor": "white",
            "ticks": ""
           }
          },
          "scene": {
           "xaxis": {
            "backgroundcolor": "#E5ECF6",
            "gridcolor": "white",
            "gridwidth": 2,
            "linecolor": "white",
            "showbackground": true,
            "ticks": "",
            "zerolinecolor": "white"
           },
           "yaxis": {
            "backgroundcolor": "#E5ECF6",
            "gridcolor": "white",
            "gridwidth": 2,
            "linecolor": "white",
            "showbackground": true,
            "ticks": "",
            "zerolinecolor": "white"
           },
           "zaxis": {
            "backgroundcolor": "#E5ECF6",
            "gridcolor": "white",
            "gridwidth": 2,
            "linecolor": "white",
            "showbackground": true,
            "ticks": "",
            "zerolinecolor": "white"
           }
          },
          "shapedefaults": {
           "line": {
            "color": "#2a3f5f"
           }
          },
          "ternary": {
           "aaxis": {
            "gridcolor": "white",
            "linecolor": "white",
            "ticks": ""
           },
           "baxis": {
            "gridcolor": "white",
            "linecolor": "white",
            "ticks": ""
           },
           "bgcolor": "#E5ECF6",
           "caxis": {
            "gridcolor": "white",
            "linecolor": "white",
            "ticks": ""
           }
          },
          "title": {
           "x": 0.05
          },
          "xaxis": {
           "automargin": true,
           "gridcolor": "white",
           "linecolor": "white",
           "ticks": "",
           "title": {
            "standoff": 15
           },
           "zerolinecolor": "white",
           "zerolinewidth": 2
          },
          "yaxis": {
           "automargin": true,
           "gridcolor": "white",
           "linecolor": "white",
           "ticks": "",
           "title": {
            "standoff": 15
           },
           "zerolinecolor": "white",
           "zerolinewidth": 2
          }
         }
        }
       }
      }
     },
     "metadata": {},
     "output_type": "display_data"
    }
   ],
   "source": [
    "fig = go.Figure(data=[\n",
    "        go.Bar(name=\"Deleted Data\", x= [\"Aquilos\", 'Arctis', 'CryoFIB', \"Centrios\", \"Quanta 3D FEG\", \"Aquilos G2+\", \"Helios 6\", \"Helios PFIB Hydra\", \"Scio\"], y= [length_m1.total_seconds()/60, length_m2.total_seconds()/60, length_m3.total_seconds()/60, length_m4.total_seconds()/60, length_m5.total_seconds()/60, length_m6.total_seconds()/60, length_m7.total_seconds()/60, length_m8.total_seconds()/60, length_m9.total_seconds()/60])\n",
    "\n",
    "])\n",
    "\n",
    "fig.show()"
   ]
  },
  {
   "cell_type": "code",
   "execution_count": 287,
   "metadata": {},
   "outputs": [],
   "source": [
    "df_Service_Mode1=data1_dropped[[\"DateTime\", \"ServiceModeIsOn\"]]\n",
    "df_Service_Mode2=data2_dropped[[\"DateTime\", \"ServiceModeIsOn\"]]\n",
    "df_Service_Mode3=data3_dropped[[\"DateTime\", \"ServiceModeIsOn\"]]\n",
    "df_Service_Mode4=data4_dropped[[\"DateTime\", \"ServiceModeIsOn\"]]\n",
    "df_Service_Mode5=data5_dropped[[\"DateTime\", \"ServiceModeIsOn\"]]\n",
    "df_Service_Mode6=data6_dropped[[\"DateTime\", \"ServiceModeIsOn\"]]\n",
    "df_Service_Mode7=data7_dropped[[\"DateTime\", \"ServiceModeIsOn\"]]\n",
    "df_Service_Mode8=data8_dropped[[\"DateTime\", \"ServiceModeIsOn\"]]\n",
    "df_Service_Mode9=data9_dropped[[\"DateTime\", \"ServiceModeIsOn\"]]"
   ]
  },
  {
   "cell_type": "code",
   "execution_count": 288,
   "metadata": {},
   "outputs": [],
   "source": [
    "df_Service_Mode1= df_Service_Mode1.loc[df_Service_Mode1[\"ServiceModeIsOn\"].astype(int).diff() != 0]\n",
    "df_Service_Mode2= df_Service_Mode2.loc[df_Service_Mode2[\"ServiceModeIsOn\"].astype(int).diff() != 0]\n",
    "df_Service_Mode3= df_Service_Mode3.loc[df_Service_Mode3[\"ServiceModeIsOn\"].astype(int).diff() != 0]\n",
    "df_Service_Mode4= df_Service_Mode4.loc[df_Service_Mode4[\"ServiceModeIsOn\"].astype(int).diff() != 0]\n",
    "df_Service_Mode5= df_Service_Mode5.loc[df_Service_Mode5[\"ServiceModeIsOn\"].astype(int).diff() != 0]\n",
    "df_Service_Mode6= df_Service_Mode6.loc[df_Service_Mode6[\"ServiceModeIsOn\"].astype(int).diff() != 0]\n",
    "df_Service_Mode7= df_Service_Mode7.loc[df_Service_Mode7[\"ServiceModeIsOn\"].astype(int).diff() != 0]\n",
    "df_Service_Mode8= df_Service_Mode8.loc[df_Service_Mode8[\"ServiceModeIsOn\"].astype(int).diff() != 0]\n",
    "df_Service_Mode9= df_Service_Mode9.loc[df_Service_Mode9[\"ServiceModeIsOn\"].astype(int).diff() != 0]\n"
   ]
  },
  {
   "cell_type": "code",
   "execution_count": 289,
   "metadata": {},
   "outputs": [],
   "source": [
    "df_Service_Mode1[\"ServiceModeIsOn\"]= df_Service_Mode1[\"ServiceModeIsOn\"].astype(int)\n",
    "df_Service_Mode2[\"ServiceModeIsOn\"]= df_Service_Mode2[\"ServiceModeIsOn\"].astype(int)\n",
    "df_Service_Mode3[\"ServiceModeIsOn\"]= df_Service_Mode3[\"ServiceModeIsOn\"].astype(int)\n",
    "df_Service_Mode4[\"ServiceModeIsOn\"]= df_Service_Mode4[\"ServiceModeIsOn\"].astype(int)\n",
    "df_Service_Mode5[\"ServiceModeIsOn\"]= df_Service_Mode5[\"ServiceModeIsOn\"].astype(int)\n",
    "df_Service_Mode6[\"ServiceModeIsOn\"]= df_Service_Mode6[\"ServiceModeIsOn\"].astype(int)\n",
    "df_Service_Mode7[\"ServiceModeIsOn\"]= df_Service_Mode7[\"ServiceModeIsOn\"].astype(int)\n",
    "df_Service_Mode8[\"ServiceModeIsOn\"]= df_Service_Mode8[\"ServiceModeIsOn\"].astype(int)\n",
    "df_Service_Mode9[\"ServiceModeIsOn\"]= df_Service_Mode9[\"ServiceModeIsOn\"].astype(int)"
   ]
  },
  {
   "cell_type": "code",
   "execution_count": 290,
   "metadata": {},
   "outputs": [
    {
     "data": {
      "text/html": [
       "<div>\n",
       "<style scoped>\n",
       "    .dataframe tbody tr th:only-of-type {\n",
       "        vertical-align: middle;\n",
       "    }\n",
       "\n",
       "    .dataframe tbody tr th {\n",
       "        vertical-align: top;\n",
       "    }\n",
       "\n",
       "    .dataframe thead th {\n",
       "        text-align: right;\n",
       "    }\n",
       "</style>\n",
       "<table border=\"1\" class=\"dataframe\">\n",
       "  <thead>\n",
       "    <tr style=\"text-align: right;\">\n",
       "      <th></th>\n",
       "      <th>DateTime</th>\n",
       "      <th>ServiceModeIsOn</th>\n",
       "    </tr>\n",
       "  </thead>\n",
       "  <tbody>\n",
       "    <tr>\n",
       "      <th>108</th>\n",
       "      <td>NaT</td>\n",
       "      <td>NaN</td>\n",
       "    </tr>\n",
       "    <tr>\n",
       "      <th>13868</th>\n",
       "      <td>5 days 23:57:41.830000</td>\n",
       "      <td>1.0</td>\n",
       "    </tr>\n",
       "    <tr>\n",
       "      <th>13878</th>\n",
       "      <td>0 days 00:08:38.793000</td>\n",
       "      <td>-1.0</td>\n",
       "    </tr>\n",
       "    <tr>\n",
       "      <th>18441</th>\n",
       "      <td>1 days 23:58:29.549000</td>\n",
       "      <td>1.0</td>\n",
       "    </tr>\n",
       "    <tr>\n",
       "      <th>18484</th>\n",
       "      <td>0 days 00:40:08.893000</td>\n",
       "      <td>-1.0</td>\n",
       "    </tr>\n",
       "    <tr>\n",
       "      <th>34987</th>\n",
       "      <td>6 days 06:45:09.916000</td>\n",
       "      <td>1.0</td>\n",
       "    </tr>\n",
       "    <tr>\n",
       "      <th>37520</th>\n",
       "      <td>0 days 21:04:12.961000</td>\n",
       "      <td>-1.0</td>\n",
       "    </tr>\n",
       "    <tr>\n",
       "      <th>92991</th>\n",
       "      <td>33 days 00:21:38.432000</td>\n",
       "      <td>1.0</td>\n",
       "    </tr>\n",
       "    <tr>\n",
       "      <th>94135</th>\n",
       "      <td>0 days 18:04:07.479000</td>\n",
       "      <td>-1.0</td>\n",
       "    </tr>\n",
       "    <tr>\n",
       "      <th>94142</th>\n",
       "      <td>0 days 00:02:26.662000</td>\n",
       "      <td>1.0</td>\n",
       "    </tr>\n",
       "    <tr>\n",
       "      <th>94343</th>\n",
       "      <td>0 days 02:56:50.981000</td>\n",
       "      <td>-1.0</td>\n",
       "    </tr>\n",
       "    <tr>\n",
       "      <th>94348</th>\n",
       "      <td>0 days 00:01:35.594000</td>\n",
       "      <td>1.0</td>\n",
       "    </tr>\n",
       "    <tr>\n",
       "      <th>105709</th>\n",
       "      <td>0 days 22:05:54.273000</td>\n",
       "      <td>-1.0</td>\n",
       "    </tr>\n",
       "    <tr>\n",
       "      <th>105714</th>\n",
       "      <td>0 days 00:01:31.034000</td>\n",
       "      <td>1.0</td>\n",
       "    </tr>\n",
       "    <tr>\n",
       "      <th>135241</th>\n",
       "      <td>1 days 03:18:57.128000</td>\n",
       "      <td>-1.0</td>\n",
       "    </tr>\n",
       "    <tr>\n",
       "      <th>135245</th>\n",
       "      <td>0 days 00:01:58.746000</td>\n",
       "      <td>1.0</td>\n",
       "    </tr>\n",
       "    <tr>\n",
       "      <th>141106</th>\n",
       "      <td>3 days 20:50:01.520000</td>\n",
       "      <td>-1.0</td>\n",
       "    </tr>\n",
       "    <tr>\n",
       "      <th>145861</th>\n",
       "      <td>2 days 05:27:39.792000</td>\n",
       "      <td>1.0</td>\n",
       "    </tr>\n",
       "    <tr>\n",
       "      <th>145928</th>\n",
       "      <td>0 days 00:42:12.580000</td>\n",
       "      <td>-1.0</td>\n",
       "    </tr>\n",
       "    <tr>\n",
       "      <th>148205</th>\n",
       "      <td>0 days 16:50:41.576000</td>\n",
       "      <td>1.0</td>\n",
       "    </tr>\n",
       "    <tr>\n",
       "      <th>148209</th>\n",
       "      <td>0 days 00:03:38.161000</td>\n",
       "      <td>-1.0</td>\n",
       "    </tr>\n",
       "    <tr>\n",
       "      <th>162519</th>\n",
       "      <td>5 days 03:47:01.306000</td>\n",
       "      <td>1.0</td>\n",
       "    </tr>\n",
       "    <tr>\n",
       "      <th>162782</th>\n",
       "      <td>0 days 04:09:25.248000</td>\n",
       "      <td>-1.0</td>\n",
       "    </tr>\n",
       "    <tr>\n",
       "      <th>270306</th>\n",
       "      <td>12 days 19:05:24.085000</td>\n",
       "      <td>1.0</td>\n",
       "    </tr>\n",
       "    <tr>\n",
       "      <th>407657</th>\n",
       "      <td>2 days 21:43:23.493000</td>\n",
       "      <td>-1.0</td>\n",
       "    </tr>\n",
       "    <tr>\n",
       "      <th>439112</th>\n",
       "      <td>7 days 03:55:44.372000</td>\n",
       "      <td>1.0</td>\n",
       "    </tr>\n",
       "  </tbody>\n",
       "</table>\n",
       "</div>"
      ],
      "text/plain": [
       "                      DateTime  ServiceModeIsOn\n",
       "108                        NaT              NaN\n",
       "13868   5 days 23:57:41.830000              1.0\n",
       "13878   0 days 00:08:38.793000             -1.0\n",
       "18441   1 days 23:58:29.549000              1.0\n",
       "18484   0 days 00:40:08.893000             -1.0\n",
       "34987   6 days 06:45:09.916000              1.0\n",
       "37520   0 days 21:04:12.961000             -1.0\n",
       "92991  33 days 00:21:38.432000              1.0\n",
       "94135   0 days 18:04:07.479000             -1.0\n",
       "94142   0 days 00:02:26.662000              1.0\n",
       "94343   0 days 02:56:50.981000             -1.0\n",
       "94348   0 days 00:01:35.594000              1.0\n",
       "105709  0 days 22:05:54.273000             -1.0\n",
       "105714  0 days 00:01:31.034000              1.0\n",
       "135241  1 days 03:18:57.128000             -1.0\n",
       "135245  0 days 00:01:58.746000              1.0\n",
       "141106  3 days 20:50:01.520000             -1.0\n",
       "145861  2 days 05:27:39.792000              1.0\n",
       "145928  0 days 00:42:12.580000             -1.0\n",
       "148205  0 days 16:50:41.576000              1.0\n",
       "148209  0 days 00:03:38.161000             -1.0\n",
       "162519  5 days 03:47:01.306000              1.0\n",
       "162782  0 days 04:09:25.248000             -1.0\n",
       "270306 12 days 19:05:24.085000              1.0\n",
       "407657  2 days 21:43:23.493000             -1.0\n",
       "439112  7 days 03:55:44.372000              1.0"
      ]
     },
     "execution_count": 290,
     "metadata": {},
     "output_type": "execute_result"
    }
   ],
   "source": [
    "intervals1= df_Service_Mode1.diff()\n",
    "intervals2= df_Service_Mode2.diff()\n",
    "intervals3= df_Service_Mode3.diff()\n",
    "intervals4= df_Service_Mode4.diff()\n",
    "intervals5= df_Service_Mode5.diff()\n",
    "intervals6= df_Service_Mode6.diff()\n",
    "intervals7= df_Service_Mode7.diff()\n",
    "intervals8= df_Service_Mode8.diff()\n",
    "intervals9= df_Service_Mode9.diff()\n",
    "intervals1"
   ]
  },
  {
   "cell_type": "code",
   "execution_count": 291,
   "metadata": {},
   "outputs": [],
   "source": [
    "inservicemode1= intervals1.loc[intervals1[\"ServiceModeIsOn\"]== -1].sum()\n",
    "inservicemode2= intervals2.loc[intervals2[\"ServiceModeIsOn\"]== -1].sum()\n",
    "inservicemode3= intervals3.loc[intervals3[\"ServiceModeIsOn\"]== -1].sum()\n",
    "inservicemode4= intervals4.loc[intervals4[\"ServiceModeIsOn\"]== -1].sum()\n",
    "inservicemode5= intervals5.loc[intervals5[\"ServiceModeIsOn\"]== -1].sum()\n",
    "inservicemode6= intervals6.loc[intervals6[\"ServiceModeIsOn\"]== -1].sum()\n",
    "inservicemode7= intervals7.loc[intervals7[\"ServiceModeIsOn\"]== -1].sum()\n",
    "inservicemode8= intervals8.loc[intervals8[\"ServiceModeIsOn\"]== -1].sum()\n",
    "inservicemode9= intervals9.loc[intervals9[\"ServiceModeIsOn\"]== -1].sum()"
   ]
  },
  {
   "cell_type": "code",
   "execution_count": 292,
   "metadata": {},
   "outputs": [],
   "source": [
    "notinservicemode1= intervals1.loc[intervals1[\"ServiceModeIsOn\"]== 1].sum()\n",
    "notinservicemode2= intervals2.loc[intervals2[\"ServiceModeIsOn\"]== 1].sum()\n",
    "notinservicemode3= intervals3.loc[intervals3[\"ServiceModeIsOn\"]== 1].sum()\n",
    "notinservicemode4= intervals4.loc[intervals4[\"ServiceModeIsOn\"]== 1].sum()\n",
    "notinservicemode5= intervals5.loc[intervals5[\"ServiceModeIsOn\"]== 1].sum()\n",
    "notinservicemode6= intervals6.loc[intervals6[\"ServiceModeIsOn\"]== 1].sum()\n",
    "notinservicemode7= intervals7.loc[intervals7[\"ServiceModeIsOn\"]== 1].sum()\n",
    "notinservicemode8= intervals8.loc[intervals8[\"ServiceModeIsOn\"]== 1].sum()\n",
    "notinservicemode9= intervals9.loc[intervals9[\"ServiceModeIsOn\"]== 1].sum()\n"
   ]
  },
  {
   "cell_type": "code",
   "execution_count": 293,
   "metadata": {},
   "outputs": [],
   "source": [
    "InSM1 = (inservicemode1[0].total_seconds()/3600)/length1.days\n",
    "InSM2 = (inservicemode2[0].total_seconds()/3600)/length2.days\n",
    "InSM3 = (inservicemode3[0].total_seconds()/3600)/length3.days\n",
    "InSM4 = (inservicemode4[0].total_seconds()/3600)/length4.days\n",
    "InSM5 = (inservicemode5[0].total_seconds()/3600)/length5.days\n",
    "InSM6 = (inservicemode6[0].total_seconds()/3600)/length6.days\n",
    "InSM7 = (inservicemode7[0].total_seconds()/3600)/length7.days\n",
    "InSM8 = (inservicemode8[0].total_seconds()/3600)/length8.days\n",
    "InSM9 = (inservicemode9[0].total_seconds()/3600)/length9.days\n"
   ]
  },
  {
   "cell_type": "code",
   "execution_count": 294,
   "metadata": {},
   "outputs": [],
   "source": [
    "NotInSM1 = (notinservicemode1[0].total_seconds()/3600)/length1.days\n",
    "NotInSM2 = (notinservicemode2[0].total_seconds()/3600)/length2.days\n",
    "NotInSM3 = (notinservicemode3[0].total_seconds()/3600)/length3.days\n",
    "NotInSM4 = (notinservicemode4[0].total_seconds()/3600)/length4.days\n",
    "NotInSM5 = (notinservicemode5[0].total_seconds()/3600)/length5.days\n",
    "NotInSM6 = (notinservicemode6[0].total_seconds()/3600)/length6.days\n",
    "NotInSM7 = (notinservicemode7[0].total_seconds()/3600)/length7.days\n",
    "NotInSM8 = (notinservicemode8[0].total_seconds()/3600)/length8.days\n",
    "NotInSM9 = (notinservicemode9[0].total_seconds()/3600)/length9.days"
   ]
  },
  {
   "cell_type": "code",
   "execution_count": 295,
   "metadata": {},
   "outputs": [
    {
     "data": {
      "image/png": "[encoded data removed]",
      "text/plain": [
       "<Figure size 1200x800 with 1 Axes>"
      ]
     },
     "metadata": {},
     "output_type": "display_data"
    }
   ],
   "source": [
    "import numpy as np\n",
    "import matplotlib.pyplot as plt\n",
    " \n",
    "# set width of bar\n",
    "barWidth = 0.25\n",
    "fig = plt.subplots(figsize =(12, 8))\n",
    " \n",
    "# set height of bar\n",
    "InServiceMode = [InSM1, InSM2, InSM3, InSM4, InSM5, InSM6, InSM7, InSM8, InSM9]\n",
    "NotInServiceMode = [NotInSM1, NotInSM2, NotInSM3, NotInSM4, NotInSM5, NotInSM6, NotInSM7, NotInSM8, NotInSM9]\n",
    "\n",
    " \n",
    "# Set position of bar on X axis\n",
    "br1 = np.arange(len(InServiceMode))\n",
    "br2 = [x + barWidth for x in br1]\n",
    "\n",
    " \n",
    "# Make the plot\n",
    "plt.bar(br1, InServiceMode, color ='r', width = barWidth,\n",
    "        edgecolor ='grey', label ='InServiceMode')\n",
    "plt.bar(br2, NotInServiceMode, color ='g', width = barWidth,\n",
    "         edgecolor ='grey', label ='NotInServiceMode')\n",
    "\n",
    " \n",
    "# Adding Xticks\n",
    "plt.xlabel('Mikroskop', fontweight ='bold', fontsize = 15)\n",
    "plt.ylabel('Interval', fontweight ='bold', fontsize = 15)\n",
    "plt.xticks([r + barWidth for r in range(len(InServiceMode))],\n",
    "        [\"Aquilos\", 'Arctis', 'CryoFIB', \"Centrios\", \"Quanta 3D FEG\", \"Aquilos G2+\", \"Helios 6\", \"Helios PFIB Hydra\", \"Scio\"])\n",
    "\n",
    "plt.title(\"Average number of hours in/not in Service Mode\") \n",
    "plt.legend()\n",
    "plt.show()"
   ]
  },
  {
   "cell_type": "code",
   "execution_count": 296,
   "metadata": {},
   "outputs": [],
   "source": [
    "df_externalstate1= data1_dropped[[\"DateTime\", \"ExternalState\"]]\n",
    "df_externalstate2= data2_dropped[[\"DateTime\", \"ExternalState\"]]\n",
    "df_externalstate3= data3_dropped[[\"DateTime\", \"ExternalState\"]]\n",
    "df_externalstate4= data4_dropped[[\"DateTime\", \"ExternalState\"]]\n",
    "df_externalstate5= data5_dropped[[\"DateTime\", \"ExternalState\"]]\n",
    "df_externalstate6= data6_dropped[[\"DateTime\", \"ExternalState\"]]\n",
    "df_externalstate7= data7_dropped[[\"DateTime\", \"ExternalState\"]]\n",
    "df_externalstate8= data8_dropped[[\"DateTime\", \"ExternalState\"]]\n",
    "df_externalstate9= data9_dropped[[\"DateTime\", \"ExternalState\"]]\n",
    "                                 "
   ]
  },
  {
   "cell_type": "code",
   "execution_count": 297,
   "metadata": {},
   "outputs": [],
   "source": [
    "df_externalstate1=df_externalstate1.loc[df_externalstate1[\"ExternalState\"].astype(int).diff() != 0]\n",
    "df_externalstate2=df_externalstate2.loc[df_externalstate2[\"ExternalState\"].astype(int).diff() != 0]\n",
    "df_externalstate3=df_externalstate3.loc[df_externalstate3[\"ExternalState\"].astype(int).diff() != 0]\n",
    "df_externalstate4=df_externalstate4.loc[df_externalstate4[\"ExternalState\"].astype(int).diff() != 0]\n",
    "df_externalstate5=df_externalstate5.loc[df_externalstate5[\"ExternalState\"].astype(int).diff() != 0]\n",
    "df_externalstate6=df_externalstate6.loc[df_externalstate6[\"ExternalState\"].astype(int).diff() != 0]\n",
    "df_externalstate7=df_externalstate7.loc[df_externalstate7[\"ExternalState\"].astype(int).diff() != 0]\n",
    "df_externalstate8=df_externalstate8.loc[df_externalstate8[\"ExternalState\"].astype(int).diff() != 0]\n",
    "df_externalstate9=df_externalstate9.loc[df_externalstate9[\"ExternalState\"].astype(int).diff() != 0]"
   ]
  },
  {
   "cell_type": "code",
   "execution_count": 298,
   "metadata": {},
   "outputs": [],
   "source": [
    "df_externalstate1[\"difference\"] =df_externalstate1[\"DateTime\"].diff()\n",
    "df_externalstate2[\"difference\"] =df_externalstate2[\"DateTime\"].diff()\n",
    "df_externalstate3[\"difference\"] =df_externalstate3[\"DateTime\"].diff()\n",
    "df_externalstate4[\"difference\"] =df_externalstate4[\"DateTime\"].diff()\n",
    "df_externalstate5[\"difference\"] =df_externalstate5[\"DateTime\"].diff()\n",
    "df_externalstate6[\"difference\"] =df_externalstate6[\"DateTime\"].diff()\n",
    "df_externalstate7[\"difference\"] =df_externalstate7[\"DateTime\"].diff()\n",
    "df_externalstate8[\"difference\"] =df_externalstate8[\"DateTime\"].diff()\n",
    "df_externalstate9[\"difference\"] =df_externalstate9[\"DateTime\"].diff()"
   ]
  },
  {
   "cell_type": "code",
   "execution_count": 299,
   "metadata": {},
   "outputs": [
    {
     "data": {
      "text/html": [
       "<div>\n",
       "<style scoped>\n",
       "    .dataframe tbody tr th:only-of-type {\n",
       "        vertical-align: middle;\n",
       "    }\n",
       "\n",
       "    .dataframe tbody tr th {\n",
       "        vertical-align: top;\n",
       "    }\n",
       "\n",
       "    .dataframe thead th {\n",
       "        text-align: right;\n",
       "    }\n",
       "</style>\n",
       "<table border=\"1\" class=\"dataframe\">\n",
       "  <thead>\n",
       "    <tr style=\"text-align: right;\">\n",
       "      <th></th>\n",
       "      <th>DateTime</th>\n",
       "      <th>ExternalState</th>\n",
       "      <th>difference</th>\n",
       "    </tr>\n",
       "  </thead>\n",
       "  <tbody>\n",
       "    <tr>\n",
       "      <th>277</th>\n",
       "      <td>2020-10-05 15:48:23.227</td>\n",
       "      <td>4</td>\n",
       "      <td>3 days 14:56:16.788000</td>\n",
       "    </tr>\n",
       "    <tr>\n",
       "      <th>24201</th>\n",
       "      <td>2020-10-09 06:44:40.015</td>\n",
       "      <td>6</td>\n",
       "      <td>0 days 00:01:15.921000</td>\n",
       "    </tr>\n",
       "    <tr>\n",
       "      <th>24203</th>\n",
       "      <td>2020-10-09 06:45:55.936</td>\n",
       "      <td>1</td>\n",
       "      <td>0 days 19:49:22.883000</td>\n",
       "    </tr>\n",
       "    <tr>\n",
       "      <th>25450</th>\n",
       "      <td>2020-10-10 02:35:18.819</td>\n",
       "      <td>2</td>\n",
       "      <td>0 days 01:24:48.251000</td>\n",
       "    </tr>\n",
       "    <tr>\n",
       "      <th>25540</th>\n",
       "      <td>2020-10-10 04:00:07.070</td>\n",
       "      <td>6</td>\n",
       "      <td>0 days 00:00:03.918000</td>\n",
       "    </tr>\n",
       "    <tr>\n",
       "      <th>...</th>\n",
       "      <td>...</td>\n",
       "      <td>...</td>\n",
       "      <td>...</td>\n",
       "    </tr>\n",
       "    <tr>\n",
       "      <th>908617</th>\n",
       "      <td>2021-01-31 04:59:09.466</td>\n",
       "      <td>4</td>\n",
       "      <td>3 days 01:36:09.050000</td>\n",
       "    </tr>\n",
       "    <tr>\n",
       "      <th>929602</th>\n",
       "      <td>2021-02-03 06:35:18.516</td>\n",
       "      <td>2</td>\n",
       "      <td>0 days 00:00:02.551000</td>\n",
       "    </tr>\n",
       "    <tr>\n",
       "      <th>929603</th>\n",
       "      <td>2021-02-03 06:35:21.067</td>\n",
       "      <td>5</td>\n",
       "      <td>0 days 00:01:24.636000</td>\n",
       "    </tr>\n",
       "    <tr>\n",
       "      <th>929607</th>\n",
       "      <td>2021-02-03 06:36:45.703</td>\n",
       "      <td>3</td>\n",
       "      <td>0 days 00:04:52.297000</td>\n",
       "    </tr>\n",
       "    <tr>\n",
       "      <th>929613</th>\n",
       "      <td>2021-02-03 06:41:38.000</td>\n",
       "      <td>4</td>\n",
       "      <td>NaT</td>\n",
       "    </tr>\n",
       "  </tbody>\n",
       "</table>\n",
       "<p>233 rows × 3 columns</p>\n",
       "</div>"
      ],
      "text/plain": [
       "                      DateTime  ExternalState             difference\n",
       "277    2020-10-05 15:48:23.227              4 3 days 14:56:16.788000\n",
       "24201  2020-10-09 06:44:40.015              6 0 days 00:01:15.921000\n",
       "24203  2020-10-09 06:45:55.936              1 0 days 19:49:22.883000\n",
       "25450  2020-10-10 02:35:18.819              2 0 days 01:24:48.251000\n",
       "25540  2020-10-10 04:00:07.070              6 0 days 00:00:03.918000\n",
       "...                        ...            ...                    ...\n",
       "908617 2021-01-31 04:59:09.466              4 3 days 01:36:09.050000\n",
       "929602 2021-02-03 06:35:18.516              2 0 days 00:00:02.551000\n",
       "929603 2021-02-03 06:35:21.067              5 0 days 00:01:24.636000\n",
       "929607 2021-02-03 06:36:45.703              3 0 days 00:04:52.297000\n",
       "929613 2021-02-03 06:41:38.000              4                    NaT\n",
       "\n",
       "[233 rows x 3 columns]"
      ]
     },
     "execution_count": 299,
     "metadata": {},
     "output_type": "execute_result"
    }
   ],
   "source": [
    "\n",
    "\n",
    "df_externalstate1[\"difference\"]=df_externalstate1[\"difference\"].shift(-1)\n",
    "df_externalstate1\n",
    "\n",
    "df_externalstate2[\"difference\"]=df_externalstate2[\"difference\"].shift(-1)\n",
    "df_externalstate2\n",
    "\n",
    "df_externalstate3[\"difference\"]=df_externalstate3[\"difference\"].shift(-1)\n",
    "df_externalstate3\n",
    "\n",
    "df_externalstate4[\"difference\"]=df_externalstate4[\"difference\"].shift(-1)\n",
    "df_externalstate4\n",
    "\n",
    "df_externalstate5[\"difference\"]=df_externalstate5[\"difference\"].shift(-1)\n",
    "df_externalstate5\n",
    "\n",
    "df_externalstate6[\"difference\"]=df_externalstate6[\"difference\"].shift(-1)\n",
    "df_externalstate6\n",
    "\n",
    "df_externalstate7[\"difference\"]=df_externalstate7[\"difference\"].shift(-1)\n",
    "df_externalstate7\n",
    "\n",
    "df_externalstate8[\"difference\"]=df_externalstate8[\"difference\"].shift(-1)\n",
    "df_externalstate8\n",
    "\n",
    "df_externalstate9[\"difference\"]=df_externalstate9[\"difference\"].shift(-1)\n",
    "df_externalstate9\n",
    "\n"
   ]
  },
  {
   "cell_type": "code",
   "execution_count": 300,
   "metadata": {},
   "outputs": [],
   "source": [
    "# df_externalstate_4= df_externalstate1.loc[df_externalstate1[\"ExternalState\"] ==4]\n",
    "\n",
    "# df2_externalstate_4= df_externalstate2.loc[df_externalstate2[\"ExternalState\"] ==4]"
   ]
  },
  {
   "cell_type": "code",
   "execution_count": 301,
   "metadata": {},
   "outputs": [],
   "source": [
    "# maintain1= df_externalstate_4= df_externalstate_4[\"diff\"].sum()\n"
   ]
  },
  {
   "cell_type": "code",
   "execution_count": 302,
   "metadata": {},
   "outputs": [],
   "source": [
    "# df_externalstate_1= df_externalstate1.loc[df_externalstate1[\"ExternalState\"] ==1]"
   ]
  },
  {
   "cell_type": "code",
   "execution_count": 303,
   "metadata": {},
   "outputs": [],
   "source": [
    "# disabled= df_externalstate_1= df_externalstate_1[\"diff\"].sum()"
   ]
  },
  {
   "cell_type": "code",
   "execution_count": 304,
   "metadata": {},
   "outputs": [
    {
     "name": "stderr",
     "output_type": "stream",
     "text": [
      "C:\\Users\\iveta\\AppData\\Local\\Temp\\ipykernel_7552\\2414089952.py:1: FutureWarning:\n",
      "\n",
      "The default value of numeric_only in DataFrameGroupBy.sum is deprecated. In a future version, numeric_only will default to False. Either specify numeric_only or select only columns which should be valid for the function.\n",
      "\n",
      "C:\\Users\\iveta\\AppData\\Local\\Temp\\ipykernel_7552\\2414089952.py:2: FutureWarning:\n",
      "\n",
      "The default value of numeric_only in DataFrameGroupBy.sum is deprecated. In a future version, numeric_only will default to False. Either specify numeric_only or select only columns which should be valid for the function.\n",
      "\n",
      "C:\\Users\\iveta\\AppData\\Local\\Temp\\ipykernel_7552\\2414089952.py:3: FutureWarning:\n",
      "\n",
      "The default value of numeric_only in DataFrameGroupBy.sum is deprecated. In a future version, numeric_only will default to False. Either specify numeric_only or select only columns which should be valid for the function.\n",
      "\n",
      "C:\\Users\\iveta\\AppData\\Local\\Temp\\ipykernel_7552\\2414089952.py:4: FutureWarning:\n",
      "\n",
      "The default value of numeric_only in DataFrameGroupBy.sum is deprecated. In a future version, numeric_only will default to False. Either specify numeric_only or select only columns which should be valid for the function.\n",
      "\n",
      "C:\\Users\\iveta\\AppData\\Local\\Temp\\ipykernel_7552\\2414089952.py:5: FutureWarning:\n",
      "\n",
      "The default value of numeric_only in DataFrameGroupBy.sum is deprecated. In a future version, numeric_only will default to False. Either specify numeric_only or select only columns which should be valid for the function.\n",
      "\n",
      "C:\\Users\\iveta\\AppData\\Local\\Temp\\ipykernel_7552\\2414089952.py:6: FutureWarning:\n",
      "\n",
      "The default value of numeric_only in DataFrameGroupBy.sum is deprecated. In a future version, numeric_only will default to False. Either specify numeric_only or select only columns which should be valid for the function.\n",
      "\n",
      "C:\\Users\\iveta\\AppData\\Local\\Temp\\ipykernel_7552\\2414089952.py:7: FutureWarning:\n",
      "\n",
      "The default value of numeric_only in DataFrameGroupBy.sum is deprecated. In a future version, numeric_only will default to False. Either specify numeric_only or select only columns which should be valid for the function.\n",
      "\n",
      "C:\\Users\\iveta\\AppData\\Local\\Temp\\ipykernel_7552\\2414089952.py:8: FutureWarning:\n",
      "\n",
      "The default value of numeric_only in DataFrameGroupBy.sum is deprecated. In a future version, numeric_only will default to False. Either specify numeric_only or select only columns which should be valid for the function.\n",
      "\n",
      "C:\\Users\\iveta\\AppData\\Local\\Temp\\ipykernel_7552\\2414089952.py:9: FutureWarning:\n",
      "\n",
      "The default value of numeric_only in DataFrameGroupBy.sum is deprecated. In a future version, numeric_only will default to False. Either specify numeric_only or select only columns which should be valid for the function.\n",
      "\n"
     ]
    }
   ],
   "source": [
    "df1_groupped = df_externalstate1.groupby(['ExternalState']).sum()\n",
    "df2_groupped = df_externalstate2.groupby(['ExternalState']).sum()\n",
    "df3_groupped = df_externalstate3.groupby(['ExternalState']).sum()\n",
    "df4_groupped = df_externalstate4.groupby(['ExternalState']).sum()\n",
    "df5_groupped = df_externalstate5.groupby(['ExternalState']).sum()\n",
    "df6_groupped = df_externalstate6.groupby(['ExternalState']).sum()\n",
    "df7_groupped = df_externalstate7.groupby(['ExternalState']).sum()\n",
    "df8_groupped = df_externalstate8.groupby(['ExternalState']).sum()\n",
    "df9_groupped = df_externalstate9.groupby(['ExternalState']).sum()\n"
   ]
  },
  {
   "cell_type": "code",
   "execution_count": 305,
   "metadata": {},
   "outputs": [],
   "source": [
    "df1_groupped.to_csv(\"ES_Aquilos.csv\")\n",
    "df2_groupped.to_csv(\"ES_Arctis.csv\")\n",
    "df3_groupped.to_csv(\"ES_CryoFIB.csv\")\n",
    "df4_groupped.to_csv(\"ES_Centrios.csv\")\n",
    "df5_groupped.to_csv(\"ES_Quanta 3D FEG.csv\")\n",
    "df6_groupped.to_csv(\"ES_Aquilos G2+.csv\")\n",
    "df7_groupped.to_csv(\"ES_Helios 6.csv\")\n",
    "df8_groupped.to_csv(\"ES_Helios PFIB Hydra.csv\")\n",
    "df9_groupped.to_csv(\"ES_Scio.csv\")\n",
    "\n"
   ]
  },
  {
   "cell_type": "code",
   "execution_count": 306,
   "metadata": {},
   "outputs": [],
   "source": [
    "# df_tezba1= data1_dropped[(data1_dropped[\"ServerWatchdog\"]==1) &\n",
    "#                     (data1_dropped[\"BeamisOn\"]==1) &\n",
    "#                     (data1_dropped[\"IsBlanked\"]==0) &\n",
    "#                     (data1_dropped[\"ExternalState\"]==4) &\n",
    "#                     (data1_dropped[\"ServiceMOdeIsOn\"]==0)]\n",
    "                     \n",
    "# df_tezba1\n",
    "\n",
    "# column_names= [\"Date\", \"Time\", \"ServerWatchdog\", \"BeamisOn\", \"ExternalState\", \"IsBlanked\", \"ServiceModeIsOn\"]"
   ]
  },
  {
   "cell_type": "code",
   "execution_count": null,
   "metadata": {},
   "outputs": [],
   "source": []
  },
  {
   "cell_type": "code",
   "execution_count": 307,
   "metadata": {},
   "outputs": [
    {
     "data": {
      "text/html": [
       "<div>\n",
       "<style scoped>\n",
       "    .dataframe tbody tr th:only-of-type {\n",
       "        vertical-align: middle;\n",
       "    }\n",
       "\n",
       "    .dataframe tbody tr th {\n",
       "        vertical-align: top;\n",
       "    }\n",
       "\n",
       "    .dataframe thead th {\n",
       "        text-align: right;\n",
       "    }\n",
       "</style>\n",
       "<table border=\"1\" class=\"dataframe\">\n",
       "  <thead>\n",
       "    <tr style=\"text-align: right;\">\n",
       "      <th></th>\n",
       "      <th>DateTime</th>\n",
       "      <th>ServerWatchdog</th>\n",
       "      <th>BeamisOn</th>\n",
       "      <th>ExternalState</th>\n",
       "      <th>IsBlanked</th>\n",
       "      <th>ServiceModeIsOn</th>\n",
       "      <th>ServiceMOdeIsOn</th>\n",
       "      <th>extraction</th>\n",
       "    </tr>\n",
       "  </thead>\n",
       "  <tbody>\n",
       "    <tr>\n",
       "      <th>108</th>\n",
       "      <td>2020-11-25 09:36:37.881</td>\n",
       "      <td>1</td>\n",
       "      <td>1</td>\n",
       "      <td>4</td>\n",
       "      <td>0</td>\n",
       "      <td>0</td>\n",
       "      <td>0</td>\n",
       "      <td>1</td>\n",
       "    </tr>\n",
       "    <tr>\n",
       "      <th>109</th>\n",
       "      <td>2020-11-25 09:36:42.104</td>\n",
       "      <td>1</td>\n",
       "      <td>1</td>\n",
       "      <td>4</td>\n",
       "      <td>1</td>\n",
       "      <td>0</td>\n",
       "      <td>0</td>\n",
       "      <td>0</td>\n",
       "    </tr>\n",
       "    <tr>\n",
       "      <th>110</th>\n",
       "      <td>2020-11-25 09:36:44.704</td>\n",
       "      <td>1</td>\n",
       "      <td>1</td>\n",
       "      <td>4</td>\n",
       "      <td>0</td>\n",
       "      <td>0</td>\n",
       "      <td>0</td>\n",
       "      <td>1</td>\n",
       "    </tr>\n",
       "    <tr>\n",
       "      <th>111</th>\n",
       "      <td>2020-11-25 09:37:23.131</td>\n",
       "      <td>1</td>\n",
       "      <td>1</td>\n",
       "      <td>4</td>\n",
       "      <td>0</td>\n",
       "      <td>0</td>\n",
       "      <td>0</td>\n",
       "      <td>1</td>\n",
       "    </tr>\n",
       "    <tr>\n",
       "      <th>112</th>\n",
       "      <td>2020-11-25 09:38:06.259</td>\n",
       "      <td>1</td>\n",
       "      <td>1</td>\n",
       "      <td>4</td>\n",
       "      <td>1</td>\n",
       "      <td>0</td>\n",
       "      <td>0</td>\n",
       "      <td>0</td>\n",
       "    </tr>\n",
       "    <tr>\n",
       "      <th>...</th>\n",
       "      <td>...</td>\n",
       "      <td>...</td>\n",
       "      <td>...</td>\n",
       "      <td>...</td>\n",
       "      <td>...</td>\n",
       "      <td>...</td>\n",
       "      <td>...</td>\n",
       "      <td>...</td>\n",
       "    </tr>\n",
       "    <tr>\n",
       "      <th>444817</th>\n",
       "      <td>2021-02-23 07:55:00.520</td>\n",
       "      <td>1</td>\n",
       "      <td>0</td>\n",
       "      <td>4</td>\n",
       "      <td>1</td>\n",
       "      <td>1</td>\n",
       "      <td>1</td>\n",
       "      <td>0</td>\n",
       "    </tr>\n",
       "    <tr>\n",
       "      <th>444818</th>\n",
       "      <td>2021-02-23 07:56:00.519</td>\n",
       "      <td>1</td>\n",
       "      <td>0</td>\n",
       "      <td>4</td>\n",
       "      <td>1</td>\n",
       "      <td>1</td>\n",
       "      <td>1</td>\n",
       "      <td>0</td>\n",
       "    </tr>\n",
       "    <tr>\n",
       "      <th>444819</th>\n",
       "      <td>2021-02-23 07:57:00.519</td>\n",
       "      <td>1</td>\n",
       "      <td>0</td>\n",
       "      <td>4</td>\n",
       "      <td>1</td>\n",
       "      <td>1</td>\n",
       "      <td>1</td>\n",
       "      <td>0</td>\n",
       "    </tr>\n",
       "    <tr>\n",
       "      <th>444820</th>\n",
       "      <td>2021-02-23 07:58:00.519</td>\n",
       "      <td>1</td>\n",
       "      <td>0</td>\n",
       "      <td>4</td>\n",
       "      <td>1</td>\n",
       "      <td>1</td>\n",
       "      <td>1</td>\n",
       "      <td>0</td>\n",
       "    </tr>\n",
       "    <tr>\n",
       "      <th>444821</th>\n",
       "      <td>2021-02-23 07:59:00.520</td>\n",
       "      <td>1</td>\n",
       "      <td>0</td>\n",
       "      <td>4</td>\n",
       "      <td>1</td>\n",
       "      <td>1</td>\n",
       "      <td>1</td>\n",
       "      <td>0</td>\n",
       "    </tr>\n",
       "  </tbody>\n",
       "</table>\n",
       "<p>444714 rows × 8 columns</p>\n",
       "</div>"
      ],
      "text/plain": [
       "                      DateTime  ServerWatchdog  BeamisOn  ExternalState  \\\n",
       "108    2020-11-25 09:36:37.881               1         1              4   \n",
       "109    2020-11-25 09:36:42.104               1         1              4   \n",
       "110    2020-11-25 09:36:44.704               1         1              4   \n",
       "111    2020-11-25 09:37:23.131               1         1              4   \n",
       "112    2020-11-25 09:38:06.259               1         1              4   \n",
       "...                        ...             ...       ...            ...   \n",
       "444817 2021-02-23 07:55:00.520               1         0              4   \n",
       "444818 2021-02-23 07:56:00.519               1         0              4   \n",
       "444819 2021-02-23 07:57:00.519               1         0              4   \n",
       "444820 2021-02-23 07:58:00.519               1         0              4   \n",
       "444821 2021-02-23 07:59:00.520               1         0              4   \n",
       "\n",
       "        IsBlanked ServiceModeIsOn  ServiceMOdeIsOn extraction  \n",
       "108             0               0                0          1  \n",
       "109             1               0                0          0  \n",
       "110             0               0                0          1  \n",
       "111             0               0                0          1  \n",
       "112             1               0                0          0  \n",
       "...           ...             ...              ...        ...  \n",
       "444817          1               1                1          0  \n",
       "444818          1               1                1          0  \n",
       "444819          1               1                1          0  \n",
       "444820          1               1                1          0  \n",
       "444821          1               1                1          0  \n",
       "\n",
       "[444714 rows x 8 columns]"
      ]
     },
     "execution_count": 307,
     "metadata": {},
     "output_type": "execute_result"
    }
   ],
   "source": [
    "data1_dropped[\"extraction\"]= np.where (\n",
    "                                   (data1_dropped[\"ServerWatchdog\"]==1) &\n",
    "                   (data1_dropped[\"BeamisOn\"]==1) &\n",
    "                    (data1_dropped[\"IsBlanked\"]==0) &\n",
    "                    (data1_dropped[\"ExternalState\"]==4) &\n",
    "                    (data1_dropped[\"ServiceMOdeIsOn\"]==0), \"1\", \"0\")\n",
    "\n",
    "\n",
    "data2_dropped[\"extraction\"]= np.where (\n",
    "                                   (data2_dropped[\"ServerWatchdog\"]==1) &\n",
    "                   (data2_dropped[\"BeamisOn\"]==1) &\n",
    "                    (data2_dropped[\"IsBlanked\"]==0) &\n",
    "                    (data2_dropped[\"ExternalState\"]==4) &\n",
    "                    (data2_dropped[\"ServiceMOdeIsOn\"]==0), \"1\", \"0\")\n",
    "\n",
    "\n",
    "\n",
    "data3_dropped[\"extraction\"]= np.where (\n",
    "                                   (data3_dropped[\"ServerWatchdog\"]==1) &\n",
    "                   (data3_dropped[\"BeamisOn\"]==1) &\n",
    "                    (data3_dropped[\"IsBlanked\"]==0) &\n",
    "                    (data3_dropped[\"ExternalState\"]==4) &\n",
    "                    (data3_dropped[\"ServiceMOdeIsOn\"]==0), \"1\", \"0\")\n",
    "\n",
    "\n",
    "\n",
    "data4_dropped[\"extraction\"]= np.where (\n",
    "                                   (data4_dropped[\"ServerWatchdog\"]==1) &\n",
    "                   (data4_dropped[\"BeamisOn\"]==1) &\n",
    "                    (data4_dropped[\"IsBlanked\"]==0) &\n",
    "                    (data4_dropped[\"ExternalState\"]==4) &\n",
    "                    (data4_dropped[\"ServiceMOdeIsOn\"]==0), \"1\", \"0\")\n",
    "\n",
    "\n",
    "\n",
    "data5_dropped[\"extraction\"]= np.where (\n",
    "                                   (data5_dropped[\"ServerWatchdog\"]==1) &\n",
    "                   (data5_dropped[\"BeamisOn\"]==1) &\n",
    "                    (data5_dropped[\"IsBlanked\"]==0) &\n",
    "                    (data5_dropped[\"ExternalState\"]==4) &\n",
    "                    (data5_dropped[\"ServiceMOdeIsOn\"]==0), \"1\", \"0\")\n",
    "\n",
    "\n",
    "\n",
    "data6_dropped[\"extraction\"]= np.where (\n",
    "                                   (data6_dropped[\"ServerWatchdog\"]==1) &\n",
    "                   (data6_dropped[\"BeamisOn\"]==1) &\n",
    "                    (data6_dropped[\"IsBlanked\"]==0) &\n",
    "                    (data6_dropped[\"ExternalState\"]==4) &\n",
    "                    (data6_dropped[\"ServiceMOdeIsOn\"]==0), \"1\", \"0\")\n",
    "\n",
    "\n",
    "\n",
    "data7_dropped[\"extraction\"]= np.where (\n",
    "                                   (data7_dropped[\"ServerWatchdog\"]==1) &\n",
    "                   (data7_dropped[\"BeamisOn\"]==1) &\n",
    "                    (data7_dropped[\"IsBlanked\"]==0) &\n",
    "                    (data7_dropped[\"ExternalState\"]==4) &\n",
    "                    (data7_dropped[\"ServiceMOdeIsOn\"]==0), \"1\", \"0\")\n",
    "\n",
    "\n",
    "data8_dropped[\"extraction\"]= np.where (\n",
    "                                   (data8_dropped[\"ServerWatchdog\"]==1) &\n",
    "                   (data8_dropped[\"BeamisOn\"]==1) &\n",
    "                    (data8_dropped[\"IsBlanked\"]==0) &\n",
    "                    (data8_dropped[\"ExternalState\"]==4) &\n",
    "                    (data8_dropped[\"ServiceMOdeIsOn\"]==0), \"1\", \"0\")\n",
    "\n",
    "\n",
    "\n",
    "data9_dropped[\"extraction\"]= np.where (\n",
    "                                   (data9_dropped[\"ServerWatchdog\"]==1) &\n",
    "                   (data9_dropped[\"BeamisOn\"]==1) &\n",
    "                    (data9_dropped[\"IsBlanked\"]==0) &\n",
    "                    (data9_dropped[\"ExternalState\"]==4) &\n",
    "                    (data9_dropped[\"ServiceMOdeIsOn\"]==0), \"1\", \"0\")\n",
    "\n",
    "data1_dropped"
   ]
  },
  {
   "cell_type": "code",
   "execution_count": 308,
   "metadata": {},
   "outputs": [],
   "source": [
    "data1_dropped[\"extraction\"]= data1_dropped[\"extraction\"].astype(int)\n",
    "data2_dropped[\"extraction\"]= data2_dropped[\"extraction\"].astype(int)\n",
    "data3_dropped[\"extraction\"]= data3_dropped[\"extraction\"].astype(int)\n",
    "data4_dropped[\"extraction\"]= data4_dropped[\"extraction\"].astype(int)\n",
    "data5_dropped[\"extraction\"]= data5_dropped[\"extraction\"].astype(int)\n",
    "data6_dropped[\"extraction\"]= data6_dropped[\"extraction\"].astype(int)\n",
    "data7_dropped[\"extraction\"]= data7_dropped[\"extraction\"].astype(int)\n",
    "data8_dropped[\"extraction\"]= data8_dropped[\"extraction\"].astype(int)\n",
    "data9_dropped[\"extraction\"]= data9_dropped[\"extraction\"].astype(int)\n",
    "\n"
   ]
  },
  {
   "cell_type": "code",
   "execution_count": 309,
   "metadata": {},
   "outputs": [],
   "source": [
    "extraction1= data1_dropped[[\"DateTime\", \"extraction\"]]\n",
    "extraction2= data2_dropped[[\"DateTime\", \"extraction\"]]\n",
    "extraction3= data3_dropped[[\"DateTime\", \"extraction\"]]\n",
    "extraction4= data4_dropped[[\"DateTime\", \"extraction\"]]\n",
    "extraction5= data5_dropped[[\"DateTime\", \"extraction\"]]\n",
    "extraction6= data6_dropped[[\"DateTime\", \"extraction\"]]\n",
    "extraction7= data7_dropped[[\"DateTime\", \"extraction\"]]\n",
    "extraction8= data8_dropped[[\"DateTime\", \"extraction\"]]\n",
    "extraction9= data9_dropped[[\"DateTime\", \"extraction\"]]"
   ]
  },
  {
   "cell_type": "code",
   "execution_count": 310,
   "metadata": {},
   "outputs": [],
   "source": [
    "extraction1=  extraction1.loc[extraction1[\"extraction\"].astype(int).diff() != 0]\n",
    "extraction2=  extraction2.loc[extraction2[\"extraction\"].astype(int).diff() != 0]\n",
    "extraction3=  extraction3.loc[extraction3[\"extraction\"].astype(int).diff() != 0]\n",
    "extraction4=  extraction4.loc[extraction4[\"extraction\"].astype(int).diff() != 0]\n",
    "extraction5=  extraction5.loc[extraction5[\"extraction\"].astype(int).diff() != 0]\n",
    "extraction6=  extraction6.loc[extraction6[\"extraction\"].astype(int).diff() != 0]\n",
    "extraction7=  extraction7.loc[extraction7[\"extraction\"].astype(int).diff() != 0]\n",
    "extraction8=  extraction8.loc[extraction8[\"extraction\"].astype(int).diff() != 0]\n",
    "extraction9=  extraction9.loc[extraction9[\"extraction\"].astype(int).diff() != 0]\n",
    "\n"
   ]
  },
  {
   "cell_type": "code",
   "execution_count": 311,
   "metadata": {},
   "outputs": [
    {
     "data": {
      "text/html": [
       "<div>\n",
       "<style scoped>\n",
       "    .dataframe tbody tr th:only-of-type {\n",
       "        vertical-align: middle;\n",
       "    }\n",
       "\n",
       "    .dataframe tbody tr th {\n",
       "        vertical-align: top;\n",
       "    }\n",
       "\n",
       "    .dataframe thead th {\n",
       "        text-align: right;\n",
       "    }\n",
       "</style>\n",
       "<table border=\"1\" class=\"dataframe\">\n",
       "  <thead>\n",
       "    <tr style=\"text-align: right;\">\n",
       "      <th></th>\n",
       "      <th>DateTime</th>\n",
       "      <th>extraction</th>\n",
       "    </tr>\n",
       "  </thead>\n",
       "  <tbody>\n",
       "    <tr>\n",
       "      <th>108</th>\n",
       "      <td>NaT</td>\n",
       "      <td>NaN</td>\n",
       "    </tr>\n",
       "    <tr>\n",
       "      <th>109</th>\n",
       "      <td>0 days 00:00:04.223000</td>\n",
       "      <td>-1.0</td>\n",
       "    </tr>\n",
       "    <tr>\n",
       "      <th>110</th>\n",
       "      <td>0 days 00:00:02.600000</td>\n",
       "      <td>1.0</td>\n",
       "    </tr>\n",
       "    <tr>\n",
       "      <th>112</th>\n",
       "      <td>0 days 00:01:21.555000</td>\n",
       "      <td>-1.0</td>\n",
       "    </tr>\n",
       "    <tr>\n",
       "      <th>118</th>\n",
       "      <td>0 days 00:05:07.310000</td>\n",
       "      <td>1.0</td>\n",
       "    </tr>\n",
       "    <tr>\n",
       "      <th>...</th>\n",
       "      <td>...</td>\n",
       "      <td>...</td>\n",
       "    </tr>\n",
       "    <tr>\n",
       "      <th>439062</th>\n",
       "      <td>0 days 00:01:33.401000</td>\n",
       "      <td>-1.0</td>\n",
       "    </tr>\n",
       "    <tr>\n",
       "      <th>439063</th>\n",
       "      <td>0 days 00:00:00.975000</td>\n",
       "      <td>1.0</td>\n",
       "    </tr>\n",
       "    <tr>\n",
       "      <th>439065</th>\n",
       "      <td>0 days 00:00:53.847000</td>\n",
       "      <td>-1.0</td>\n",
       "    </tr>\n",
       "    <tr>\n",
       "      <th>439067</th>\n",
       "      <td>0 days 00:00:19.212000</td>\n",
       "      <td>1.0</td>\n",
       "    </tr>\n",
       "    <tr>\n",
       "      <th>439068</th>\n",
       "      <td>0 days 00:00:00.860000</td>\n",
       "      <td>-1.0</td>\n",
       "    </tr>\n",
       "  </tbody>\n",
       "</table>\n",
       "<p>135980 rows × 2 columns</p>\n",
       "</div>"
      ],
      "text/plain": [
       "                     DateTime  extraction\n",
       "108                       NaT         NaN\n",
       "109    0 days 00:00:04.223000        -1.0\n",
       "110    0 days 00:00:02.600000         1.0\n",
       "112    0 days 00:01:21.555000        -1.0\n",
       "118    0 days 00:05:07.310000         1.0\n",
       "...                       ...         ...\n",
       "439062 0 days 00:01:33.401000        -1.0\n",
       "439063 0 days 00:00:00.975000         1.0\n",
       "439065 0 days 00:00:53.847000        -1.0\n",
       "439067 0 days 00:00:19.212000         1.0\n",
       "439068 0 days 00:00:00.860000        -1.0\n",
       "\n",
       "[135980 rows x 2 columns]"
      ]
     },
     "execution_count": 311,
     "metadata": {},
     "output_type": "execute_result"
    }
   ],
   "source": [
    "df_extraction1= extraction1.diff()\n",
    "df_extraction2= extraction2.diff()\n",
    "df_extraction3= extraction3.diff()\n",
    "df_extraction4= extraction4.diff()\n",
    "df_extraction5= extraction5.diff()\n",
    "df_extraction6= extraction6.diff()\n",
    "df_extraction7= extraction7.diff()\n",
    "df_extraction8= extraction8.diff()\n",
    "df_extraction9= extraction9.diff()\n",
    "\n",
    "df_extraction1"
   ]
  },
  {
   "cell_type": "code",
   "execution_count": 312,
   "metadata": {},
   "outputs": [
    {
     "data": {
      "text/plain": [
       "DateTime      3 days 10:45:13.288000\n",
       "extraction                  -67990.0\n",
       "dtype: object"
      ]
     },
     "execution_count": 312,
     "metadata": {},
     "output_type": "execute_result"
    }
   ],
   "source": [
    "extraction_time1= df_extraction1.loc[df_extraction1[\"extraction\"]== -1].sum()\n",
    "extraction_time2= df_extraction2.loc[df_extraction2[\"extraction\"]== -1].sum()\n",
    "extraction_time3= df_extraction3.loc[df_extraction3[\"extraction\"]== -1].sum()\n",
    "extraction_time4= df_extraction4.loc[df_extraction4[\"extraction\"]== -1].sum()\n",
    "extraction_time5= df_extraction5.loc[df_extraction5[\"extraction\"]== -1].sum()\n",
    "extraction_time6= df_extraction6.loc[df_extraction6[\"extraction\"]== -1].sum()\n",
    "extraction_time7= df_extraction7.loc[df_extraction7[\"extraction\"]== -1].sum()\n",
    "extraction_time8= df_extraction8.loc[df_extraction8[\"extraction\"]== -1].sum()\n",
    "extraction_time9= df_extraction9.loc[df_extraction9[\"extraction\"]== -1].sum()\n",
    "extraction_time1"
   ]
  },
  {
   "cell_type": "code",
   "execution_count": 313,
   "metadata": {},
   "outputs": [
    {
     "data": {
      "text/plain": [
       "DateTime      82 days 16:38:44.706000\n",
       "extraction                    67989.0\n",
       "dtype: object"
      ]
     },
     "execution_count": 313,
     "metadata": {},
     "output_type": "execute_result"
    }
   ],
   "source": [
    "rest_time1= df_extraction1.loc[df_extraction1[\"extraction\"]== 1].sum()\n",
    "rest_time1\n"
   ]
  },
  {
   "cell_type": "code",
   "execution_count": 314,
   "metadata": {},
   "outputs": [
    {
     "data": {
      "text/plain": [
       "[DateTime      3 days 10:45:13.288000\n",
       " extraction                  -67990.0\n",
       " dtype: object,\n",
       " DateTime      39 days 10:57:18.753000\n",
       " extraction                  -415961.0\n",
       " dtype: object,\n",
       " DateTime      2 days 22:39:02.344000\n",
       " extraction                  -40292.0\n",
       " dtype: object,\n",
       " DateTime      34 days 21:38:56.336000\n",
       " extraction                  -333081.0\n",
       " dtype: object,\n",
       " DateTime      35 days 22:15:16.882000\n",
       " extraction                  -401345.0\n",
       " dtype: object,\n",
       " DateTime      2 days 18:00:58.886000\n",
       " extraction                  -23685.0\n",
       " dtype: object,\n",
       " DateTime      28 days 17:15:38.596000\n",
       " extraction                  -294293.0\n",
       " dtype: object,\n",
       " DateTime      2 days 01:01:13.886000\n",
       " extraction                  -68079.0\n",
       " dtype: object,\n",
       " DateTime      36 days 10:38:56.978000\n",
       " extraction                  -358189.0\n",
       " dtype: object]"
      ]
     },
     "execution_count": 314,
     "metadata": {},
     "output_type": "execute_result"
    }
   ],
   "source": [
    "time= [extraction_time1, extraction_time2, extraction_time3, extraction_time4, extraction_time5, extraction_time6, extraction_time7, extraction_time8, extraction_time9]\n",
    "time"
   ]
  }
 ],
 "metadata": {
  "kernelspec": {
   "display_name": "Python 3",
   "language": "python",
   "name": "python3"
  },
  "language_info": {
   "codemirror_mode": {
    "name": "ipython",
    "version": 3
   },
   "file_extension": ".py",
   "mimetype": "text/x-python",
   "name": "python",
   "nbconvert_exporter": "python",
   "pygments_lexer": "ipython3",
   "version": "3.9.10"
  },
  "orig_nbformat": 4
 },
 "nbformat": 4,
 "nbformat_minor": 2
}
